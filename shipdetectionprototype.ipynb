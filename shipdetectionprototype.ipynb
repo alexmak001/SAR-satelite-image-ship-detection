{
 "cells": [
  {
   "cell_type": "code",
   "execution_count": 16,
   "metadata": {},
   "outputs": [
    {
     "data": {
      "text/html": [
       "<p>To authorize access needed by Earth Engine, open the following\n",
       "        URL in a web browser and follow the instructions:</p>\n",
       "        <p><a href=https://code.earthengine.google.com/client-auth?scopes=https%3A//www.googleapis.com/auth/earthengine%20https%3A//www.googleapis.com/auth/devstorage.full_control&request_id=AhPagtnOLCozKmUbbjeQSeQZFFwhotGgTj0PnD-FZDA&tc=gEkV422GJg_10xEV6mJNS4qVNp7vPFWXLtuVAAvlGNQ&cc=5e1cO5whl34zCV6SPvb5h1fr6_tTs0SLnFFnKPlOa-M>https://code.earthengine.google.com/client-auth?scopes=https%3A//www.googleapis.com/auth/earthengine%20https%3A//www.googleapis.com/auth/devstorage.full_control&request_id=AhPagtnOLCozKmUbbjeQSeQZFFwhotGgTj0PnD-FZDA&tc=gEkV422GJg_10xEV6mJNS4qVNp7vPFWXLtuVAAvlGNQ&cc=5e1cO5whl34zCV6SPvb5h1fr6_tTs0SLnFFnKPlOa-M</a></p>\n",
       "        <p>The authorization workflow will generate a code, which you should paste in the box below.</p>\n",
       "        "
      ],
      "text/plain": [
       "<IPython.core.display.HTML object>"
      ]
     },
     "metadata": {},
     "output_type": "display_data"
    },
    {
     "name": "stdout",
     "output_type": "stream",
     "text": [
      "\n",
      "Successfully saved authorization token.\n"
     ]
    }
   ],
   "source": [
    "import ee\n",
    "ee.Authenticate()\n",
    "ee.Initialize()\n",
    "#print(ee.Image(\"NASA/NASADEM_HGT/001\").get(\"title\").getInfo())\n",
    "import geemap\n",
    "import folium"
   ]
  },
  {
   "cell_type": "markdown",
   "metadata": {},
   "source": [
    "### Long Beach Ship Detection"
   ]
  },
  {
   "cell_type": "code",
   "execution_count": 7,
   "metadata": {},
   "outputs": [
    {
     "data": {
      "application/vnd.jupyter.widget-view+json": {
       "model_id": "1a7361287eb9411882773c11c4df10c3",
       "version_major": 2,
       "version_minor": 0
      },
      "text/plain": [
       "Map(center=[37.501, -122.1899], controls=(WidgetControl(options=['position', 'transparent_bg'], widget=HBox(ch…"
      ]
     },
     "metadata": {},
     "output_type": "display_data"
    }
   ],
   "source": [
    "# Create a default map\n",
    "Map = geemap.Map()\n",
    "\n",
    "# Load an image.\n",
    "image = ee.Image(ee.ImageCollection('LANDSAT/LC8_L1T_8DAY_TOA').first())\n",
    "\n",
    "# Create an NDWI image, define visualization parameters and display.\n",
    "ndwi = image.normalizedDifference(['B3', 'B5'])\n",
    "ndwiViz = {'min': 0.5, 'max': 1, 'palette': ['00FFFF', '0000FF']}\n",
    "Map.setCenter(-122.1899, 37.5010, zoom=10)  # LA\n",
    "Map.addLayer(ndwi, ndwiViz, 'NDWI', False)\n",
    "\n",
    "# Display the map\n",
    "Map\n"
   ]
  },
  {
   "cell_type": "code",
   "execution_count": null,
   "metadata": {},
   "outputs": [],
   "source": []
  },
  {
   "cell_type": "markdown",
   "metadata": {},
   "source": [
    "### Saving Image"
   ]
  },
  {
   "cell_type": "code",
   "execution_count": 34,
   "metadata": {},
   "outputs": [
    {
     "data": {
      "text/plain": [
       "{'type': 'Projection',\n",
       " 'crs': 'EPSG:32610',\n",
       " 'transform': [30, 0, 460785, 0, -30, 4264215]}"
      ]
     },
     "execution_count": 34,
     "metadata": {},
     "output_type": "execute_result"
    }
   ],
   "source": [
    "ee.Image(\"LANDSAT/LC08/C01/T1/LC08_044034_20140318\").select('B2').projection().getInfo()"
   ]
  },
  {
   "cell_type": "code",
   "execution_count": 35,
   "metadata": {},
   "outputs": [],
   "source": [
    "raw = ee.Image(\"LANDSAT/LC08/C01/T1/LC08_044034_20140318\").select(\"B4\",\"B3\",\"B2\")\n",
    "coord = ee.Geometry.Rectangle(33.75599777953796, -118.28713097440811,33.69432004321109, -118.16404976872677)\n",
    "projection = raw.select('B2').projection().getInfo()"
   ]
  },
  {
   "cell_type": "code",
   "execution_count": 43,
   "metadata": {},
   "outputs": [],
   "source": [
    "task = ee.batch.Export.image.toDrive(**{\n",
    "    \"image\":raw,\n",
    "    \"description\": \"test\",\n",
    "    \"folder\" :\"GEE_Images\",\n",
    "    \"scale\" : 30,\n",
    "    \"region\" : coord.getInfo()[\"coordinates\"],\n",
    "    \"maxPixels\": 1e12\n",
    "})"
   ]
  },
  {
   "cell_type": "code",
   "execution_count": 44,
   "metadata": {},
   "outputs": [],
   "source": [
    "task.start()"
   ]
  },
  {
   "cell_type": "code",
   "execution_count": 45,
   "metadata": {},
   "outputs": [],
   "source": [
    "coordUCSD = ee.Geometry.Rectangle(32.88184783597174, -117.23838846877605,32.880478306981615, -117.23652165132586)"
   ]
  },
  {
   "cell_type": "code",
   "execution_count": 50,
   "metadata": {},
   "outputs": [],
   "source": [
    "task2 = ee.batch.Export.image.toDrive(**{\n",
    "    \"image\":raw,\n",
    "    \"description\": \"testUCSD\",\n",
    "    \"folder\" :\"GEE_Images\",\n",
    "    \"scale\" : 30,\n",
    "    \"region\" : coordUCSD.getInfo()[\"coordinates\"],\n",
    "    \"maxPixels\": 1e12\n",
    "})"
   ]
  },
  {
   "cell_type": "code",
   "execution_count": 51,
   "metadata": {},
   "outputs": [],
   "source": [
    "task2.start()"
   ]
  },
  {
   "cell_type": "code",
   "execution_count": 59,
   "metadata": {},
   "outputs": [],
   "source": [
    "taskAsset = ee.batch.Export.image.toAsset(**{\n",
    "    \"image\":raw,\n",
    "    \"description\": \"testUCSDAsset\",\n",
    "    \"scale\" : 30,\n",
    "    \"region\" : coordUCSD.getInfo()[\"coordinates\"],\n",
    "    \"maxPixels\": 1e12,\n",
    "    \"assetId\": 'projects/alexmak/assets/testUCSD'\n",
    "})"
   ]
  },
  {
   "cell_type": "code",
   "execution_count": 60,
   "metadata": {},
   "outputs": [],
   "source": [
    "taskAsset.start()"
   ]
  },
  {
   "cell_type": "code",
   "execution_count": null,
   "metadata": {},
   "outputs": [],
   "source": []
  }
 ],
 "metadata": {
  "kernelspec": {
   "display_name": "Python 3.8.10 64-bit",
   "language": "python",
   "name": "python3"
  },
  "language_info": {
   "codemirror_mode": {
    "name": "ipython",
    "version": 3
   },
   "file_extension": ".py",
   "mimetype": "text/x-python",
   "name": "python",
   "nbconvert_exporter": "python",
   "pygments_lexer": "ipython3",
   "version": "3.8.10"
  },
  "orig_nbformat": 4,
  "vscode": {
   "interpreter": {
    "hash": "916dbcbb3f70747c44a77c7bcd40155683ae19c65e1c03b4aa3499c5328201f1"
   }
  }
 },
 "nbformat": 4,
 "nbformat_minor": 2
}
