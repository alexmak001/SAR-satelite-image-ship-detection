{
 "cells": [
  {
   "cell_type": "code",
   "execution_count": 13,
   "metadata": {},
   "outputs": [],
   "source": [
    "import ee\n",
    "#ee.Authenticate()\n",
    "ee.Initialize()\n",
    "#print(ee.Image(\"NASA/NASADEM_HGT/001\").get(\"title\").getInfo())\n",
    "import geemap\n",
    "import folium\n",
    "import rasterio\n",
    "from matplotlib import pyplot\n",
    "from osgeo import gdal\n",
    "import os"
   ]
  },
  {
   "cell_type": "markdown",
   "metadata": {},
   "source": [
    "### Long Beach Ship Detection"
   ]
  },
  {
   "cell_type": "code",
   "execution_count": 7,
   "metadata": {},
   "outputs": [
    {
     "data": {
      "application/vnd.jupyter.widget-view+json": {
       "model_id": "1a7361287eb9411882773c11c4df10c3",
       "version_major": 2,
       "version_minor": 0
      },
      "text/plain": [
       "Map(center=[37.501, -122.1899], controls=(WidgetControl(options=['position', 'transparent_bg'], widget=HBox(ch…"
      ]
     },
     "metadata": {},
     "output_type": "display_data"
    }
   ],
   "source": [
    "# Create a default map\n",
    "Map = geemap.Map()\n",
    "\n",
    "# Load an image.\n",
    "image = ee.Image(ee.ImageCollection('LANDSAT/LC8_L1T_8DAY_TOA').first())\n",
    "\n",
    "# Create an NDWI image, define visualization parameters and display.\n",
    "ndwi = image.normalizedDifference(['B3', 'B5'])\n",
    "ndwiViz = {'min': 0.5, 'max': 1, 'palette': ['00FFFF', '0000FF']}\n",
    "Map.setCenter(-122.1899, 37.5010, zoom=10)  # LA\n",
    "Map.addLayer(ndwi, ndwiViz, 'NDWI', False)\n",
    "\n",
    "# Display the map\n",
    "Map\n"
   ]
  },
  {
   "cell_type": "code",
   "execution_count": null,
   "metadata": {},
   "outputs": [],
   "source": []
  },
  {
   "cell_type": "markdown",
   "metadata": {},
   "source": [
    "### Saving Image"
   ]
  },
  {
   "cell_type": "code",
   "execution_count": 34,
   "metadata": {},
   "outputs": [
    {
     "data": {
      "text/plain": [
       "{'type': 'Projection',\n",
       " 'crs': 'EPSG:32610',\n",
       " 'transform': [30, 0, 460785, 0, -30, 4264215]}"
      ]
     },
     "execution_count": 34,
     "metadata": {},
     "output_type": "execute_result"
    }
   ],
   "source": [
    "ee.Image(\"LANDSAT/LC08/C01/T1/LC08_044034_20140318\").select('B2').projection().getInfo()"
   ]
  },
  {
   "cell_type": "code",
   "execution_count": 35,
   "metadata": {},
   "outputs": [],
   "source": [
    "raw = ee.Image(\"LANDSAT/LC08/C01/T1/LC08_044034_20140318\").select(\"B4\",\"B3\",\"B2\")\n",
    "coord = ee.Geometry.Rectangle(33.75599777953796, -118.28713097440811,33.69432004321109, -118.16404976872677)\n",
    "projection = raw.select('B2').projection().getInfo()"
   ]
  },
  {
   "cell_type": "code",
   "execution_count": 43,
   "metadata": {},
   "outputs": [],
   "source": [
    "task = ee.batch.Export.image.toDrive(**{\n",
    "    \"image\":raw,\n",
    "    \"description\": \"test\",\n",
    "    \"folder\" :\"GEE_Images\",\n",
    "    \"scale\" : 30,\n",
    "    \"region\" : coord.getInfo()[\"coordinates\"],\n",
    "    \"maxPixels\": 1e12\n",
    "})"
   ]
  },
  {
   "cell_type": "code",
   "execution_count": 44,
   "metadata": {},
   "outputs": [],
   "source": [
    "task.start()"
   ]
  },
  {
   "cell_type": "code",
   "execution_count": 45,
   "metadata": {},
   "outputs": [],
   "source": [
    "coordUCSD = ee.Geometry.Rectangle(32.88184783597174, -117.23838846877605,32.880478306981615, -117.23652165132586)"
   ]
  },
  {
   "cell_type": "code",
   "execution_count": 50,
   "metadata": {},
   "outputs": [],
   "source": [
    "task2 = ee.batch.Export.image.toDrive(**{\n",
    "    \"image\":raw,\n",
    "    \"description\": \"testUCSD\",\n",
    "    \"folder\" :\"GEE_Images\",\n",
    "    \"scale\" : 30,\n",
    "    \"region\" : coordUCSD.getInfo()[\"coordinates\"],\n",
    "    \"maxPixels\": 1e12\n",
    "})"
   ]
  },
  {
   "cell_type": "code",
   "execution_count": 51,
   "metadata": {},
   "outputs": [],
   "source": [
    "task2.start()"
   ]
  },
  {
   "cell_type": "code",
   "execution_count": 59,
   "metadata": {},
   "outputs": [],
   "source": [
    "taskAsset = ee.batch.Export.image.toAsset(**{\n",
    "    \"image\":raw,\n",
    "    \"description\": \"testUCSDAsset\",\n",
    "    \"scale\" : 30,\n",
    "    \"region\" : coordUCSD.getInfo()[\"coordinates\"],\n",
    "    \"maxPixels\": 1e12,\n",
    "    \"assetId\": 'projects/alexmak/assets/testUCSD'\n",
    "})"
   ]
  },
  {
   "cell_type": "code",
   "execution_count": 60,
   "metadata": {},
   "outputs": [],
   "source": [
    "taskAsset.start()"
   ]
  },
  {
   "cell_type": "code",
   "execution_count": 23,
   "metadata": {},
   "outputs": [],
   "source": [
    "raw = ee.Image(\"LANDSAT/LC08/C01/T1/LC08_044034_20140318\").select(\"B4\",\"B3\",\"B2\")\n",
    "coordLAport = ee.Geometry.Rectangle(33.64246038322455, -118.32027994564326,33.78867573774964, -118.07789408138545)"
   ]
  },
  {
   "cell_type": "code",
   "execution_count": 24,
   "metadata": {},
   "outputs": [],
   "source": [
    "task3 = ee.batch.Export.image.toDrive(**{\n",
    "    \"image\":raw,\n",
    "    \"description\": \"laport\",\n",
    "    \"folder\" :\"GEE_Images\",\n",
    "    \"scale\" : 50,\n",
    "    \"region\" : coordLAport.getInfo()[\"coordinates\"],\n",
    "    \"maxPixels\": 1e12\n",
    "})"
   ]
  },
  {
   "cell_type": "code",
   "execution_count": 25,
   "metadata": {},
   "outputs": [],
   "source": [
    "task3.start()"
   ]
  },
  {
   "cell_type": "markdown",
   "metadata": {},
   "source": [
    "### Opening TIF Files"
   ]
  },
  {
   "cell_type": "code",
   "execution_count": 4,
   "metadata": {},
   "outputs": [
    {
     "data": {
      "text/plain": [
       "<open DatasetReader name='/home/alex/school/tif/testUCSD-0000000000-0000000000.tif' mode='r'>"
      ]
     },
     "execution_count": 4,
     "metadata": {},
     "output_type": "execute_result"
    }
   ],
   "source": [
    "dataset = rasterio.open('/home/alex/school/tif/testUCSD-0000000000-0000000000.tif')\n",
    "dataset"
   ]
  },
  {
   "cell_type": "code",
   "execution_count": 10,
   "metadata": {},
   "outputs": [
    {
     "data": {
      "text/plain": [
       "(3, 26880, 26880)"
      ]
     },
     "execution_count": 10,
     "metadata": {},
     "output_type": "execute_result"
    }
   ],
   "source": [
    "dataset.read().shape"
   ]
  },
  {
   "cell_type": "code",
   "execution_count": 7,
   "metadata": {},
   "outputs": [
    {
     "data": {
      "image/png": "[encoded data removed]",
      "text/plain": [
       "<Figure size 432x288 with 1 Axes>"
      ]
     },
     "metadata": {
      "needs_background": "light"
     },
     "output_type": "display_data"
    }
   ],
   "source": [
    "pyplot.imshow(dataset.read(1), cmap='pink')\n",
    "\n",
    "pyplot.show()"
   ]
  },
  {
   "cell_type": "code",
   "execution_count": null,
   "metadata": {},
   "outputs": [],
   "source": []
  },
  {
   "cell_type": "markdown",
   "metadata": {},
   "source": [
    "#### Combine all TIF files"
   ]
  },
  {
   "cell_type": "code",
   "execution_count": 14,
   "metadata": {},
   "outputs": [],
   "source": [
    "tifDir = \"/home/alex/school/tif\""
   ]
  },
  {
   "cell_type": "code",
   "execution_count": 16,
   "metadata": {},
   "outputs": [
    {
     "data": {
      "text/plain": [
       "'testUCSD-0000053760-0000000000.tif'"
      ]
     },
     "execution_count": 16,
     "metadata": {},
     "output_type": "execute_result"
    }
   ],
   "source": [
    "allFiles = os.listdir(tifDir)\n",
    "allFiles[0]"
   ]
  },
  {
   "cell_type": "code",
   "execution_count": 17,
   "metadata": {},
   "outputs": [],
   "source": [
    "command = \"gdal_merge.py -o allmerge.tf \""
   ]
  },
  {
   "cell_type": "code",
   "execution_count": 20,
   "metadata": {},
   "outputs": [],
   "source": [
    "allFiles = \" \".join(allFiles)"
   ]
  },
  {
   "cell_type": "code",
   "execution_count": 21,
   "metadata": {},
   "outputs": [
    {
     "name": "stderr",
     "output_type": "stream",
     "text": [
      "ERROR 4: testUCSD-0000053760-0000000000.tif: No such file or directory\n",
      "ERROR 4: testUCSD-0000053760-0000026880.tif: No such file or directory\n",
      "ERROR 4: testUCSD-0000000000-0000000000.tif: No such file or directory\n",
      "ERROR 4: testUCSD-0000080640-0000000000.tif: No such file or directory\n",
      "ERROR 4: testUCSD-0000134400-0000053760.tif: No such file or directory\n",
      "ERROR 4: testUCSD-0000268800-0000000000.tif: No such file or directory\n",
      "ERROR 4: testUCSD-0000134400-0000026880.tif: No such file or directory\n",
      "ERROR 4: testUCSD-0000026880-0000053760.tif: No such file or directory\n",
      "ERROR 4: testUCSD-0000080640-0000053760.tif: No such file or directory\n",
      "ERROR 4: testUCSD-0000268800-0000026880.tif: No such file or directory\n",
      "ERROR 4: testUCSD-0000000000-0000053760.tif: No such file or directory\n",
      "ERROR 4: testUCSD-0000134400-0000000000.tif: No such file or directory\n",
      "ERROR 4: testUCSD-0000241920-0000000000.tif: No such file or directory\n",
      "ERROR 4: testUCSD-0000107520-0000026880.tif: No such file or directory\n",
      "ERROR 4: testUCSD-0000161280-0000000000.tif: No such file or directory\n",
      "ERROR 4: testUCSD-0000188160-0000000000.tif: No such file or directory\n",
      "ERROR 4: testUCSD-0000026880-0000000000.tif: No such file or directory\n",
      "ERROR 4: testUCSD-0000107520-0000000000.tif: No such file or directory\n",
      "ERROR 4: testUCSD-0000107520-0000053760.tif: No such file or directory\n",
      "ERROR 4: testUCSD-0000026880-0000026880.tif: No such file or directory\n",
      "ERROR 4: testUCSD-0000241920-0000026880.tif: No such file or directory\n",
      "ERROR 4: testUCSD-0000080640-0000026880.tif: No such file or directory\n",
      "ERROR 4: testUCSD-0000215040-0000026880.tif: No such file or directory\n",
      "ERROR 4: testUCSD-0000215040-0000053760.tif: No such file or directory\n",
      "ERROR 4: testUCSD-0000268800-0000053760.tif: No such file or directory\n",
      "ERROR 4: testUCSD-0000241920-0000053760.tif: No such file or directory\n",
      "ERROR 4: testUCSD-0000161280-0000026880.tif: No such file or directory\n",
      "ERROR 4: testUCSD-0000188160-0000026880.tif: No such file or directory\n",
      "ERROR 4: testUCSD-0000053760-0000053760.tif: No such file or directory\n",
      "ERROR 4: testUCSD-0000215040-0000000000.tif: No such file or directory\n",
      "ERROR 4: testUCSD-0000188160-0000053760.tif: No such file or directory\n",
      "ERROR 4: testUCSD-0000000000-0000026880.tif: No such file or directory\n",
      "ERROR 4: testUCSD-0000161280-0000053760.tif: No such file or directory\n",
      "Traceback (most recent call last):\n",
      "  File \"/bin/gdal_merge.py\", line 11, in <module>\n",
      "    sys.exit(main(sys.argv))\n",
      "  File \"/usr/lib/python3/dist-packages/osgeo_utils/gdal_merge.py\", line 428, in main\n",
      "    ulx = file_infos[0].ulx\n",
      "IndexError: list index out of range\n",
      "free(): invalid pointer\n",
      "Aborted (core dumped)\n"
     ]
    },
    {
     "data": {
      "text/plain": [
       "34304"
      ]
     },
     "execution_count": 21,
     "metadata": {},
     "output_type": "execute_result"
    }
   ],
   "source": [
    "os.system(command + allFiles)"
   ]
  },
  {
   "cell_type": "code",
   "execution_count": null,
   "metadata": {},
   "outputs": [],
   "source": []
  }
 ],
 "metadata": {
  "kernelspec": {
   "display_name": "Python 3.8.10 64-bit",
   "language": "python",
   "name": "python3"
  },
  "language_info": {
   "codemirror_mode": {
    "name": "ipython",
    "version": 3
   },
   "file_extension": ".py",
   "mimetype": "text/x-python",
   "name": "python",
   "nbconvert_exporter": "python",
   "pygments_lexer": "ipython3",
   "version": "3.8.10"
  },
  "orig_nbformat": 4,
  "vscode": {
   "interpreter": {
    "hash": "916dbcbb3f70747c44a77c7bcd40155683ae19c65e1c03b4aa3499c5328201f1"
   }
  }
 },
 "nbformat": 4,
 "nbformat_minor": 2
}
