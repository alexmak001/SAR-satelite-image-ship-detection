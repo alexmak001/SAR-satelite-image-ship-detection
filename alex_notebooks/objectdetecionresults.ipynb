{
 "cells": [
  {
   "cell_type": "code",
   "execution_count": 1,
   "metadata": {},
   "outputs": [],
   "source": [
    "import os\n",
    "import glob\n",
    "import matplotlib.pyplot as plt\n",
    "import matplotlib.image as mpimg\n",
    "import matplotlib.patches as patches\n",
    "from bs4 import BeautifulSoup\n",
    "from PIL import Image\n",
    "import cv2\n",
    "import numpy as np\n",
    "import time\n",
    "import torch\n",
    "import torchvision\n",
    "from torch.utils.data import Dataset\n",
    "from torchvision import transforms\n",
    "import albumentations\n",
    "import albumentations.pytorch\n",
    "from matplotlib import pyplot as plt\n",
    "import os\n",
    "import random\n",
    "import utility\n",
    "import rasterio\n",
    "import wandb\n",
    "import tqdm\n",
    "import shutil\n",
    "import pandas as pd"
   ]
  },
  {
   "cell_type": "code",
   "execution_count": 2,
   "metadata": {},
   "outputs": [],
   "source": [
    "from utility import ShipDataset\n",
    "from utility import ShipDataset_YOLO"
   ]
  },
  {
   "cell_type": "code",
   "execution_count": 3,
   "metadata": {},
   "outputs": [],
   "source": [
    "# if matplot doesnt work\n",
    "import matplotlib\n",
    "#matplotlib.use('TkAgg')\n",
    "\n",
    "# same seed\n",
    "torch.manual_seed(0)\n",
    "\n",
    "# garbage collection\n",
    "import gc\n",
    "gc.collect()\n",
    "torch.cuda.empty_cache()\n",
    "\n",
    "# CUDA\n",
    "device = torch.device('cuda') if torch.cuda.is_available() else torch.device('cpu')"
   ]
  },
  {
   "cell_type": "code",
   "execution_count": 4,
   "metadata": {},
   "outputs": [],
   "source": [
    "batch_size = 1"
   ]
  },
  {
   "cell_type": "code",
   "execution_count": null,
   "metadata": {},
   "outputs": [],
   "source": []
  },
  {
   "attachments": {},
   "cell_type": "markdown",
   "metadata": {},
   "source": [
    "#### Faster R-CNN and RetinaNet Datasets and Loaders"
   ]
  },
  {
   "cell_type": "code",
   "execution_count": 8,
   "metadata": {},
   "outputs": [
    {
     "data": {
      "text/plain": [
       "736"
      ]
     },
     "execution_count": 8,
     "metadata": {},
     "output_type": "execute_result"
    }
   ],
   "source": [
    "val_dataset = ShipDataset(\n",
    "    path = 'test_yolo/',\n",
    "    #transform=transform\n",
    ")\n",
    "\n",
    "val_loader = torch.utils.data.DataLoader(val_dataset, batch_size=batch_size,collate_fn=utility.collate_fn)\n",
    "len(val_dataset)"
   ]
  },
  {
   "cell_type": "code",
   "execution_count": 18,
   "metadata": {},
   "outputs": [
    {
     "data": {
      "text/plain": [
       "117"
      ]
     },
     "execution_count": 18,
     "metadata": {},
     "output_type": "execute_result"
    }
   ],
   "source": [
    "inshore_dataset = ShipDataset(\n",
    "    path = 'in',\n",
    "    #transform=transform\n",
    ")\n",
    "\n",
    "inshore_loader = torch.utils.data.DataLoader(inshore_dataset, batch_size=batch_size,collate_fn=utility.collate_fn)\n",
    "len(inshore_dataset)"
   ]
  },
  {
   "cell_type": "code",
   "execution_count": 19,
   "metadata": {},
   "outputs": [
    {
     "data": {
      "text/plain": [
       "619"
      ]
     },
     "execution_count": 19,
     "metadata": {},
     "output_type": "execute_result"
    }
   ],
   "source": [
    "offshore_dataset = ShipDataset(\n",
    "    path = 'off',\n",
    "    #transform=transform\n",
    ")\n",
    "\n",
    "offshore_loader = torch.utils.data.DataLoader(offshore_dataset, batch_size=batch_size,collate_fn=utility.collate_fn)\n",
    "len(offshore_dataset)"
   ]
  },
  {
   "attachments": {},
   "cell_type": "markdown",
   "metadata": {},
   "source": [
    "#### YOLO Data"
   ]
  },
  {
   "cell_type": "code",
   "execution_count": null,
   "metadata": {},
   "outputs": [],
   "source": [
    "val_dataset_yolo = ShipDataset_YOLO(\n",
    "    path = 'test_yolo/',\n",
    "    #transform=transform\n",
    ")\n",
    "\n",
    "val_loader_yolo = torch.utils.data.DataLoader(val_dataset_yolo, batch_size=batch_size,collate_fn=utility.collate_fn)\n",
    "len(val_loader_yolo)"
   ]
  },
  {
   "cell_type": "code",
   "execution_count": null,
   "metadata": {},
   "outputs": [],
   "source": [
    "inshore_dataset_yolo = ShipDataset_YOLO(\n",
    "    path = 'in',\n",
    "    #transform=transform\n",
    ")\n",
    "\n",
    "inshore_loader_yolo = torch.utils.data.DataLoader(inshore_dataset_yolo, batch_size=batch_size,collate_fn=utility.collate_fn)\n",
    "len(inshore_dataset_yolo)"
   ]
  },
  {
   "cell_type": "code",
   "execution_count": null,
   "metadata": {},
   "outputs": [],
   "source": [
    "offshore_dataset_yolo = ShipDataset_YOLO(\n",
    "    path = 'off',\n",
    "    #transform=transform\n",
    ")\n",
    "\n",
    "offshore_loader_yolo = torch.utils.data.DataLoader(offshore_dataset_yolo, batch_size=batch_size,collate_fn=utility.collate_fn)\n",
    "len(offshore_dataset_yolo)"
   ]
  },
  {
   "attachments": {},
   "cell_type": "markdown",
   "metadata": {},
   "source": [
    "### RetinaNet Results"
   ]
  },
  {
   "cell_type": "code",
   "execution_count": 5,
   "metadata": {},
   "outputs": [
    {
     "name": "stdout",
     "output_type": "stream",
     "text": [
      "\n"
     ]
    }
   ],
   "source": [
    "retina = torchvision.models.detection.retinanet_resnet50_fpn(num_classes=2)\n",
    "retina.load_state_dict(torch.load(\"models/retina300R2.pt\"))\n",
    "retina.eval()\n",
    "retina.to(device)\n",
    "print()"
   ]
  },
  {
   "cell_type": "code",
   "execution_count": 12,
   "metadata": {},
   "outputs": [
    {
     "name": "stderr",
     "output_type": "stream",
     "text": [
      "/home/alex/school/DSC180A/SAR-satelite-image-ship-detection/alex_notebooks/utility.py:465: UserWarning: To copy construct from a tensor, it is recommended to use sourceTensor.clone().detach() or sourceTensor.clone().detach().requires_grad_(True), rather than torch.tensor(sourceTensor).\n",
      "  mAP = torch.mean(torch.tensor(AP,dtype=torch.float64))\n"
     ]
    },
    {
     "name": "stdout",
     "output_type": "stream",
     "text": [
      "Precision: 0.457 \n",
      " Recall: 0.873 \n",
      " AP: 0.739 \n",
      " F1: 0.600 \n",
      " mAP 0.739 \n",
      " time: 52.603 \n",
      " threshold: 0.4\n",
      "Precision: 0.524 \n",
      " Recall: 0.859 \n",
      " AP: 0.731 \n",
      " F1: 0.651 \n",
      " mAP 0.731 \n",
      " time: 52.652 \n",
      " threshold: 0.5\n",
      "Precision: 0.584 \n",
      " Recall: 0.839 \n",
      " AP: 0.720 \n",
      " F1: 0.689 \n",
      " mAP 0.720 \n",
      " time: 52.691 \n",
      " threshold: 0.6\n",
      "Precision: 0.635 \n",
      " Recall: 0.812 \n",
      " AP: 0.704 \n",
      " F1: 0.713 \n",
      " mAP 0.704 \n",
      " time: 52.566 \n",
      " threshold: 0.7\n",
      "Precision: 0.685 \n",
      " Recall: 0.774 \n",
      " AP: 0.679 \n",
      " F1: 0.727 \n",
      " mAP 0.679 \n",
      " time: 52.624 \n",
      " threshold: 0.8\n",
      "Precision: 0.756 \n",
      " Recall: 0.701 \n",
      " AP: 0.627 \n",
      " F1: 0.728 \n",
      " mAP 0.627 \n",
      " time: 52.368 \n",
      " threshold: 0.9\n",
      "Precision: 0.801 \n",
      " Recall: 0.616 \n",
      " AP: 0.560 \n",
      " F1: 0.696 \n",
      " mAP 0.560 \n",
      " time: 52.610 \n",
      " threshold: 0.95\n"
     ]
    }
   ],
   "source": [
    "retina_thresholds = [0.4,0.5,0.6,0.7,0.8,0.9,0.95]\n",
    "retina_results = []\n",
    "for t in retina_thresholds:\n",
    "    temp = utility.get_metric(retina,val_loader,t,device)\n",
    "    retina_results.append(temp)"
   ]
  },
  {
   "attachments": {},
   "cell_type": "markdown",
   "metadata": {},
   "source": [
    "##### Retina Test Results"
   ]
  },
  {
   "cell_type": "code",
   "execution_count": 13,
   "metadata": {},
   "outputs": [
    {
     "data": {
      "text/html": [
       "<div>\n",
       "<style scoped>\n",
       "    .dataframe tbody tr th:only-of-type {\n",
       "        vertical-align: middle;\n",
       "    }\n",
       "\n",
       "    .dataframe tbody tr th {\n",
       "        vertical-align: top;\n",
       "    }\n",
       "\n",
       "    .dataframe thead th {\n",
       "        text-align: right;\n",
       "    }\n",
       "</style>\n",
       "<table border=\"1\" class=\"dataframe\">\n",
       "  <thead>\n",
       "    <tr style=\"text-align: right;\">\n",
       "      <th></th>\n",
       "      <th>Precision</th>\n",
       "      <th>Recall</th>\n",
       "      <th>AP</th>\n",
       "      <th>f1</th>\n",
       "      <th>mAP</th>\n",
       "      <th>Time (seconds)</th>\n",
       "      <th>Threshold</th>\n",
       "    </tr>\n",
       "  </thead>\n",
       "  <tbody>\n",
       "    <tr>\n",
       "      <th>0</th>\n",
       "      <td>0.456967</td>\n",
       "      <td>0.873003</td>\n",
       "      <td>0.738501</td>\n",
       "      <td>0.599913</td>\n",
       "      <td>0.738501</td>\n",
       "      <td>52.602701</td>\n",
       "      <td>0.40</td>\n",
       "    </tr>\n",
       "    <tr>\n",
       "      <th>1</th>\n",
       "      <td>0.523590</td>\n",
       "      <td>0.858705</td>\n",
       "      <td>0.731477</td>\n",
       "      <td>0.650526</td>\n",
       "      <td>0.731477</td>\n",
       "      <td>52.651508</td>\n",
       "      <td>0.50</td>\n",
       "    </tr>\n",
       "    <tr>\n",
       "      <th>2</th>\n",
       "      <td>0.584066</td>\n",
       "      <td>0.838520</td>\n",
       "      <td>0.720244</td>\n",
       "      <td>0.688536</td>\n",
       "      <td>0.720244</td>\n",
       "      <td>52.691252</td>\n",
       "      <td>0.60</td>\n",
       "    </tr>\n",
       "    <tr>\n",
       "      <th>3</th>\n",
       "      <td>0.634780</td>\n",
       "      <td>0.812027</td>\n",
       "      <td>0.704039</td>\n",
       "      <td>0.712546</td>\n",
       "      <td>0.704039</td>\n",
       "      <td>52.565931</td>\n",
       "      <td>0.70</td>\n",
       "    </tr>\n",
       "    <tr>\n",
       "      <th>4</th>\n",
       "      <td>0.684896</td>\n",
       "      <td>0.774180</td>\n",
       "      <td>0.679099</td>\n",
       "      <td>0.726806</td>\n",
       "      <td>0.679099</td>\n",
       "      <td>52.623981</td>\n",
       "      <td>0.80</td>\n",
       "    </tr>\n",
       "    <tr>\n",
       "      <th>5</th>\n",
       "      <td>0.756120</td>\n",
       "      <td>0.701430</td>\n",
       "      <td>0.626657</td>\n",
       "      <td>0.727749</td>\n",
       "      <td>0.626657</td>\n",
       "      <td>52.367927</td>\n",
       "      <td>0.90</td>\n",
       "    </tr>\n",
       "    <tr>\n",
       "      <th>6</th>\n",
       "      <td>0.801314</td>\n",
       "      <td>0.615643</td>\n",
       "      <td>0.559584</td>\n",
       "      <td>0.696314</td>\n",
       "      <td>0.559584</td>\n",
       "      <td>52.610323</td>\n",
       "      <td>0.95</td>\n",
       "    </tr>\n",
       "  </tbody>\n",
       "</table>\n",
       "</div>"
      ],
      "text/plain": [
       "   Precision    Recall        AP        f1       mAP  Time (seconds)  \\\n",
       "0   0.456967  0.873003  0.738501  0.599913  0.738501       52.602701   \n",
       "1   0.523590  0.858705  0.731477  0.650526  0.731477       52.651508   \n",
       "2   0.584066  0.838520  0.720244  0.688536  0.720244       52.691252   \n",
       "3   0.634780  0.812027  0.704039  0.712546  0.704039       52.565931   \n",
       "4   0.684896  0.774180  0.679099  0.726806  0.679099       52.623981   \n",
       "5   0.756120  0.701430  0.626657  0.727749  0.626657       52.367927   \n",
       "6   0.801314  0.615643  0.559584  0.696314  0.559584       52.610323   \n",
       "\n",
       "   Threshold  \n",
       "0       0.40  \n",
       "1       0.50  \n",
       "2       0.60  \n",
       "3       0.70  \n",
       "4       0.80  \n",
       "5       0.90  \n",
       "6       0.95  "
      ]
     },
     "execution_count": 13,
     "metadata": {},
     "output_type": "execute_result"
    }
   ],
   "source": [
    "cols = [\"Precision\", \"Recall\", \"AP\" , \"f1\" ,\"mAP\", \"Time (seconds)\", \"Threshold\"]\n",
    "retina_results_df = pd.DataFrame(retina_results, columns=cols)\n",
    "retina_results_df"
   ]
  },
  {
   "cell_type": "code",
   "execution_count": 17,
   "metadata": {},
   "outputs": [],
   "source": [
    "precision = retina_results_df['Precision']\n",
    "recall = retina_results_df['Recall']\n",
    "# Create plot\n",
    "plt.plot(recall, precision)\n",
    "# Add axis labels and title\n",
    "plt.xlabel('Recall')\n",
    "plt.ylabel('Precision')\n",
    "plt.title('Precision vs Recall RetinaNet')\n",
    "# Show the plot\n",
    "plt.show()"
   ]
  },
  {
   "cell_type": "code",
   "execution_count": 20,
   "metadata": {},
   "outputs": [],
   "source": [
    "# from Precision Recall, best threhold\n",
    "retina_threshold = 0.7"
   ]
  },
  {
   "attachments": {},
   "cell_type": "markdown",
   "metadata": {},
   "source": [
    "##### Retina Test Inshore Results"
   ]
  },
  {
   "cell_type": "code",
   "execution_count": 23,
   "metadata": {},
   "outputs": [
    {
     "name": "stdout",
     "output_type": "stream",
     "text": [
      "Precision: 0.367 \n",
      " Recall: 0.624 \n",
      " AP: 0.363 \n",
      " F1: 0.462 \n",
      " mAP 0.363 \n",
      " time: 8.924 \n",
      " threshold: 0.7\n"
     ]
    },
    {
     "data": {
      "text/html": [
       "<div>\n",
       "<style scoped>\n",
       "    .dataframe tbody tr th:only-of-type {\n",
       "        vertical-align: middle;\n",
       "    }\n",
       "\n",
       "    .dataframe tbody tr th {\n",
       "        vertical-align: top;\n",
       "    }\n",
       "\n",
       "    .dataframe thead th {\n",
       "        text-align: right;\n",
       "    }\n",
       "</style>\n",
       "<table border=\"1\" class=\"dataframe\">\n",
       "  <thead>\n",
       "    <tr style=\"text-align: right;\">\n",
       "      <th></th>\n",
       "      <th>Precision</th>\n",
       "      <th>Recall</th>\n",
       "      <th>AP</th>\n",
       "      <th>f1</th>\n",
       "      <th>mAP</th>\n",
       "      <th>Time (seconds)</th>\n",
       "      <th>Threshold</th>\n",
       "    </tr>\n",
       "  </thead>\n",
       "  <tbody>\n",
       "    <tr>\n",
       "      <th>0</th>\n",
       "      <td>0.3666</td>\n",
       "      <td>0.624009</td>\n",
       "      <td>0.362535</td>\n",
       "      <td>0.461861</td>\n",
       "      <td>0.362535</td>\n",
       "      <td>8.923793</td>\n",
       "      <td>0.7</td>\n",
       "    </tr>\n",
       "  </tbody>\n",
       "</table>\n",
       "</div>"
      ],
      "text/plain": [
       "   Precision    Recall        AP        f1       mAP  Time (seconds)  \\\n",
       "0     0.3666  0.624009  0.362535  0.461861  0.362535        8.923793   \n",
       "\n",
       "   Threshold  \n",
       "0        0.7  "
      ]
     },
     "execution_count": 23,
     "metadata": {},
     "output_type": "execute_result"
    }
   ],
   "source": [
    "retina_results_in = []\n",
    "temp = utility.get_metric(retina,inshore_loader,retina_threshold,device)\n",
    "retina_results_in.append(temp)\n",
    "retina_results_in_df = pd.DataFrame(retina_results_in, columns=cols)\n",
    "retina_results_in_df"
   ]
  },
  {
   "attachments": {},
   "cell_type": "markdown",
   "metadata": {},
   "source": [
    "##### Retina Test Offshore Results"
   ]
  },
  {
   "cell_type": "code",
   "execution_count": 24,
   "metadata": {},
   "outputs": [
    {
     "name": "stdout",
     "output_type": "stream",
     "text": [
      "Precision: 0.897 \n",
      " Recall: 0.923 \n",
      " AP: 0.886 \n",
      " F1: 0.910 \n",
      " mAP 0.886 \n",
      " time: 43.792 \n",
      " threshold: 0.7\n"
     ]
    },
    {
     "name": "stderr",
     "output_type": "stream",
     "text": [
      "/home/alex/school/DSC180A/SAR-satelite-image-ship-detection/alex_notebooks/utility.py:465: UserWarning: To copy construct from a tensor, it is recommended to use sourceTensor.clone().detach() or sourceTensor.clone().detach().requires_grad_(True), rather than torch.tensor(sourceTensor).\n",
      "  mAP = torch.mean(torch.tensor(AP,dtype=torch.float64))\n"
     ]
    },
    {
     "data": {
      "text/html": [
       "<div>\n",
       "<style scoped>\n",
       "    .dataframe tbody tr th:only-of-type {\n",
       "        vertical-align: middle;\n",
       "    }\n",
       "\n",
       "    .dataframe tbody tr th {\n",
       "        vertical-align: top;\n",
       "    }\n",
       "\n",
       "    .dataframe thead th {\n",
       "        text-align: right;\n",
       "    }\n",
       "</style>\n",
       "<table border=\"1\" class=\"dataframe\">\n",
       "  <thead>\n",
       "    <tr style=\"text-align: right;\">\n",
       "      <th></th>\n",
       "      <th>Precision</th>\n",
       "      <th>Recall</th>\n",
       "      <th>AP</th>\n",
       "      <th>f1</th>\n",
       "      <th>mAP</th>\n",
       "      <th>Time (seconds)</th>\n",
       "      <th>Threshold</th>\n",
       "    </tr>\n",
       "  </thead>\n",
       "  <tbody>\n",
       "    <tr>\n",
       "      <th>0</th>\n",
       "      <td>0.896686</td>\n",
       "      <td>0.923077</td>\n",
       "      <td>0.885786</td>\n",
       "      <td>0.90969</td>\n",
       "      <td>0.885786</td>\n",
       "      <td>43.79236</td>\n",
       "      <td>0.7</td>\n",
       "    </tr>\n",
       "  </tbody>\n",
       "</table>\n",
       "</div>"
      ],
      "text/plain": [
       "   Precision    Recall        AP       f1       mAP  Time (seconds)  Threshold\n",
       "0   0.896686  0.923077  0.885786  0.90969  0.885786        43.79236        0.7"
      ]
     },
     "execution_count": 24,
     "metadata": {},
     "output_type": "execute_result"
    }
   ],
   "source": [
    "retina_results_off = []\n",
    "temp = utility.get_metric(retina,offshore_loader,retina_threshold,device)\n",
    "retina_results_off.append(temp)\n",
    "retina_results_off_df = pd.DataFrame(retina_results_off, columns=cols)\n",
    "retina_results_off_df"
   ]
  },
  {
   "attachments": {},
   "cell_type": "markdown",
   "metadata": {},
   "source": [
    "### Faster R-CNN Results"
   ]
  },
  {
   "cell_type": "code",
   "execution_count": null,
   "metadata": {},
   "outputs": [],
   "source": []
  }
 ],
 "metadata": {
  "kernelspec": {
   "display_name": "Python 3",
   "language": "python",
   "name": "python3"
  },
  "language_info": {
   "codemirror_mode": {
    "name": "ipython",
    "version": 3
   },
   "file_extension": ".py",
   "mimetype": "text/x-python",
   "name": "python",
   "nbconvert_exporter": "python",
   "pygments_lexer": "ipython3",
   "version": "3.8.10"
  },
  "orig_nbformat": 4
 },
 "nbformat": 4,
 "nbformat_minor": 2
}
