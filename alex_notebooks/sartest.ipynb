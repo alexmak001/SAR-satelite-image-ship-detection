{
 "cells": [
  {
   "cell_type": "code",
   "execution_count": 14,
   "metadata": {},
   "outputs": [],
   "source": [
    "import ee\n",
    "#ee.Authenticate()\n",
    "ee.Initialize()\n",
    "#print(ee.Image(\"NASA/NASADEM_HGT/001\").get(\"title\").getInfo())\n",
    "import geemap\n",
    "import folium\n",
    "import rasterio\n",
    "from matplotlib import pyplot\n",
    "from osgeo import gdal\n",
    "import os\n",
    "from geemap.conversion import *"
   ]
  },
  {
   "cell_type": "code",
   "execution_count": 9,
   "metadata": {},
   "outputs": [],
   "source": [
    "sarImg = ee.ImageCollection('COPERNICUS/S1_GRD').filter(ee.Filter.listContains('transmitterReceiverPolarisation', 'VV')).filter(ee.Filter.eq('instrumentMode', 'IW'))"
   ]
  },
  {
   "cell_type": "code",
   "execution_count": 10,
   "metadata": {},
   "outputs": [
    {
     "data": {
      "text/plain": [
       "<ee.imagecollection.ImageCollection at 0x7ffad4d649d0>"
      ]
     },
     "execution_count": 10,
     "metadata": {},
     "output_type": "execute_result"
    }
   ],
   "source": [
    "sarImg"
   ]
  },
  {
   "cell_type": "code",
   "execution_count": 11,
   "metadata": {},
   "outputs": [],
   "source": []
  },
  {
   "cell_type": "code",
   "execution_count": 12,
   "metadata": {},
   "outputs": [
    {
     "data": {
      "text/plain": [
       "\"import ee \\nfrom ee_plugin import Map\\n\\nimgVV = ee.ImageCollection('COPERNICUS/S1_GRD') \\\\\\n        .filter(ee.Filter.listContains('transmitterReceiverPolarisation', 'VV')) \\\\\\n        .filter(ee.Filter.eq('instrumentMode', 'IW')) \\\\\\n        .select('VV')\\n\\ndef func_bwd(image):\\n          edge = image.lt(-30.0)\\n          maskedImage = image.mask().And(edge.Not())\\n          return image.updateMask(maskedImage) \\\\\\n        .map(func_bwd)\\n\\n\\n\\n\\n\\n\\ndesc = imgVV.filter(ee.Filter.eq('orbitProperties_pass', 'DESCENDING'))\\nasc = imgVV.filter(ee.Filter.eq('orbitProperties_pass', 'ASCENDING'))\\n\\nspring = ee.Filter.date('2015-03-01', '2015-04-20')\\nlateSpring = ee.Filter.date('2015-04-21', '2015-06-10')\\nsummer = ee.Filter.date('2015-06-11', '2015-08-31')\\n\\ndescChange = ee.Image.cat(\\n        desc.filter(spring).mean(),\\n        desc.filter(lateSpring).mean(),\\n        desc.filter(summer).mean())\\n\\nascChange = ee.Image.cat(\\n        asc.filter(spring).mean(),\\n        asc.filter(lateSpring).mean(),\\n        asc.filter(summer).mean())\\n\\nMap.setCenter(5.2013, 47.3277, 12)\\nMap.addLayer(ascChange, {'min': -25, 'max': 5}, 'Multi-T Mean ASC', True)\\nMap.addLayer(descChange, {'min': -25, 'max': 5}, 'Multi-T Mean DESC', True)\\nMap\""
      ]
     },
     "execution_count": 12,
     "metadata": {},
     "output_type": "execute_result"
    }
   ],
   "source": [
    "js_to_python(\"sar.js\")"
   ]
  },
  {
   "cell_type": "code",
   "execution_count": 25,
   "metadata": {},
   "outputs": [
    {
     "data": {
      "application/vnd.jupyter.widget-view+json": {
       "model_id": "cad67a16107d4ea18c127c61062bff3b",
       "version_major": 2,
       "version_minor": 0
      },
      "text/plain": [
       "Map(center=[33.7406, -118.2816], controls=(WidgetControl(options=['position', 'transparent_bg'], widget=HBox(c…"
      ]
     },
     "metadata": {},
     "output_type": "display_data"
    }
   ],
   "source": [
    "import ee \n",
    "import geemap\n",
    "\n",
    "imgVV = ee.ImageCollection('COPERNICUS/S1_GRD') \\\n",
    "        .filter(ee.Filter.listContains('transmitterReceiverPolarisation', 'VV')) \\\n",
    "        .filter(ee.Filter.eq('instrumentMode', 'IW')) \\\n",
    "        .select('VV')\n",
    "\n",
    "def func_bwd(image):\n",
    "          edge = image.lt(-30.0)\n",
    "          maskedImage = image.mask().And(edge.Not())\n",
    "          return image.updateMask(maskedImage) \\\n",
    "        .map(func_bwd)\n",
    "\n",
    "desc = imgVV.filter(ee.Filter.eq('orbitProperties_pass', 'DESCENDING'))\n",
    "asc = imgVV.filter(ee.Filter.eq('orbitProperties_pass', 'ASCENDING'))\n",
    "\n",
    "spring = ee.Filter.date('2015-03-01', '2015-04-20')\n",
    "lateSpring = ee.Filter.date('2015-04-21', '2015-06-10')\n",
    "summer = ee.Filter.date('2015-06-11', '2015-08-31')\n",
    "\n",
    "descChange = ee.Image.cat(\n",
    "        desc.filter(spring).mean(),\n",
    "        desc.filter(lateSpring).mean(),\n",
    "        desc.filter(summer).mean())\n",
    "\n",
    "ascChange = ee.Image.cat(\n",
    "        asc.filter(spring).mean(),\n",
    "        asc.filter(lateSpring).mean(),\n",
    "        asc.filter(summer).mean())\n",
    "\n",
    "Map = geemap.Map()\n",
    "Map.setCenter(-118.2816, 33.7406, 15)\n",
    "Map.addLayer(ascChange, {'min': -25, 'max': 5}, 'Multi-T Mean ASC', True)\n",
    "Map.addLayer(descChange, {'min': -25, 'max': 5}, 'Multi-T Mean DESC', True)\n",
    "Map"
   ]
  },
  {
   "cell_type": "code",
   "execution_count": null,
   "metadata": {},
   "outputs": [],
   "source": []
  }
 ],
 "metadata": {
  "kernelspec": {
   "display_name": "Python 3.8.10 64-bit",
   "language": "python",
   "name": "python3"
  },
  "language_info": {
   "codemirror_mode": {
    "name": "ipython",
    "version": 3
   },
   "file_extension": ".py",
   "mimetype": "text/x-python",
   "name": "python",
   "nbconvert_exporter": "python",
   "pygments_lexer": "ipython3",
   "version": "3.8.10"
  },
  "orig_nbformat": 4,
  "vscode": {
   "interpreter": {
    "hash": "916dbcbb3f70747c44a77c7bcd40155683ae19c65e1c03b4aa3499c5328201f1"
   }
  }
 },
 "nbformat": 4,
 "nbformat_minor": 2
}
