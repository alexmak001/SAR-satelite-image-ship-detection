{
 "cells": [
  {
   "cell_type": "code",
   "execution_count": 50,
   "metadata": {},
   "outputs": [],
   "source": [
    "import os\n",
    "import glob\n",
    "import matplotlib.pyplot as plt\n",
    "import matplotlib.image as mpimg\n",
    "import matplotlib.patches as patches\n",
    "from bs4 import BeautifulSoup\n",
    "import albumentations as A\n",
    "from PIL import Image\n",
    "import cv2\n",
    "import numpy as np\n",
    "import time\n",
    "import torch\n",
    "import torchvision\n",
    "from torch.utils.data import Dataset\n",
    "from torchvision import transforms\n",
    "import albumentations\n",
    "import albumentations.pytorch\n",
    "from matplotlib import pyplot as plt\n",
    "import os\n",
    "import random\n",
    "import utility\n",
    "import rasterio\n",
    "import wandb\n",
    "import tqdm\n",
    "import shutil\n",
    "import pandas as pd"
   ]
  },
  {
   "cell_type": "code",
   "execution_count": 2,
   "metadata": {},
   "outputs": [],
   "source": [
    "import matplotlib\n",
    "matplotlib.use('TkAgg')"
   ]
  },
  {
   "cell_type": "code",
   "execution_count": 3,
   "metadata": {},
   "outputs": [
    {
     "data": {
      "text/plain": [
       "<torch._C.Generator at 0x7efdd577d3f0>"
      ]
     },
     "execution_count": 3,
     "metadata": {},
     "output_type": "execute_result"
    }
   ],
   "source": [
    "# same seed\n",
    "torch.manual_seed(0)"
   ]
  },
  {
   "cell_type": "code",
   "execution_count": 4,
   "metadata": {},
   "outputs": [],
   "source": [
    "import gc\n",
    "\n",
    "gc.collect()\n",
    "\n",
    "torch.cuda.empty_cache()"
   ]
  },
  {
   "cell_type": "code",
   "execution_count": 5,
   "metadata": {},
   "outputs": [],
   "source": [
    "# CUDA\n",
    "device = torch.device('cuda') if torch.cuda.is_available() else torch.device('cpu')"
   ]
  },
  {
   "cell_type": "code",
   "execution_count": 6,
   "metadata": {},
   "outputs": [],
   "source": [
    "batch_size = 1\n",
    "threshold = 0.5"
   ]
  },
  {
   "cell_type": "code",
   "execution_count": 7,
   "metadata": {},
   "outputs": [],
   "source": [
    "def values_not_in_array(array1, array2):\n",
    "    \"\"\"\"function that takes two arrays as input and returns a list \n",
    "    containing all the values in the first array that are not found in\n",
    "     the second array:\"\"\"\n",
    "    return [value for value in array1 if value not in array2]"
   ]
  },
  {
   "cell_type": "code",
   "execution_count": 27,
   "metadata": {},
   "outputs": [],
   "source": [
    "def read_file(filename):\n",
    "    lines = []\n",
    "    with open(filename, 'r') as f:\n",
    "        for line in f:\n",
    "            lines.append(line.strip())\n",
    "    return lines"
   ]
  },
  {
   "cell_type": "code",
   "execution_count": 8,
   "metadata": {},
   "outputs": [],
   "source": [
    "# file path creations\n",
    "# annotations for all ships\n",
    "allShipsTXT = os.listdir(\"annotations_yolo/\")\n",
    "allShips = [ship[:-4] for ship in allShipsTXT]\n",
    "allImageJPG = os.listdir(\"images/\")\n",
    "allImage = [img[:-4] for img in allImageJPG]\n",
    "nonShips = values_not_in_array(allImage,allShips)"
   ]
  },
  {
   "cell_type": "code",
   "execution_count": 11,
   "metadata": {},
   "outputs": [
    {
     "data": {
      "text/plain": [
       "['15_14_26', '11_2_6', '06_9_5', '15_19_13', '03_10_21']"
      ]
     },
     "execution_count": 11,
     "metadata": {},
     "output_type": "execute_result"
    }
   ],
   "source": [
    "temp = allShips[:5]\n",
    "temp"
   ]
  },
  {
   "cell_type": "code",
   "execution_count": 31,
   "metadata": {},
   "outputs": [],
   "source": [
    "# array of all test annotation with ships \n",
    "allShipsTest = os.listdir(\"test_yolo/\")\n",
    "allShipsTest = [ship[:-4] for ship in allShipsTest]"
   ]
  },
  {
   "cell_type": "code",
   "execution_count": 38,
   "metadata": {},
   "outputs": [
    {
     "data": {
      "text/plain": [
       "736"
      ]
     },
     "execution_count": 38,
     "metadata": {},
     "output_type": "execute_result"
    }
   ],
   "source": [
    "len(allShipsTest)"
   ]
  },
  {
   "cell_type": "code",
   "execution_count": 28,
   "metadata": {},
   "outputs": [],
   "source": [
    "# array of all inshore annotations\n",
    "allInshore = read_file(\"main/test_inshore.txt\")"
   ]
  },
  {
   "cell_type": "code",
   "execution_count": 35,
   "metadata": {},
   "outputs": [],
   "source": [
    "# array of all offshore annotations\n",
    "allOffshore = read_file(\"main/test_offshore.txt\")"
   ]
  },
  {
   "cell_type": "code",
   "execution_count": 36,
   "metadata": {},
   "outputs": [],
   "source": [
    "set1 = set(allShipsTest)\n",
    "set2 = set(allInshore)\n",
    "set3 = set(allOffshore)\n",
    "\n",
    "inshoreShipTest = list(set1.intersection(set2))\n",
    "offshoreShipTest = list(set1.intersection(set3))"
   ]
  },
  {
   "cell_type": "code",
   "execution_count": 37,
   "metadata": {},
   "outputs": [
    {
     "data": {
      "text/plain": [
       "(117, 619)"
      ]
     },
     "execution_count": 37,
     "metadata": {},
     "output_type": "execute_result"
    }
   ],
   "source": [
    "len(inshoreShipTest), len(offshoreShipTest)"
   ]
  },
  {
   "cell_type": "code",
   "execution_count": null,
   "metadata": {},
   "outputs": [],
   "source": []
  },
  {
   "cell_type": "code",
   "execution_count": 57,
   "metadata": {},
   "outputs": [],
   "source": [
    "class ShipDataset:\n",
    "    def __init__(self, path, transform=None):\n",
    "        self.path = path\n",
    "        if path == \"no_ship\":\n",
    "            self.files = nonShips\n",
    "        elif path == \"test\":\n",
    "            self.files = allShipsTest\n",
    "        elif path == \"in\":\n",
    "            self.files = inshoreShipTest\n",
    "        elif path == \"off\":\n",
    "            self.files = offshoreShipTest\n",
    "        else:\n",
    "            self.files = list(sorted(os.listdir(path)))\n",
    "        \n",
    "        self.transform = transform\n",
    "        \n",
    "    def __len__(self):\n",
    "        return len(self.files)\n",
    "\n",
    "    def __getitem__(self, idx):\n",
    "        if self.path in [\"no_ship\",\"test\",\"in\",\"off\"]:\n",
    "            file_image = self.files[idx] + '.jpg'\n",
    "            file_label = self.files[idx] + '.xml'\n",
    "        else:\n",
    "            file_image = self.files[idx][:-3] + 'jpg'\n",
    "            file_label = self.files[idx][:-3] + 'xml'\n",
    "\n",
    "        img_path = os.path.join(\"images/\", file_image)\n",
    "        label_path = os.path.join(\"annotations/\", file_label)\n",
    "        #print(img_path,label_path)\n",
    "        \n",
    "        # Read an image with OpenCV, gray scale\n",
    "        image = cv2.imread(img_path,0)\n",
    "        \n",
    "        image = image/255.0\n",
    "        target = utility.generate_target(label_path)\n",
    "\n",
    "        \n",
    "        if self.transform:\n",
    "            transformed = self.transform(image = image, bboxes = target['boxes'], labels = target['labels'])\n",
    "            image = torch.Tensor(transformed['image'])\n",
    "            target = {'boxes':torch.Tensor(transformed['bboxes']).reshape(-1,4), 'labels':torch.Tensor(transformed['labels'])}\n",
    "        else:\n",
    "            image = torch.tensor(image,dtype=torch.float32)\n",
    "        \n",
    "        image = torch.unsqueeze(image, dim=0)\n",
    "            \n",
    "        return image, target "
   ]
  },
  {
   "cell_type": "code",
   "execution_count": 56,
   "metadata": {},
   "outputs": [],
   "source": [
    "class ShipDataset_YOLO:\n",
    "    def __init__(self, path, transform=None):\n",
    "        self.path = path\n",
    "        if path == \"no_ship\":\n",
    "            self.files = nonShips\n",
    "        elif path == \"test\":\n",
    "            self.files = allShipsTest\n",
    "        elif path == \"in\":\n",
    "            self.files = inshoreShipTest\n",
    "        elif path == \"off\":\n",
    "            self.files = offshoreShipTest\n",
    "        else:\n",
    "            self.files = list(sorted(os.listdir(path)))\n",
    "        \n",
    "        self.transform = transform\n",
    "        \n",
    "    def __len__(self):\n",
    "        return len(self.files)\n",
    "\n",
    "    def __getitem__(self, idx):\n",
    "        if self.path in [\"no_ship\",\"test\",\"in\",\"off\"]:\n",
    "            file_image = self.files[idx] + '.jpg'\n",
    "            file_label = self.files[idx] + '.xml'\n",
    "        else:\n",
    "            file_image = self.files[idx][:-3] + 'jpg'\n",
    "            file_label = self.files[idx][:-3] + 'xml'\n",
    "\n",
    "        img_path = os.path.join(\"images/\", file_image)\n",
    "        label_path = os.path.join(\"annotations/\", file_label)\n",
    "        #print(img_path,label_path)\n",
    "        \n",
    "        # Read an image with OpenCV, gray scale\n",
    "        image = cv2.imread(img_path,0)\n",
    "        \n",
    "        image = image#/255.0\n",
    "        target = utility.generate_target(label_path)\n",
    "\n",
    "        \n",
    "        if self.transform:\n",
    "            transformed = self.transform(image = image, bboxes = target['boxes'], labels = target['labels'])\n",
    "            image = torch.Tensor(transformed['image'])\n",
    "            target = {'boxes':torch.Tensor(transformed['bboxes']).reshape(-1,4), 'labels':torch.Tensor(transformed['labels'])}\n",
    "        else:\n",
    "            image = torch.tensor(image,dtype=torch.float32)\n",
    "        \n",
    "        image = torch.unsqueeze(image, dim=0)\n",
    "            \n",
    "        return image, target "
   ]
  },
  {
   "attachments": {},
   "cell_type": "markdown",
   "metadata": {},
   "source": [
    "#### Faster R-CNN and RetinaNet Datasets and Loaders"
   ]
  },
  {
   "cell_type": "code",
   "execution_count": 40,
   "metadata": {},
   "outputs": [
    {
     "data": {
      "text/plain": [
       "736"
      ]
     },
     "execution_count": 40,
     "metadata": {},
     "output_type": "execute_result"
    }
   ],
   "source": [
    "val_dataset = ShipDataset(\n",
    "    path = 'test_yolo/',\n",
    "    #transform=transform\n",
    ")\n",
    "\n",
    "val_loader = torch.utils.data.DataLoader(val_dataset, batch_size=batch_size,collate_fn=utility.collate_fn)\n",
    "len(val_dataset)"
   ]
  },
  {
   "cell_type": "code",
   "execution_count": 58,
   "metadata": {},
   "outputs": [
    {
     "data": {
      "text/plain": [
       "117"
      ]
     },
     "execution_count": 58,
     "metadata": {},
     "output_type": "execute_result"
    }
   ],
   "source": [
    "inshore_dataset = ShipDataset(\n",
    "    path = 'in',\n",
    "    #transform=transform\n",
    ")\n",
    "\n",
    "inshore_loader = torch.utils.data.DataLoader(inshore_dataset, batch_size=batch_size,collate_fn=utility.collate_fn)\n",
    "len(inshore_dataset)"
   ]
  },
  {
   "cell_type": "code",
   "execution_count": 59,
   "metadata": {},
   "outputs": [
    {
     "data": {
      "text/plain": [
       "619"
      ]
     },
     "execution_count": 59,
     "metadata": {},
     "output_type": "execute_result"
    }
   ],
   "source": [
    "offshore_dataset = ShipDataset(\n",
    "    path = 'off',\n",
    "    #transform=transform\n",
    ")\n",
    "\n",
    "offshore_loader = torch.utils.data.DataLoader(offshore_dataset, batch_size=batch_size,collate_fn=utility.collate_fn)\n",
    "len(offshore_dataset)"
   ]
  },
  {
   "attachments": {},
   "cell_type": "markdown",
   "metadata": {},
   "source": [
    "#### YOLO Data"
   ]
  },
  {
   "cell_type": "code",
   "execution_count": 60,
   "metadata": {},
   "outputs": [
    {
     "data": {
      "text/plain": [
       "736"
      ]
     },
     "execution_count": 60,
     "metadata": {},
     "output_type": "execute_result"
    }
   ],
   "source": [
    "val_dataset_yolo = ShipDataset_YOLO(\n",
    "    path = 'test_yolo/',\n",
    "    #transform=transform\n",
    ")\n",
    "\n",
    "val_loader_yolo = torch.utils.data.DataLoader(val_dataset_yolo, batch_size=batch_size,collate_fn=utility.collate_fn)\n",
    "len(val_loader_yolo)"
   ]
  },
  {
   "cell_type": "code",
   "execution_count": 61,
   "metadata": {},
   "outputs": [
    {
     "data": {
      "text/plain": [
       "117"
      ]
     },
     "execution_count": 61,
     "metadata": {},
     "output_type": "execute_result"
    }
   ],
   "source": [
    "inshore_dataset_yolo = ShipDataset_YOLO(\n",
    "    path = 'in',\n",
    "    #transform=transform\n",
    ")\n",
    "\n",
    "inshore_loader_yolo = torch.utils.data.DataLoader(inshore_dataset_yolo, batch_size=batch_size,collate_fn=utility.collate_fn)\n",
    "len(inshore_dataset_yolo)"
   ]
  },
  {
   "cell_type": "code",
   "execution_count": 62,
   "metadata": {},
   "outputs": [
    {
     "data": {
      "text/plain": [
       "619"
      ]
     },
     "execution_count": 62,
     "metadata": {},
     "output_type": "execute_result"
    }
   ],
   "source": [
    "offshore_dataset_yolo = ShipDataset_YOLO(\n",
    "    path = 'off',\n",
    "    #transform=transform\n",
    ")\n",
    "\n",
    "offshore_loader_yolo = torch.utils.data.DataLoader(offshore_dataset_yolo, batch_size=batch_size,collate_fn=utility.collate_fn)\n",
    "len(offshore_dataset_yolo)"
   ]
  },
  {
   "attachments": {},
   "cell_type": "markdown",
   "metadata": {},
   "source": [
    "### Load RetinaNet"
   ]
  },
  {
   "cell_type": "code",
   "execution_count": 65,
   "metadata": {},
   "outputs": [
    {
     "data": {
      "text/plain": [
       "RetinaNet(\n",
       "  (backbone): BackboneWithFPN(\n",
       "    (body): IntermediateLayerGetter(\n",
       "      (conv1): Conv2d(3, 64, kernel_size=(7, 7), stride=(2, 2), padding=(3, 3), bias=False)\n",
       "      (bn1): FrozenBatchNorm2d(64, eps=1e-05)\n",
       "      (relu): ReLU(inplace=True)\n",
       "      (maxpool): MaxPool2d(kernel_size=3, stride=2, padding=1, dilation=1, ceil_mode=False)\n",
       "      (layer1): Sequential(\n",
       "        (0): Bottleneck(\n",
       "          (conv1): Conv2d(64, 64, kernel_size=(1, 1), stride=(1, 1), bias=False)\n",
       "          (bn1): FrozenBatchNorm2d(64, eps=1e-05)\n",
       "          (conv2): Conv2d(64, 64, kernel_size=(3, 3), stride=(1, 1), padding=(1, 1), bias=False)\n",
       "          (bn2): FrozenBatchNorm2d(64, eps=1e-05)\n",
       "          (conv3): Conv2d(64, 256, kernel_size=(1, 1), stride=(1, 1), bias=False)\n",
       "          (bn3): FrozenBatchNorm2d(256, eps=1e-05)\n",
       "          (relu): ReLU(inplace=True)\n",
       "          (downsample): Sequential(\n",
       "            (0): Conv2d(64, 256, kernel_size=(1, 1), stride=(1, 1), bias=False)\n",
       "            (1): FrozenBatchNorm2d(256, eps=1e-05)\n",
       "          )\n",
       "        )\n",
       "        (1): Bottleneck(\n",
       "          (conv1): Conv2d(256, 64, kernel_size=(1, 1), stride=(1, 1), bias=False)\n",
       "          (bn1): FrozenBatchNorm2d(64, eps=1e-05)\n",
       "          (conv2): Conv2d(64, 64, kernel_size=(3, 3), stride=(1, 1), padding=(1, 1), bias=False)\n",
       "          (bn2): FrozenBatchNorm2d(64, eps=1e-05)\n",
       "          (conv3): Conv2d(64, 256, kernel_size=(1, 1), stride=(1, 1), bias=False)\n",
       "          (bn3): FrozenBatchNorm2d(256, eps=1e-05)\n",
       "          (relu): ReLU(inplace=True)\n",
       "        )\n",
       "        (2): Bottleneck(\n",
       "          (conv1): Conv2d(256, 64, kernel_size=(1, 1), stride=(1, 1), bias=False)\n",
       "          (bn1): FrozenBatchNorm2d(64, eps=1e-05)\n",
       "          (conv2): Conv2d(64, 64, kernel_size=(3, 3), stride=(1, 1), padding=(1, 1), bias=False)\n",
       "          (bn2): FrozenBatchNorm2d(64, eps=1e-05)\n",
       "          (conv3): Conv2d(64, 256, kernel_size=(1, 1), stride=(1, 1), bias=False)\n",
       "          (bn3): FrozenBatchNorm2d(256, eps=1e-05)\n",
       "          (relu): ReLU(inplace=True)\n",
       "        )\n",
       "      )\n",
       "      (layer2): Sequential(\n",
       "        (0): Bottleneck(\n",
       "          (conv1): Conv2d(256, 128, kernel_size=(1, 1), stride=(1, 1), bias=False)\n",
       "          (bn1): FrozenBatchNorm2d(128, eps=1e-05)\n",
       "          (conv2): Conv2d(128, 128, kernel_size=(3, 3), stride=(2, 2), padding=(1, 1), bias=False)\n",
       "          (bn2): FrozenBatchNorm2d(128, eps=1e-05)\n",
       "          (conv3): Conv2d(128, 512, kernel_size=(1, 1), stride=(1, 1), bias=False)\n",
       "          (bn3): FrozenBatchNorm2d(512, eps=1e-05)\n",
       "          (relu): ReLU(inplace=True)\n",
       "          (downsample): Sequential(\n",
       "            (0): Conv2d(256, 512, kernel_size=(1, 1), stride=(2, 2), bias=False)\n",
       "            (1): FrozenBatchNorm2d(512, eps=1e-05)\n",
       "          )\n",
       "        )\n",
       "        (1): Bottleneck(\n",
       "          (conv1): Conv2d(512, 128, kernel_size=(1, 1), stride=(1, 1), bias=False)\n",
       "          (bn1): FrozenBatchNorm2d(128, eps=1e-05)\n",
       "          (conv2): Conv2d(128, 128, kernel_size=(3, 3), stride=(1, 1), padding=(1, 1), bias=False)\n",
       "          (bn2): FrozenBatchNorm2d(128, eps=1e-05)\n",
       "          (conv3): Conv2d(128, 512, kernel_size=(1, 1), stride=(1, 1), bias=False)\n",
       "          (bn3): FrozenBatchNorm2d(512, eps=1e-05)\n",
       "          (relu): ReLU(inplace=True)\n",
       "        )\n",
       "        (2): Bottleneck(\n",
       "          (conv1): Conv2d(512, 128, kernel_size=(1, 1), stride=(1, 1), bias=False)\n",
       "          (bn1): FrozenBatchNorm2d(128, eps=1e-05)\n",
       "          (conv2): Conv2d(128, 128, kernel_size=(3, 3), stride=(1, 1), padding=(1, 1), bias=False)\n",
       "          (bn2): FrozenBatchNorm2d(128, eps=1e-05)\n",
       "          (conv3): Conv2d(128, 512, kernel_size=(1, 1), stride=(1, 1), bias=False)\n",
       "          (bn3): FrozenBatchNorm2d(512, eps=1e-05)\n",
       "          (relu): ReLU(inplace=True)\n",
       "        )\n",
       "        (3): Bottleneck(\n",
       "          (conv1): Conv2d(512, 128, kernel_size=(1, 1), stride=(1, 1), bias=False)\n",
       "          (bn1): FrozenBatchNorm2d(128, eps=1e-05)\n",
       "          (conv2): Conv2d(128, 128, kernel_size=(3, 3), stride=(1, 1), padding=(1, 1), bias=False)\n",
       "          (bn2): FrozenBatchNorm2d(128, eps=1e-05)\n",
       "          (conv3): Conv2d(128, 512, kernel_size=(1, 1), stride=(1, 1), bias=False)\n",
       "          (bn3): FrozenBatchNorm2d(512, eps=1e-05)\n",
       "          (relu): ReLU(inplace=True)\n",
       "        )\n",
       "      )\n",
       "      (layer3): Sequential(\n",
       "        (0): Bottleneck(\n",
       "          (conv1): Conv2d(512, 256, kernel_size=(1, 1), stride=(1, 1), bias=False)\n",
       "          (bn1): FrozenBatchNorm2d(256, eps=1e-05)\n",
       "          (conv2): Conv2d(256, 256, kernel_size=(3, 3), stride=(2, 2), padding=(1, 1), bias=False)\n",
       "          (bn2): FrozenBatchNorm2d(256, eps=1e-05)\n",
       "          (conv3): Conv2d(256, 1024, kernel_size=(1, 1), stride=(1, 1), bias=False)\n",
       "          (bn3): FrozenBatchNorm2d(1024, eps=1e-05)\n",
       "          (relu): ReLU(inplace=True)\n",
       "          (downsample): Sequential(\n",
       "            (0): Conv2d(512, 1024, kernel_size=(1, 1), stride=(2, 2), bias=False)\n",
       "            (1): FrozenBatchNorm2d(1024, eps=1e-05)\n",
       "          )\n",
       "        )\n",
       "        (1): Bottleneck(\n",
       "          (conv1): Conv2d(1024, 256, kernel_size=(1, 1), stride=(1, 1), bias=False)\n",
       "          (bn1): FrozenBatchNorm2d(256, eps=1e-05)\n",
       "          (conv2): Conv2d(256, 256, kernel_size=(3, 3), stride=(1, 1), padding=(1, 1), bias=False)\n",
       "          (bn2): FrozenBatchNorm2d(256, eps=1e-05)\n",
       "          (conv3): Conv2d(256, 1024, kernel_size=(1, 1), stride=(1, 1), bias=False)\n",
       "          (bn3): FrozenBatchNorm2d(1024, eps=1e-05)\n",
       "          (relu): ReLU(inplace=True)\n",
       "        )\n",
       "        (2): Bottleneck(\n",
       "          (conv1): Conv2d(1024, 256, kernel_size=(1, 1), stride=(1, 1), bias=False)\n",
       "          (bn1): FrozenBatchNorm2d(256, eps=1e-05)\n",
       "          (conv2): Conv2d(256, 256, kernel_size=(3, 3), stride=(1, 1), padding=(1, 1), bias=False)\n",
       "          (bn2): FrozenBatchNorm2d(256, eps=1e-05)\n",
       "          (conv3): Conv2d(256, 1024, kernel_size=(1, 1), stride=(1, 1), bias=False)\n",
       "          (bn3): FrozenBatchNorm2d(1024, eps=1e-05)\n",
       "          (relu): ReLU(inplace=True)\n",
       "        )\n",
       "        (3): Bottleneck(\n",
       "          (conv1): Conv2d(1024, 256, kernel_size=(1, 1), stride=(1, 1), bias=False)\n",
       "          (bn1): FrozenBatchNorm2d(256, eps=1e-05)\n",
       "          (conv2): Conv2d(256, 256, kernel_size=(3, 3), stride=(1, 1), padding=(1, 1), bias=False)\n",
       "          (bn2): FrozenBatchNorm2d(256, eps=1e-05)\n",
       "          (conv3): Conv2d(256, 1024, kernel_size=(1, 1), stride=(1, 1), bias=False)\n",
       "          (bn3): FrozenBatchNorm2d(1024, eps=1e-05)\n",
       "          (relu): ReLU(inplace=True)\n",
       "        )\n",
       "        (4): Bottleneck(\n",
       "          (conv1): Conv2d(1024, 256, kernel_size=(1, 1), stride=(1, 1), bias=False)\n",
       "          (bn1): FrozenBatchNorm2d(256, eps=1e-05)\n",
       "          (conv2): Conv2d(256, 256, kernel_size=(3, 3), stride=(1, 1), padding=(1, 1), bias=False)\n",
       "          (bn2): FrozenBatchNorm2d(256, eps=1e-05)\n",
       "          (conv3): Conv2d(256, 1024, kernel_size=(1, 1), stride=(1, 1), bias=False)\n",
       "          (bn3): FrozenBatchNorm2d(1024, eps=1e-05)\n",
       "          (relu): ReLU(inplace=True)\n",
       "        )\n",
       "        (5): Bottleneck(\n",
       "          (conv1): Conv2d(1024, 256, kernel_size=(1, 1), stride=(1, 1), bias=False)\n",
       "          (bn1): FrozenBatchNorm2d(256, eps=1e-05)\n",
       "          (conv2): Conv2d(256, 256, kernel_size=(3, 3), stride=(1, 1), padding=(1, 1), bias=False)\n",
       "          (bn2): FrozenBatchNorm2d(256, eps=1e-05)\n",
       "          (conv3): Conv2d(256, 1024, kernel_size=(1, 1), stride=(1, 1), bias=False)\n",
       "          (bn3): FrozenBatchNorm2d(1024, eps=1e-05)\n",
       "          (relu): ReLU(inplace=True)\n",
       "        )\n",
       "      )\n",
       "      (layer4): Sequential(\n",
       "        (0): Bottleneck(\n",
       "          (conv1): Conv2d(1024, 512, kernel_size=(1, 1), stride=(1, 1), bias=False)\n",
       "          (bn1): FrozenBatchNorm2d(512, eps=1e-05)\n",
       "          (conv2): Conv2d(512, 512, kernel_size=(3, 3), stride=(2, 2), padding=(1, 1), bias=False)\n",
       "          (bn2): FrozenBatchNorm2d(512, eps=1e-05)\n",
       "          (conv3): Conv2d(512, 2048, kernel_size=(1, 1), stride=(1, 1), bias=False)\n",
       "          (bn3): FrozenBatchNorm2d(2048, eps=1e-05)\n",
       "          (relu): ReLU(inplace=True)\n",
       "          (downsample): Sequential(\n",
       "            (0): Conv2d(1024, 2048, kernel_size=(1, 1), stride=(2, 2), bias=False)\n",
       "            (1): FrozenBatchNorm2d(2048, eps=1e-05)\n",
       "          )\n",
       "        )\n",
       "        (1): Bottleneck(\n",
       "          (conv1): Conv2d(2048, 512, kernel_size=(1, 1), stride=(1, 1), bias=False)\n",
       "          (bn1): FrozenBatchNorm2d(512, eps=1e-05)\n",
       "          (conv2): Conv2d(512, 512, kernel_size=(3, 3), stride=(1, 1), padding=(1, 1), bias=False)\n",
       "          (bn2): FrozenBatchNorm2d(512, eps=1e-05)\n",
       "          (conv3): Conv2d(512, 2048, kernel_size=(1, 1), stride=(1, 1), bias=False)\n",
       "          (bn3): FrozenBatchNorm2d(2048, eps=1e-05)\n",
       "          (relu): ReLU(inplace=True)\n",
       "        )\n",
       "        (2): Bottleneck(\n",
       "          (conv1): Conv2d(2048, 512, kernel_size=(1, 1), stride=(1, 1), bias=False)\n",
       "          (bn1): FrozenBatchNorm2d(512, eps=1e-05)\n",
       "          (conv2): Conv2d(512, 512, kernel_size=(3, 3), stride=(1, 1), padding=(1, 1), bias=False)\n",
       "          (bn2): FrozenBatchNorm2d(512, eps=1e-05)\n",
       "          (conv3): Conv2d(512, 2048, kernel_size=(1, 1), stride=(1, 1), bias=False)\n",
       "          (bn3): FrozenBatchNorm2d(2048, eps=1e-05)\n",
       "          (relu): ReLU(inplace=True)\n",
       "        )\n",
       "      )\n",
       "    )\n",
       "    (fpn): FeaturePyramidNetwork(\n",
       "      (inner_blocks): ModuleList(\n",
       "        (0): Conv2dNormActivation(\n",
       "          (0): Conv2d(512, 256, kernel_size=(1, 1), stride=(1, 1))\n",
       "        )\n",
       "        (1): Conv2dNormActivation(\n",
       "          (0): Conv2d(1024, 256, kernel_size=(1, 1), stride=(1, 1))\n",
       "        )\n",
       "        (2): Conv2dNormActivation(\n",
       "          (0): Conv2d(2048, 256, kernel_size=(1, 1), stride=(1, 1))\n",
       "        )\n",
       "      )\n",
       "      (layer_blocks): ModuleList(\n",
       "        (0): Conv2dNormActivation(\n",
       "          (0): Conv2d(256, 256, kernel_size=(3, 3), stride=(1, 1), padding=(1, 1))\n",
       "        )\n",
       "        (1): Conv2dNormActivation(\n",
       "          (0): Conv2d(256, 256, kernel_size=(3, 3), stride=(1, 1), padding=(1, 1))\n",
       "        )\n",
       "        (2): Conv2dNormActivation(\n",
       "          (0): Conv2d(256, 256, kernel_size=(3, 3), stride=(1, 1), padding=(1, 1))\n",
       "        )\n",
       "      )\n",
       "      (extra_blocks): LastLevelP6P7(\n",
       "        (p6): Conv2d(256, 256, kernel_size=(3, 3), stride=(2, 2), padding=(1, 1))\n",
       "        (p7): Conv2d(256, 256, kernel_size=(3, 3), stride=(2, 2), padding=(1, 1))\n",
       "      )\n",
       "    )\n",
       "  )\n",
       "  (anchor_generator): AnchorGenerator()\n",
       "  (head): RetinaNetHead(\n",
       "    (classification_head): RetinaNetClassificationHead(\n",
       "      (conv): Sequential(\n",
       "        (0): Conv2dNormActivation(\n",
       "          (0): Conv2d(256, 256, kernel_size=(3, 3), stride=(1, 1), padding=(1, 1))\n",
       "          (1): ReLU(inplace=True)\n",
       "        )\n",
       "        (1): Conv2dNormActivation(\n",
       "          (0): Conv2d(256, 256, kernel_size=(3, 3), stride=(1, 1), padding=(1, 1))\n",
       "          (1): ReLU(inplace=True)\n",
       "        )\n",
       "        (2): Conv2dNormActivation(\n",
       "          (0): Conv2d(256, 256, kernel_size=(3, 3), stride=(1, 1), padding=(1, 1))\n",
       "          (1): ReLU(inplace=True)\n",
       "        )\n",
       "        (3): Conv2dNormActivation(\n",
       "          (0): Conv2d(256, 256, kernel_size=(3, 3), stride=(1, 1), padding=(1, 1))\n",
       "          (1): ReLU(inplace=True)\n",
       "        )\n",
       "      )\n",
       "      (cls_logits): Conv2d(256, 18, kernel_size=(3, 3), stride=(1, 1), padding=(1, 1))\n",
       "    )\n",
       "    (regression_head): RetinaNetRegressionHead(\n",
       "      (conv): Sequential(\n",
       "        (0): Conv2dNormActivation(\n",
       "          (0): Conv2d(256, 256, kernel_size=(3, 3), stride=(1, 1), padding=(1, 1))\n",
       "          (1): ReLU(inplace=True)\n",
       "        )\n",
       "        (1): Conv2dNormActivation(\n",
       "          (0): Conv2d(256, 256, kernel_size=(3, 3), stride=(1, 1), padding=(1, 1))\n",
       "          (1): ReLU(inplace=True)\n",
       "        )\n",
       "        (2): Conv2dNormActivation(\n",
       "          (0): Conv2d(256, 256, kernel_size=(3, 3), stride=(1, 1), padding=(1, 1))\n",
       "          (1): ReLU(inplace=True)\n",
       "        )\n",
       "        (3): Conv2dNormActivation(\n",
       "          (0): Conv2d(256, 256, kernel_size=(3, 3), stride=(1, 1), padding=(1, 1))\n",
       "          (1): ReLU(inplace=True)\n",
       "        )\n",
       "      )\n",
       "      (bbox_reg): Conv2d(256, 36, kernel_size=(3, 3), stride=(1, 1), padding=(1, 1))\n",
       "    )\n",
       "  )\n",
       "  (transform): GeneralizedRCNNTransform(\n",
       "      Normalize(mean=[0.485, 0.456, 0.406], std=[0.229, 0.224, 0.225])\n",
       "      Resize(min_size=(800,), max_size=1333, mode='bilinear')\n",
       "  )\n",
       ")"
      ]
     },
     "execution_count": 65,
     "metadata": {},
     "output_type": "execute_result"
    }
   ],
   "source": [
    "model = torchvision.models.detection.retinanet_resnet50_fpn(num_classes=2)\n",
    "model.load_state_dict(torch.load(\"models/retina300R2.pt\"))\n",
    "model.eval()\n",
    "model.to(device)"
   ]
  },
  {
   "attachments": {},
   "cell_type": "markdown",
   "metadata": {},
   "source": [
    "### Load Faster R-CNN"
   ]
  },
  {
   "cell_type": "code",
   "execution_count": 91,
   "metadata": {},
   "outputs": [
    {
     "data": {
      "text/plain": [
       "FasterRCNN(\n",
       "  (transform): GeneralizedRCNNTransform(\n",
       "      Normalize(mean=[0.485, 0.456, 0.406], std=[0.229, 0.224, 0.225])\n",
       "      Resize(min_size=(800,), max_size=1333, mode='bilinear')\n",
       "  )\n",
       "  (backbone): BackboneWithFPN(\n",
       "    (body): IntermediateLayerGetter(\n",
       "      (conv1): Conv2d(3, 64, kernel_size=(7, 7), stride=(2, 2), padding=(3, 3), bias=False)\n",
       "      (bn1): FrozenBatchNorm2d(64, eps=1e-05)\n",
       "      (relu): ReLU(inplace=True)\n",
       "      (maxpool): MaxPool2d(kernel_size=3, stride=2, padding=1, dilation=1, ceil_mode=False)\n",
       "      (layer1): Sequential(\n",
       "        (0): Bottleneck(\n",
       "          (conv1): Conv2d(64, 64, kernel_size=(1, 1), stride=(1, 1), bias=False)\n",
       "          (bn1): FrozenBatchNorm2d(64, eps=1e-05)\n",
       "          (conv2): Conv2d(64, 64, kernel_size=(3, 3), stride=(1, 1), padding=(1, 1), bias=False)\n",
       "          (bn2): FrozenBatchNorm2d(64, eps=1e-05)\n",
       "          (conv3): Conv2d(64, 256, kernel_size=(1, 1), stride=(1, 1), bias=False)\n",
       "          (bn3): FrozenBatchNorm2d(256, eps=1e-05)\n",
       "          (relu): ReLU(inplace=True)\n",
       "          (downsample): Sequential(\n",
       "            (0): Conv2d(64, 256, kernel_size=(1, 1), stride=(1, 1), bias=False)\n",
       "            (1): FrozenBatchNorm2d(256, eps=1e-05)\n",
       "          )\n",
       "        )\n",
       "        (1): Bottleneck(\n",
       "          (conv1): Conv2d(256, 64, kernel_size=(1, 1), stride=(1, 1), bias=False)\n",
       "          (bn1): FrozenBatchNorm2d(64, eps=1e-05)\n",
       "          (conv2): Conv2d(64, 64, kernel_size=(3, 3), stride=(1, 1), padding=(1, 1), bias=False)\n",
       "          (bn2): FrozenBatchNorm2d(64, eps=1e-05)\n",
       "          (conv3): Conv2d(64, 256, kernel_size=(1, 1), stride=(1, 1), bias=False)\n",
       "          (bn3): FrozenBatchNorm2d(256, eps=1e-05)\n",
       "          (relu): ReLU(inplace=True)\n",
       "        )\n",
       "        (2): Bottleneck(\n",
       "          (conv1): Conv2d(256, 64, kernel_size=(1, 1), stride=(1, 1), bias=False)\n",
       "          (bn1): FrozenBatchNorm2d(64, eps=1e-05)\n",
       "          (conv2): Conv2d(64, 64, kernel_size=(3, 3), stride=(1, 1), padding=(1, 1), bias=False)\n",
       "          (bn2): FrozenBatchNorm2d(64, eps=1e-05)\n",
       "          (conv3): Conv2d(64, 256, kernel_size=(1, 1), stride=(1, 1), bias=False)\n",
       "          (bn3): FrozenBatchNorm2d(256, eps=1e-05)\n",
       "          (relu): ReLU(inplace=True)\n",
       "        )\n",
       "      )\n",
       "      (layer2): Sequential(\n",
       "        (0): Bottleneck(\n",
       "          (conv1): Conv2d(256, 128, kernel_size=(1, 1), stride=(1, 1), bias=False)\n",
       "          (bn1): FrozenBatchNorm2d(128, eps=1e-05)\n",
       "          (conv2): Conv2d(128, 128, kernel_size=(3, 3), stride=(2, 2), padding=(1, 1), bias=False)\n",
       "          (bn2): FrozenBatchNorm2d(128, eps=1e-05)\n",
       "          (conv3): Conv2d(128, 512, kernel_size=(1, 1), stride=(1, 1), bias=False)\n",
       "          (bn3): FrozenBatchNorm2d(512, eps=1e-05)\n",
       "          (relu): ReLU(inplace=True)\n",
       "          (downsample): Sequential(\n",
       "            (0): Conv2d(256, 512, kernel_size=(1, 1), stride=(2, 2), bias=False)\n",
       "            (1): FrozenBatchNorm2d(512, eps=1e-05)\n",
       "          )\n",
       "        )\n",
       "        (1): Bottleneck(\n",
       "          (conv1): Conv2d(512, 128, kernel_size=(1, 1), stride=(1, 1), bias=False)\n",
       "          (bn1): FrozenBatchNorm2d(128, eps=1e-05)\n",
       "          (conv2): Conv2d(128, 128, kernel_size=(3, 3), stride=(1, 1), padding=(1, 1), bias=False)\n",
       "          (bn2): FrozenBatchNorm2d(128, eps=1e-05)\n",
       "          (conv3): Conv2d(128, 512, kernel_size=(1, 1), stride=(1, 1), bias=False)\n",
       "          (bn3): FrozenBatchNorm2d(512, eps=1e-05)\n",
       "          (relu): ReLU(inplace=True)\n",
       "        )\n",
       "        (2): Bottleneck(\n",
       "          (conv1): Conv2d(512, 128, kernel_size=(1, 1), stride=(1, 1), bias=False)\n",
       "          (bn1): FrozenBatchNorm2d(128, eps=1e-05)\n",
       "          (conv2): Conv2d(128, 128, kernel_size=(3, 3), stride=(1, 1), padding=(1, 1), bias=False)\n",
       "          (bn2): FrozenBatchNorm2d(128, eps=1e-05)\n",
       "          (conv3): Conv2d(128, 512, kernel_size=(1, 1), stride=(1, 1), bias=False)\n",
       "          (bn3): FrozenBatchNorm2d(512, eps=1e-05)\n",
       "          (relu): ReLU(inplace=True)\n",
       "        )\n",
       "        (3): Bottleneck(\n",
       "          (conv1): Conv2d(512, 128, kernel_size=(1, 1), stride=(1, 1), bias=False)\n",
       "          (bn1): FrozenBatchNorm2d(128, eps=1e-05)\n",
       "          (conv2): Conv2d(128, 128, kernel_size=(3, 3), stride=(1, 1), padding=(1, 1), bias=False)\n",
       "          (bn2): FrozenBatchNorm2d(128, eps=1e-05)\n",
       "          (conv3): Conv2d(128, 512, kernel_size=(1, 1), stride=(1, 1), bias=False)\n",
       "          (bn3): FrozenBatchNorm2d(512, eps=1e-05)\n",
       "          (relu): ReLU(inplace=True)\n",
       "        )\n",
       "      )\n",
       "      (layer3): Sequential(\n",
       "        (0): Bottleneck(\n",
       "          (conv1): Conv2d(512, 256, kernel_size=(1, 1), stride=(1, 1), bias=False)\n",
       "          (bn1): FrozenBatchNorm2d(256, eps=1e-05)\n",
       "          (conv2): Conv2d(256, 256, kernel_size=(3, 3), stride=(2, 2), padding=(1, 1), bias=False)\n",
       "          (bn2): FrozenBatchNorm2d(256, eps=1e-05)\n",
       "          (conv3): Conv2d(256, 1024, kernel_size=(1, 1), stride=(1, 1), bias=False)\n",
       "          (bn3): FrozenBatchNorm2d(1024, eps=1e-05)\n",
       "          (relu): ReLU(inplace=True)\n",
       "          (downsample): Sequential(\n",
       "            (0): Conv2d(512, 1024, kernel_size=(1, 1), stride=(2, 2), bias=False)\n",
       "            (1): FrozenBatchNorm2d(1024, eps=1e-05)\n",
       "          )\n",
       "        )\n",
       "        (1): Bottleneck(\n",
       "          (conv1): Conv2d(1024, 256, kernel_size=(1, 1), stride=(1, 1), bias=False)\n",
       "          (bn1): FrozenBatchNorm2d(256, eps=1e-05)\n",
       "          (conv2): Conv2d(256, 256, kernel_size=(3, 3), stride=(1, 1), padding=(1, 1), bias=False)\n",
       "          (bn2): FrozenBatchNorm2d(256, eps=1e-05)\n",
       "          (conv3): Conv2d(256, 1024, kernel_size=(1, 1), stride=(1, 1), bias=False)\n",
       "          (bn3): FrozenBatchNorm2d(1024, eps=1e-05)\n",
       "          (relu): ReLU(inplace=True)\n",
       "        )\n",
       "        (2): Bottleneck(\n",
       "          (conv1): Conv2d(1024, 256, kernel_size=(1, 1), stride=(1, 1), bias=False)\n",
       "          (bn1): FrozenBatchNorm2d(256, eps=1e-05)\n",
       "          (conv2): Conv2d(256, 256, kernel_size=(3, 3), stride=(1, 1), padding=(1, 1), bias=False)\n",
       "          (bn2): FrozenBatchNorm2d(256, eps=1e-05)\n",
       "          (conv3): Conv2d(256, 1024, kernel_size=(1, 1), stride=(1, 1), bias=False)\n",
       "          (bn3): FrozenBatchNorm2d(1024, eps=1e-05)\n",
       "          (relu): ReLU(inplace=True)\n",
       "        )\n",
       "        (3): Bottleneck(\n",
       "          (conv1): Conv2d(1024, 256, kernel_size=(1, 1), stride=(1, 1), bias=False)\n",
       "          (bn1): FrozenBatchNorm2d(256, eps=1e-05)\n",
       "          (conv2): Conv2d(256, 256, kernel_size=(3, 3), stride=(1, 1), padding=(1, 1), bias=False)\n",
       "          (bn2): FrozenBatchNorm2d(256, eps=1e-05)\n",
       "          (conv3): Conv2d(256, 1024, kernel_size=(1, 1), stride=(1, 1), bias=False)\n",
       "          (bn3): FrozenBatchNorm2d(1024, eps=1e-05)\n",
       "          (relu): ReLU(inplace=True)\n",
       "        )\n",
       "        (4): Bottleneck(\n",
       "          (conv1): Conv2d(1024, 256, kernel_size=(1, 1), stride=(1, 1), bias=False)\n",
       "          (bn1): FrozenBatchNorm2d(256, eps=1e-05)\n",
       "          (conv2): Conv2d(256, 256, kernel_size=(3, 3), stride=(1, 1), padding=(1, 1), bias=False)\n",
       "          (bn2): FrozenBatchNorm2d(256, eps=1e-05)\n",
       "          (conv3): Conv2d(256, 1024, kernel_size=(1, 1), stride=(1, 1), bias=False)\n",
       "          (bn3): FrozenBatchNorm2d(1024, eps=1e-05)\n",
       "          (relu): ReLU(inplace=True)\n",
       "        )\n",
       "        (5): Bottleneck(\n",
       "          (conv1): Conv2d(1024, 256, kernel_size=(1, 1), stride=(1, 1), bias=False)\n",
       "          (bn1): FrozenBatchNorm2d(256, eps=1e-05)\n",
       "          (conv2): Conv2d(256, 256, kernel_size=(3, 3), stride=(1, 1), padding=(1, 1), bias=False)\n",
       "          (bn2): FrozenBatchNorm2d(256, eps=1e-05)\n",
       "          (conv3): Conv2d(256, 1024, kernel_size=(1, 1), stride=(1, 1), bias=False)\n",
       "          (bn3): FrozenBatchNorm2d(1024, eps=1e-05)\n",
       "          (relu): ReLU(inplace=True)\n",
       "        )\n",
       "      )\n",
       "      (layer4): Sequential(\n",
       "        (0): Bottleneck(\n",
       "          (conv1): Conv2d(1024, 512, kernel_size=(1, 1), stride=(1, 1), bias=False)\n",
       "          (bn1): FrozenBatchNorm2d(512, eps=1e-05)\n",
       "          (conv2): Conv2d(512, 512, kernel_size=(3, 3), stride=(2, 2), padding=(1, 1), bias=False)\n",
       "          (bn2): FrozenBatchNorm2d(512, eps=1e-05)\n",
       "          (conv3): Conv2d(512, 2048, kernel_size=(1, 1), stride=(1, 1), bias=False)\n",
       "          (bn3): FrozenBatchNorm2d(2048, eps=1e-05)\n",
       "          (relu): ReLU(inplace=True)\n",
       "          (downsample): Sequential(\n",
       "            (0): Conv2d(1024, 2048, kernel_size=(1, 1), stride=(2, 2), bias=False)\n",
       "            (1): FrozenBatchNorm2d(2048, eps=1e-05)\n",
       "          )\n",
       "        )\n",
       "        (1): Bottleneck(\n",
       "          (conv1): Conv2d(2048, 512, kernel_size=(1, 1), stride=(1, 1), bias=False)\n",
       "          (bn1): FrozenBatchNorm2d(512, eps=1e-05)\n",
       "          (conv2): Conv2d(512, 512, kernel_size=(3, 3), stride=(1, 1), padding=(1, 1), bias=False)\n",
       "          (bn2): FrozenBatchNorm2d(512, eps=1e-05)\n",
       "          (conv3): Conv2d(512, 2048, kernel_size=(1, 1), stride=(1, 1), bias=False)\n",
       "          (bn3): FrozenBatchNorm2d(2048, eps=1e-05)\n",
       "          (relu): ReLU(inplace=True)\n",
       "        )\n",
       "        (2): Bottleneck(\n",
       "          (conv1): Conv2d(2048, 512, kernel_size=(1, 1), stride=(1, 1), bias=False)\n",
       "          (bn1): FrozenBatchNorm2d(512, eps=1e-05)\n",
       "          (conv2): Conv2d(512, 512, kernel_size=(3, 3), stride=(1, 1), padding=(1, 1), bias=False)\n",
       "          (bn2): FrozenBatchNorm2d(512, eps=1e-05)\n",
       "          (conv3): Conv2d(512, 2048, kernel_size=(1, 1), stride=(1, 1), bias=False)\n",
       "          (bn3): FrozenBatchNorm2d(2048, eps=1e-05)\n",
       "          (relu): ReLU(inplace=True)\n",
       "        )\n",
       "      )\n",
       "    )\n",
       "    (fpn): FeaturePyramidNetwork(\n",
       "      (inner_blocks): ModuleList(\n",
       "        (0): Conv2dNormActivation(\n",
       "          (0): Conv2d(256, 256, kernel_size=(1, 1), stride=(1, 1))\n",
       "        )\n",
       "        (1): Conv2dNormActivation(\n",
       "          (0): Conv2d(512, 256, kernel_size=(1, 1), stride=(1, 1))\n",
       "        )\n",
       "        (2): Conv2dNormActivation(\n",
       "          (0): Conv2d(1024, 256, kernel_size=(1, 1), stride=(1, 1))\n",
       "        )\n",
       "        (3): Conv2dNormActivation(\n",
       "          (0): Conv2d(2048, 256, kernel_size=(1, 1), stride=(1, 1))\n",
       "        )\n",
       "      )\n",
       "      (layer_blocks): ModuleList(\n",
       "        (0): Conv2dNormActivation(\n",
       "          (0): Conv2d(256, 256, kernel_size=(3, 3), stride=(1, 1), padding=(1, 1))\n",
       "        )\n",
       "        (1): Conv2dNormActivation(\n",
       "          (0): Conv2d(256, 256, kernel_size=(3, 3), stride=(1, 1), padding=(1, 1))\n",
       "        )\n",
       "        (2): Conv2dNormActivation(\n",
       "          (0): Conv2d(256, 256, kernel_size=(3, 3), stride=(1, 1), padding=(1, 1))\n",
       "        )\n",
       "        (3): Conv2dNormActivation(\n",
       "          (0): Conv2d(256, 256, kernel_size=(3, 3), stride=(1, 1), padding=(1, 1))\n",
       "        )\n",
       "      )\n",
       "      (extra_blocks): LastLevelMaxPool()\n",
       "    )\n",
       "  )\n",
       "  (rpn): RegionProposalNetwork(\n",
       "    (anchor_generator): AnchorGenerator()\n",
       "    (head): RPNHead(\n",
       "      (conv): Sequential(\n",
       "        (0): Conv2dNormActivation(\n",
       "          (0): Conv2d(256, 256, kernel_size=(3, 3), stride=(1, 1), padding=(1, 1))\n",
       "          (1): ReLU(inplace=True)\n",
       "        )\n",
       "      )\n",
       "      (cls_logits): Conv2d(256, 3, kernel_size=(1, 1), stride=(1, 1))\n",
       "      (bbox_pred): Conv2d(256, 12, kernel_size=(1, 1), stride=(1, 1))\n",
       "    )\n",
       "  )\n",
       "  (roi_heads): RoIHeads(\n",
       "    (box_roi_pool): MultiScaleRoIAlign(featmap_names=['0', '1', '2', '3'], output_size=(7, 7), sampling_ratio=2)\n",
       "    (box_head): TwoMLPHead(\n",
       "      (fc6): Linear(in_features=12544, out_features=1024, bias=True)\n",
       "      (fc7): Linear(in_features=1024, out_features=1024, bias=True)\n",
       "    )\n",
       "    (box_predictor): FastRCNNPredictor(\n",
       "      (cls_score): Linear(in_features=1024, out_features=2, bias=True)\n",
       "      (bbox_pred): Linear(in_features=1024, out_features=8, bias=True)\n",
       "    )\n",
       "  )\n",
       ")"
      ]
     },
     "execution_count": 91,
     "metadata": {},
     "output_type": "execute_result"
    }
   ],
   "source": [
    "model = torchvision.models.detection.fasterrcnn_resnet50_fpn()\n",
    "num_classes = 2  # 1 class (ship) + background\n",
    "# get number of input features for the classifier\n",
    "in_features = model.roi_heads.box_predictor.cls_score.in_features\n",
    "# replace the pre-trained head with a new one\n",
    "model.roi_heads.box_predictor = torchvision.models.detection.faster_rcnn.FastRCNNPredictor(in_features, num_classes)\n",
    "model.load_state_dict(torch.load(\"models/faster300ep.pt\"))\n",
    "model.eval()\n",
    "model.to(device)"
   ]
  },
  {
   "attachments": {},
   "cell_type": "markdown",
   "metadata": {},
   "source": [
    "### Load YOLOv7 "
   ]
  },
  {
   "cell_type": "code",
   "execution_count": 41,
   "metadata": {},
   "outputs": [
    {
     "name": "stderr",
     "output_type": "stream",
     "text": [
      "Using cache found in /home/alex/.cache/torch/hub/WongKinYiu_yolov7_main\n",
      "\n",
      "                 from  n    params  module                                  arguments                     \n",
      "  0                -1  1         0  models.common.ReOrg                     []                            \n",
      "  1                -1  1     10560  models.common.Conv                      [12, 96, 3, 1]                \n",
      "  2                -1  1    101952  models.common.DownC                     [96, 192, 1]                  \n",
      "  3                -1  1     12416  models.common.Conv                      [192, 64, 1, 1]               \n",
      "  4                -2  1     12416  models.common.Conv                      [192, 64, 1, 1]               \n",
      "  5                -1  1     36992  models.common.Conv                      [64, 64, 3, 1]                \n",
      "  6                -1  1     36992  models.common.Conv                      [64, 64, 3, 1]                \n",
      "  7                -1  1     36992  models.common.Conv                      [64, 64, 3, 1]                \n",
      "  8                -1  1     36992  models.common.Conv                      [64, 64, 3, 1]                \n",
      "  9                -1  1     36992  models.common.Conv                      [64, 64, 3, 1]                \n",
      " 10                -1  1     36992  models.common.Conv                      [64, 64, 3, 1]                \n",
      " 11                -1  1     36992  models.common.Conv                      [64, 64, 3, 1]                \n",
      " 12                -1  1     36992  models.common.Conv                      [64, 64, 3, 1]                \n",
      " 13[-1, -3, -5, -7, -9, -10]  1         0  models.common.Concat                    [1]                           \n",
      " 14                -1  1     74112  models.common.Conv                      [384, 192, 1, 1]              \n",
      " 15                -1  1    406656  models.common.DownC                     [192, 384, 1]                 \n",
      " 16                -1  1     49408  models.common.Conv                      [384, 128, 1, 1]              \n",
      " 17                -2  1     49408  models.common.Conv                      [384, 128, 1, 1]              \n",
      " 18                -1  1    147712  models.common.Conv                      [128, 128, 3, 1]              \n",
      " 19                -1  1    147712  models.common.Conv                      [128, 128, 3, 1]              \n",
      " 20                -1  1    147712  models.common.Conv                      [128, 128, 3, 1]              \n",
      " 21                -1  1    147712  models.common.Conv                      [128, 128, 3, 1]              \n",
      " 22                -1  1    147712  models.common.Conv                      [128, 128, 3, 1]              \n",
      " 23                -1  1    147712  models.common.Conv                      [128, 128, 3, 1]              \n",
      " 24                -1  1    147712  models.common.Conv                      [128, 128, 3, 1]              \n",
      " 25                -1  1    147712  models.common.Conv                      [128, 128, 3, 1]              \n",
      " 26[-1, -3, -5, -7, -9, -10]  1         0  models.common.Concat                    [1]                           \n",
      " 27                -1  1    295680  models.common.Conv                      [768, 384, 1, 1]              \n",
      " 28                -1  1   1624320  models.common.DownC                     [384, 768, 1]                 \n",
      " 29                -1  1    197120  models.common.Conv                      [768, 256, 1, 1]              \n",
      " 30                -2  1    197120  models.common.Conv                      [768, 256, 1, 1]              \n",
      " 31                -1  1    590336  models.common.Conv                      [256, 256, 3, 1]              \n",
      " 32                -1  1    590336  models.common.Conv                      [256, 256, 3, 1]              \n",
      " 33                -1  1    590336  models.common.Conv                      [256, 256, 3, 1]              \n",
      " 34                -1  1    590336  models.common.Conv                      [256, 256, 3, 1]              \n",
      " 35                -1  1    590336  models.common.Conv                      [256, 256, 3, 1]              \n",
      " 36                -1  1    590336  models.common.Conv                      [256, 256, 3, 1]              \n",
      " 37                -1  1    590336  models.common.Conv                      [256, 256, 3, 1]              \n",
      " 38                -1  1    590336  models.common.Conv                      [256, 256, 3, 1]              \n",
      " 39[-1, -3, -5, -7, -9, -10]  1         0  models.common.Concat                    [1]                           \n",
      " 40                -1  1   1181184  models.common.Conv                      [1536, 768, 1, 1]             \n",
      " 41                -1  1   5017344  models.common.DownC                     [768, 1152, 1]                \n",
      " 42                -1  1    443136  models.common.Conv                      [1152, 384, 1, 1]             \n",
      " 43                -2  1    443136  models.common.Conv                      [1152, 384, 1, 1]             \n",
      " 44                -1  1   1327872  models.common.Conv                      [384, 384, 3, 1]              \n",
      " 45                -1  1   1327872  models.common.Conv                      [384, 384, 3, 1]              \n",
      " 46                -1  1   1327872  models.common.Conv                      [384, 384, 3, 1]              \n",
      " 47                -1  1   1327872  models.common.Conv                      [384, 384, 3, 1]              \n",
      " 48                -1  1   1327872  models.common.Conv                      [384, 384, 3, 1]              \n",
      " 49                -1  1   1327872  models.common.Conv                      [384, 384, 3, 1]              \n",
      " 50                -1  1   1327872  models.common.Conv                      [384, 384, 3, 1]              \n",
      " 51                -1  1   1327872  models.common.Conv                      [384, 384, 3, 1]              \n",
      " 52[-1, -3, -5, -7, -9, -10]  1         0  models.common.Concat                    [1]                           \n",
      " 53                -1  1   2656512  models.common.Conv                      [2304, 1152, 1, 1]            \n",
      " 54                -1  1  10179840  models.common.DownC                     [1152, 1536, 1]               \n",
      " 55                -1  1    787456  models.common.Conv                      [1536, 512, 1, 1]             \n",
      " 56                -2  1    787456  models.common.Conv                      [1536, 512, 1, 1]             \n",
      " 57                -1  1   2360320  models.common.Conv                      [512, 512, 3, 1]              \n",
      " 58                -1  1   2360320  models.common.Conv                      [512, 512, 3, 1]              \n",
      " 59                -1  1   2360320  models.common.Conv                      [512, 512, 3, 1]              \n",
      " 60                -1  1   2360320  models.common.Conv                      [512, 512, 3, 1]              \n",
      " 61                -1  1   2360320  models.common.Conv                      [512, 512, 3, 1]              \n",
      " 62                -1  1   2360320  models.common.Conv                      [512, 512, 3, 1]              \n",
      " 63                -1  1   2360320  models.common.Conv                      [512, 512, 3, 1]              \n",
      " 64                -1  1   2360320  models.common.Conv                      [512, 512, 3, 1]              \n",
      " 65[-1, -3, -5, -7, -9, -10]  1         0  models.common.Concat                    [1]                           \n",
      " 66                -1  1   4721664  models.common.Conv                      [3072, 1536, 1, 1]            \n",
      " 67                -1  1  17115648  models.common.SPPCSPC                   [1536, 768, 1]                \n",
      " 68                -1  1    443520  models.common.Conv                      [768, 576, 1, 1]              \n",
      " 69                -1  1         0  torch.nn.modules.upsampling.Upsample    [None, 2, 'nearest']          \n",
      " 70                53  1    664704  models.common.Conv                      [1152, 576, 1, 1]             \n",
      " 71          [-1, -2]  1         0  models.common.Concat                    [1]                           \n",
      " 72                -1  1    443136  models.common.Conv                      [1152, 384, 1, 1]             \n",
      " 73                -2  1    443136  models.common.Conv                      [1152, 384, 1, 1]             \n",
      " 74                -1  1    663936  models.common.Conv                      [384, 192, 3, 1]              \n",
      " 75                -1  1    332160  models.common.Conv                      [192, 192, 3, 1]              \n",
      " 76                -1  1    332160  models.common.Conv                      [192, 192, 3, 1]              \n",
      " 77                -1  1    332160  models.common.Conv                      [192, 192, 3, 1]              \n",
      " 78                -1  1    332160  models.common.Conv                      [192, 192, 3, 1]              \n",
      " 79                -1  1    332160  models.common.Conv                      [192, 192, 3, 1]              \n",
      " 80                -1  1    332160  models.common.Conv                      [192, 192, 3, 1]              \n",
      " 81                -1  1    332160  models.common.Conv                      [192, 192, 3, 1]              \n",
      " 82[-1, -2, -3, -4, -5, -6, -7, -8, -9, -10]  1         0  models.common.Concat                    [1]                           \n",
      " 83                -1  1   1328256  models.common.Conv                      [2304, 576, 1, 1]             \n",
      " 84                -1  1    221952  models.common.Conv                      [576, 384, 1, 1]              \n",
      " 85                -1  1         0  torch.nn.modules.upsampling.Upsample    [None, 2, 'nearest']          \n",
      " 86                40  1    295680  models.common.Conv                      [768, 384, 1, 1]              \n",
      " 87          [-1, -2]  1         0  models.common.Concat                    [1]                           \n",
      " 88                -1  1    197120  models.common.Conv                      [768, 256, 1, 1]              \n",
      " 89                -2  1    197120  models.common.Conv                      [768, 256, 1, 1]              \n",
      " 90                -1  1    295168  models.common.Conv                      [256, 128, 3, 1]              \n",
      " 91                -1  1    147712  models.common.Conv                      [128, 128, 3, 1]              \n",
      " 92                -1  1    147712  models.common.Conv                      [128, 128, 3, 1]              \n",
      " 93                -1  1    147712  models.common.Conv                      [128, 128, 3, 1]              \n",
      " 94                -1  1    147712  models.common.Conv                      [128, 128, 3, 1]              \n",
      " 95                -1  1    147712  models.common.Conv                      [128, 128, 3, 1]              \n",
      " 96                -1  1    147712  models.common.Conv                      [128, 128, 3, 1]              \n",
      " 97                -1  1    147712  models.common.Conv                      [128, 128, 3, 1]              \n",
      " 98[-1, -2, -3, -4, -5, -6, -7, -8, -9, -10]  1         0  models.common.Concat                    [1]                           \n",
      " 99                -1  1    590592  models.common.Conv                      [1536, 384, 1, 1]             \n",
      "100                -1  1     74112  models.common.Conv                      [384, 192, 1, 1]              \n",
      "101                -1  1         0  torch.nn.modules.upsampling.Upsample    [None, 2, 'nearest']          \n",
      "102                27  1     74112  models.common.Conv                      [384, 192, 1, 1]              \n",
      "103          [-1, -2]  1         0  models.common.Concat                    [1]                           \n",
      "104                -1  1     49408  models.common.Conv                      [384, 128, 1, 1]              \n",
      "105                -2  1     49408  models.common.Conv                      [384, 128, 1, 1]              \n",
      "106                -1  1     73856  models.common.Conv                      [128, 64, 3, 1]               \n",
      "107                -1  1     36992  models.common.Conv                      [64, 64, 3, 1]                \n",
      "108                -1  1     36992  models.common.Conv                      [64, 64, 3, 1]                \n",
      "109                -1  1     36992  models.common.Conv                      [64, 64, 3, 1]                \n",
      "110                -1  1     36992  models.common.Conv                      [64, 64, 3, 1]                \n",
      "111                -1  1     36992  models.common.Conv                      [64, 64, 3, 1]                \n",
      "112                -1  1     36992  models.common.Conv                      [64, 64, 3, 1]                \n",
      "113                -1  1     36992  models.common.Conv                      [64, 64, 3, 1]                \n",
      "114[-1, -2, -3, -4, -5, -6, -7, -8, -9, -10]  1         0  models.common.Concat                    [1]                           \n",
      "115                -1  1    147840  models.common.Conv                      [768, 192, 1, 1]              \n",
      "116                -1  1    406656  models.common.DownC                     [192, 384, 1]                 \n",
      "117          [-1, 99]  1         0  models.common.Concat                    [1]                           \n",
      "118                -1  1    197120  models.common.Conv                      [768, 256, 1, 1]              \n",
      "119                -2  1    197120  models.common.Conv                      [768, 256, 1, 1]              \n",
      "120                -1  1    295168  models.common.Conv                      [256, 128, 3, 1]              \n",
      "121                -1  1    147712  models.common.Conv                      [128, 128, 3, 1]              \n",
      "122                -1  1    147712  models.common.Conv                      [128, 128, 3, 1]              \n",
      "123                -1  1    147712  models.common.Conv                      [128, 128, 3, 1]              \n",
      "124                -1  1    147712  models.common.Conv                      [128, 128, 3, 1]              \n",
      "125                -1  1    147712  models.common.Conv                      [128, 128, 3, 1]              \n",
      "126                -1  1    147712  models.common.Conv                      [128, 128, 3, 1]              \n",
      "127                -1  1    147712  models.common.Conv                      [128, 128, 3, 1]              \n",
      "128[-1, -2, -3, -4, -5, -6, -7, -8, -9, -10]  1         0  models.common.Concat                    [1]                           \n",
      "129                -1  1    590592  models.common.Conv                      [1536, 384, 1, 1]             \n",
      "130                -1  1   1255296  models.common.DownC                     [384, 576, 1]                 \n",
      "131          [-1, 83]  1         0  models.common.Concat                    [1]                           \n",
      "132                -1  1    443136  models.common.Conv                      [1152, 384, 1, 1]             \n",
      "133                -2  1    443136  models.common.Conv                      [1152, 384, 1, 1]             \n",
      "134                -1  1    663936  models.common.Conv                      [384, 192, 3, 1]              \n",
      "135                -1  1    332160  models.common.Conv                      [192, 192, 3, 1]              \n",
      "136                -1  1    332160  models.common.Conv                      [192, 192, 3, 1]              \n",
      "137                -1  1    332160  models.common.Conv                      [192, 192, 3, 1]              \n",
      "138                -1  1    332160  models.common.Conv                      [192, 192, 3, 1]              \n",
      "139                -1  1    332160  models.common.Conv                      [192, 192, 3, 1]              \n",
      "140                -1  1    332160  models.common.Conv                      [192, 192, 3, 1]              \n",
      "141                -1  1    332160  models.common.Conv                      [192, 192, 3, 1]              \n",
      "142[-1, -2, -3, -4, -5, -6, -7, -8, -9, -10]  1         0  models.common.Concat                    [1]                           \n",
      "143                -1  1   1328256  models.common.Conv                      [2304, 576, 1, 1]             \n",
      "144                -1  1   2546304  models.common.DownC                     [576, 768, 1]                 \n",
      "145          [-1, 67]  1         0  models.common.Concat                    [1]                           \n",
      "146                -1  1    787456  models.common.Conv                      [1536, 512, 1, 1]             \n",
      "147                -2  1    787456  models.common.Conv                      [1536, 512, 1, 1]             \n",
      "148                -1  1   1180160  models.common.Conv                      [512, 256, 3, 1]              \n",
      "149                -1  1    590336  models.common.Conv                      [256, 256, 3, 1]              \n",
      "150                -1  1    590336  models.common.Conv                      [256, 256, 3, 1]              \n",
      "151                -1  1    590336  models.common.Conv                      [256, 256, 3, 1]              \n",
      "152                -1  1    590336  models.common.Conv                      [256, 256, 3, 1]              \n",
      "153                -1  1    590336  models.common.Conv                      [256, 256, 3, 1]              \n",
      "154                -1  1    590336  models.common.Conv                      [256, 256, 3, 1]              \n",
      "155                -1  1    590336  models.common.Conv                      [256, 256, 3, 1]              \n",
      "156[-1, -2, -3, -4, -5, -6, -7, -8, -9, -10]  1         0  models.common.Concat                    [1]                           \n",
      "157                -1  1   2360832  models.common.Conv                      [3072, 768, 1, 1]             \n",
      "158               115  1    664320  models.common.Conv                      [192, 384, 3, 1]              \n",
      "159               129  1   2655744  models.common.Conv                      [384, 768, 3, 1]              \n",
      "160               143  1   5974272  models.common.Conv                      [576, 1152, 3, 1]             \n",
      "161               157  1  10619904  models.common.Conv                      [768, 1536, 3, 1]             \n",
      "162[158, 159, 160, 161]  1     69192  models.yolo.Detect                      [1, [[19, 27, 44, 40, 38, 94], [96, 68, 86, 152, 180, 137], [140, 301, 303, 264, 238, 542], [436, 615, 739, 380, 925, 792]], [384, 768, 1152, 1536]]\n",
      "/home/alex/.local/lib/python3.8/site-packages/torch/functional.py:504: UserWarning: torch.meshgrid: in an upcoming release, it will be required to pass the indexing argument. (Triggered internally at ../aten/src/ATen/native/TensorShape.cpp:3190.)\n",
      "  return _VF.meshgrid(tensors, **kwargs)  # type: ignore[attr-defined]\n",
      "Model Summary: 702 layers, 132899016 parameters, 132899016 gradients, 174.2 GFLOPS\n",
      "\n",
      "YOLOR 🚀 2023-2-14 torch 1.13.1+cu117 CUDA:0 (NVIDIA GeForce RTX 2060 SUPER, 7979.3125MB)\n",
      "\n"
     ]
    },
    {
     "name": "stdout",
     "output_type": "stream",
     "text": [
      "Adding autoShape... \n"
     ]
    },
    {
     "data": {
      "text/plain": [
       "autoShape(\n",
       "  (model): Model(\n",
       "    (model): Sequential(\n",
       "      (0): ReOrg()\n",
       "      (1): Conv(\n",
       "        (conv): Conv2d(12, 96, kernel_size=(3, 3), stride=(1, 1), padding=(1, 1), bias=False)\n",
       "        (bn): BatchNorm2d(96, eps=0.001, momentum=0.03, affine=True, track_running_stats=True)\n",
       "        (act): SiLU()\n",
       "      )\n",
       "      (2): DownC(\n",
       "        (cv1): Conv(\n",
       "          (conv): Conv2d(96, 96, kernel_size=(1, 1), stride=(1, 1), bias=False)\n",
       "          (bn): BatchNorm2d(96, eps=0.001, momentum=0.03, affine=True, track_running_stats=True)\n",
       "          (act): SiLU()\n",
       "        )\n",
       "        (cv2): Conv(\n",
       "          (conv): Conv2d(96, 96, kernel_size=(3, 3), stride=(2, 2), padding=(1, 1), bias=False)\n",
       "          (bn): BatchNorm2d(96, eps=0.001, momentum=0.03, affine=True, track_running_stats=True)\n",
       "          (act): SiLU()\n",
       "        )\n",
       "        (cv3): Conv(\n",
       "          (conv): Conv2d(96, 96, kernel_size=(1, 1), stride=(1, 1), bias=False)\n",
       "          (bn): BatchNorm2d(96, eps=0.001, momentum=0.03, affine=True, track_running_stats=True)\n",
       "          (act): SiLU()\n",
       "        )\n",
       "        (mp): MaxPool2d(kernel_size=2, stride=2, padding=0, dilation=1, ceil_mode=False)\n",
       "      )\n",
       "      (3): Conv(\n",
       "        (conv): Conv2d(192, 64, kernel_size=(1, 1), stride=(1, 1), bias=False)\n",
       "        (bn): BatchNorm2d(64, eps=0.001, momentum=0.03, affine=True, track_running_stats=True)\n",
       "        (act): SiLU()\n",
       "      )\n",
       "      (4): Conv(\n",
       "        (conv): Conv2d(192, 64, kernel_size=(1, 1), stride=(1, 1), bias=False)\n",
       "        (bn): BatchNorm2d(64, eps=0.001, momentum=0.03, affine=True, track_running_stats=True)\n",
       "        (act): SiLU()\n",
       "      )\n",
       "      (5): Conv(\n",
       "        (conv): Conv2d(64, 64, kernel_size=(3, 3), stride=(1, 1), padding=(1, 1), bias=False)\n",
       "        (bn): BatchNorm2d(64, eps=0.001, momentum=0.03, affine=True, track_running_stats=True)\n",
       "        (act): SiLU()\n",
       "      )\n",
       "      (6): Conv(\n",
       "        (conv): Conv2d(64, 64, kernel_size=(3, 3), stride=(1, 1), padding=(1, 1), bias=False)\n",
       "        (bn): BatchNorm2d(64, eps=0.001, momentum=0.03, affine=True, track_running_stats=True)\n",
       "        (act): SiLU()\n",
       "      )\n",
       "      (7): Conv(\n",
       "        (conv): Conv2d(64, 64, kernel_size=(3, 3), stride=(1, 1), padding=(1, 1), bias=False)\n",
       "        (bn): BatchNorm2d(64, eps=0.001, momentum=0.03, affine=True, track_running_stats=True)\n",
       "        (act): SiLU()\n",
       "      )\n",
       "      (8): Conv(\n",
       "        (conv): Conv2d(64, 64, kernel_size=(3, 3), stride=(1, 1), padding=(1, 1), bias=False)\n",
       "        (bn): BatchNorm2d(64, eps=0.001, momentum=0.03, affine=True, track_running_stats=True)\n",
       "        (act): SiLU()\n",
       "      )\n",
       "      (9): Conv(\n",
       "        (conv): Conv2d(64, 64, kernel_size=(3, 3), stride=(1, 1), padding=(1, 1), bias=False)\n",
       "        (bn): BatchNorm2d(64, eps=0.001, momentum=0.03, affine=True, track_running_stats=True)\n",
       "        (act): SiLU()\n",
       "      )\n",
       "      (10): Conv(\n",
       "        (conv): Conv2d(64, 64, kernel_size=(3, 3), stride=(1, 1), padding=(1, 1), bias=False)\n",
       "        (bn): BatchNorm2d(64, eps=0.001, momentum=0.03, affine=True, track_running_stats=True)\n",
       "        (act): SiLU()\n",
       "      )\n",
       "      (11): Conv(\n",
       "        (conv): Conv2d(64, 64, kernel_size=(3, 3), stride=(1, 1), padding=(1, 1), bias=False)\n",
       "        (bn): BatchNorm2d(64, eps=0.001, momentum=0.03, affine=True, track_running_stats=True)\n",
       "        (act): SiLU()\n",
       "      )\n",
       "      (12): Conv(\n",
       "        (conv): Conv2d(64, 64, kernel_size=(3, 3), stride=(1, 1), padding=(1, 1), bias=False)\n",
       "        (bn): BatchNorm2d(64, eps=0.001, momentum=0.03, affine=True, track_running_stats=True)\n",
       "        (act): SiLU()\n",
       "      )\n",
       "      (13): Concat()\n",
       "      (14): Conv(\n",
       "        (conv): Conv2d(384, 192, kernel_size=(1, 1), stride=(1, 1), bias=False)\n",
       "        (bn): BatchNorm2d(192, eps=0.001, momentum=0.03, affine=True, track_running_stats=True)\n",
       "        (act): SiLU()\n",
       "      )\n",
       "      (15): DownC(\n",
       "        (cv1): Conv(\n",
       "          (conv): Conv2d(192, 192, kernel_size=(1, 1), stride=(1, 1), bias=False)\n",
       "          (bn): BatchNorm2d(192, eps=0.001, momentum=0.03, affine=True, track_running_stats=True)\n",
       "          (act): SiLU()\n",
       "        )\n",
       "        (cv2): Conv(\n",
       "          (conv): Conv2d(192, 192, kernel_size=(3, 3), stride=(2, 2), padding=(1, 1), bias=False)\n",
       "          (bn): BatchNorm2d(192, eps=0.001, momentum=0.03, affine=True, track_running_stats=True)\n",
       "          (act): SiLU()\n",
       "        )\n",
       "        (cv3): Conv(\n",
       "          (conv): Conv2d(192, 192, kernel_size=(1, 1), stride=(1, 1), bias=False)\n",
       "          (bn): BatchNorm2d(192, eps=0.001, momentum=0.03, affine=True, track_running_stats=True)\n",
       "          (act): SiLU()\n",
       "        )\n",
       "        (mp): MaxPool2d(kernel_size=2, stride=2, padding=0, dilation=1, ceil_mode=False)\n",
       "      )\n",
       "      (16): Conv(\n",
       "        (conv): Conv2d(384, 128, kernel_size=(1, 1), stride=(1, 1), bias=False)\n",
       "        (bn): BatchNorm2d(128, eps=0.001, momentum=0.03, affine=True, track_running_stats=True)\n",
       "        (act): SiLU()\n",
       "      )\n",
       "      (17): Conv(\n",
       "        (conv): Conv2d(384, 128, kernel_size=(1, 1), stride=(1, 1), bias=False)\n",
       "        (bn): BatchNorm2d(128, eps=0.001, momentum=0.03, affine=True, track_running_stats=True)\n",
       "        (act): SiLU()\n",
       "      )\n",
       "      (18): Conv(\n",
       "        (conv): Conv2d(128, 128, kernel_size=(3, 3), stride=(1, 1), padding=(1, 1), bias=False)\n",
       "        (bn): BatchNorm2d(128, eps=0.001, momentum=0.03, affine=True, track_running_stats=True)\n",
       "        (act): SiLU()\n",
       "      )\n",
       "      (19): Conv(\n",
       "        (conv): Conv2d(128, 128, kernel_size=(3, 3), stride=(1, 1), padding=(1, 1), bias=False)\n",
       "        (bn): BatchNorm2d(128, eps=0.001, momentum=0.03, affine=True, track_running_stats=True)\n",
       "        (act): SiLU()\n",
       "      )\n",
       "      (20): Conv(\n",
       "        (conv): Conv2d(128, 128, kernel_size=(3, 3), stride=(1, 1), padding=(1, 1), bias=False)\n",
       "        (bn): BatchNorm2d(128, eps=0.001, momentum=0.03, affine=True, track_running_stats=True)\n",
       "        (act): SiLU()\n",
       "      )\n",
       "      (21): Conv(\n",
       "        (conv): Conv2d(128, 128, kernel_size=(3, 3), stride=(1, 1), padding=(1, 1), bias=False)\n",
       "        (bn): BatchNorm2d(128, eps=0.001, momentum=0.03, affine=True, track_running_stats=True)\n",
       "        (act): SiLU()\n",
       "      )\n",
       "      (22): Conv(\n",
       "        (conv): Conv2d(128, 128, kernel_size=(3, 3), stride=(1, 1), padding=(1, 1), bias=False)\n",
       "        (bn): BatchNorm2d(128, eps=0.001, momentum=0.03, affine=True, track_running_stats=True)\n",
       "        (act): SiLU()\n",
       "      )\n",
       "      (23): Conv(\n",
       "        (conv): Conv2d(128, 128, kernel_size=(3, 3), stride=(1, 1), padding=(1, 1), bias=False)\n",
       "        (bn): BatchNorm2d(128, eps=0.001, momentum=0.03, affine=True, track_running_stats=True)\n",
       "        (act): SiLU()\n",
       "      )\n",
       "      (24): Conv(\n",
       "        (conv): Conv2d(128, 128, kernel_size=(3, 3), stride=(1, 1), padding=(1, 1), bias=False)\n",
       "        (bn): BatchNorm2d(128, eps=0.001, momentum=0.03, affine=True, track_running_stats=True)\n",
       "        (act): SiLU()\n",
       "      )\n",
       "      (25): Conv(\n",
       "        (conv): Conv2d(128, 128, kernel_size=(3, 3), stride=(1, 1), padding=(1, 1), bias=False)\n",
       "        (bn): BatchNorm2d(128, eps=0.001, momentum=0.03, affine=True, track_running_stats=True)\n",
       "        (act): SiLU()\n",
       "      )\n",
       "      (26): Concat()\n",
       "      (27): Conv(\n",
       "        (conv): Conv2d(768, 384, kernel_size=(1, 1), stride=(1, 1), bias=False)\n",
       "        (bn): BatchNorm2d(384, eps=0.001, momentum=0.03, affine=True, track_running_stats=True)\n",
       "        (act): SiLU()\n",
       "      )\n",
       "      (28): DownC(\n",
       "        (cv1): Conv(\n",
       "          (conv): Conv2d(384, 384, kernel_size=(1, 1), stride=(1, 1), bias=False)\n",
       "          (bn): BatchNorm2d(384, eps=0.001, momentum=0.03, affine=True, track_running_stats=True)\n",
       "          (act): SiLU()\n",
       "        )\n",
       "        (cv2): Conv(\n",
       "          (conv): Conv2d(384, 384, kernel_size=(3, 3), stride=(2, 2), padding=(1, 1), bias=False)\n",
       "          (bn): BatchNorm2d(384, eps=0.001, momentum=0.03, affine=True, track_running_stats=True)\n",
       "          (act): SiLU()\n",
       "        )\n",
       "        (cv3): Conv(\n",
       "          (conv): Conv2d(384, 384, kernel_size=(1, 1), stride=(1, 1), bias=False)\n",
       "          (bn): BatchNorm2d(384, eps=0.001, momentum=0.03, affine=True, track_running_stats=True)\n",
       "          (act): SiLU()\n",
       "        )\n",
       "        (mp): MaxPool2d(kernel_size=2, stride=2, padding=0, dilation=1, ceil_mode=False)\n",
       "      )\n",
       "      (29): Conv(\n",
       "        (conv): Conv2d(768, 256, kernel_size=(1, 1), stride=(1, 1), bias=False)\n",
       "        (bn): BatchNorm2d(256, eps=0.001, momentum=0.03, affine=True, track_running_stats=True)\n",
       "        (act): SiLU()\n",
       "      )\n",
       "      (30): Conv(\n",
       "        (conv): Conv2d(768, 256, kernel_size=(1, 1), stride=(1, 1), bias=False)\n",
       "        (bn): BatchNorm2d(256, eps=0.001, momentum=0.03, affine=True, track_running_stats=True)\n",
       "        (act): SiLU()\n",
       "      )\n",
       "      (31): Conv(\n",
       "        (conv): Conv2d(256, 256, kernel_size=(3, 3), stride=(1, 1), padding=(1, 1), bias=False)\n",
       "        (bn): BatchNorm2d(256, eps=0.001, momentum=0.03, affine=True, track_running_stats=True)\n",
       "        (act): SiLU()\n",
       "      )\n",
       "      (32): Conv(\n",
       "        (conv): Conv2d(256, 256, kernel_size=(3, 3), stride=(1, 1), padding=(1, 1), bias=False)\n",
       "        (bn): BatchNorm2d(256, eps=0.001, momentum=0.03, affine=True, track_running_stats=True)\n",
       "        (act): SiLU()\n",
       "      )\n",
       "      (33): Conv(\n",
       "        (conv): Conv2d(256, 256, kernel_size=(3, 3), stride=(1, 1), padding=(1, 1), bias=False)\n",
       "        (bn): BatchNorm2d(256, eps=0.001, momentum=0.03, affine=True, track_running_stats=True)\n",
       "        (act): SiLU()\n",
       "      )\n",
       "      (34): Conv(\n",
       "        (conv): Conv2d(256, 256, kernel_size=(3, 3), stride=(1, 1), padding=(1, 1), bias=False)\n",
       "        (bn): BatchNorm2d(256, eps=0.001, momentum=0.03, affine=True, track_running_stats=True)\n",
       "        (act): SiLU()\n",
       "      )\n",
       "      (35): Conv(\n",
       "        (conv): Conv2d(256, 256, kernel_size=(3, 3), stride=(1, 1), padding=(1, 1), bias=False)\n",
       "        (bn): BatchNorm2d(256, eps=0.001, momentum=0.03, affine=True, track_running_stats=True)\n",
       "        (act): SiLU()\n",
       "      )\n",
       "      (36): Conv(\n",
       "        (conv): Conv2d(256, 256, kernel_size=(3, 3), stride=(1, 1), padding=(1, 1), bias=False)\n",
       "        (bn): BatchNorm2d(256, eps=0.001, momentum=0.03, affine=True, track_running_stats=True)\n",
       "        (act): SiLU()\n",
       "      )\n",
       "      (37): Conv(\n",
       "        (conv): Conv2d(256, 256, kernel_size=(3, 3), stride=(1, 1), padding=(1, 1), bias=False)\n",
       "        (bn): BatchNorm2d(256, eps=0.001, momentum=0.03, affine=True, track_running_stats=True)\n",
       "        (act): SiLU()\n",
       "      )\n",
       "      (38): Conv(\n",
       "        (conv): Conv2d(256, 256, kernel_size=(3, 3), stride=(1, 1), padding=(1, 1), bias=False)\n",
       "        (bn): BatchNorm2d(256, eps=0.001, momentum=0.03, affine=True, track_running_stats=True)\n",
       "        (act): SiLU()\n",
       "      )\n",
       "      (39): Concat()\n",
       "      (40): Conv(\n",
       "        (conv): Conv2d(1536, 768, kernel_size=(1, 1), stride=(1, 1), bias=False)\n",
       "        (bn): BatchNorm2d(768, eps=0.001, momentum=0.03, affine=True, track_running_stats=True)\n",
       "        (act): SiLU()\n",
       "      )\n",
       "      (41): DownC(\n",
       "        (cv1): Conv(\n",
       "          (conv): Conv2d(768, 768, kernel_size=(1, 1), stride=(1, 1), bias=False)\n",
       "          (bn): BatchNorm2d(768, eps=0.001, momentum=0.03, affine=True, track_running_stats=True)\n",
       "          (act): SiLU()\n",
       "        )\n",
       "        (cv2): Conv(\n",
       "          (conv): Conv2d(768, 576, kernel_size=(3, 3), stride=(2, 2), padding=(1, 1), bias=False)\n",
       "          (bn): BatchNorm2d(576, eps=0.001, momentum=0.03, affine=True, track_running_stats=True)\n",
       "          (act): SiLU()\n",
       "        )\n",
       "        (cv3): Conv(\n",
       "          (conv): Conv2d(768, 576, kernel_size=(1, 1), stride=(1, 1), bias=False)\n",
       "          (bn): BatchNorm2d(576, eps=0.001, momentum=0.03, affine=True, track_running_stats=True)\n",
       "          (act): SiLU()\n",
       "        )\n",
       "        (mp): MaxPool2d(kernel_size=2, stride=2, padding=0, dilation=1, ceil_mode=False)\n",
       "      )\n",
       "      (42): Conv(\n",
       "        (conv): Conv2d(1152, 384, kernel_size=(1, 1), stride=(1, 1), bias=False)\n",
       "        (bn): BatchNorm2d(384, eps=0.001, momentum=0.03, affine=True, track_running_stats=True)\n",
       "        (act): SiLU()\n",
       "      )\n",
       "      (43): Conv(\n",
       "        (conv): Conv2d(1152, 384, kernel_size=(1, 1), stride=(1, 1), bias=False)\n",
       "        (bn): BatchNorm2d(384, eps=0.001, momentum=0.03, affine=True, track_running_stats=True)\n",
       "        (act): SiLU()\n",
       "      )\n",
       "      (44): Conv(\n",
       "        (conv): Conv2d(384, 384, kernel_size=(3, 3), stride=(1, 1), padding=(1, 1), bias=False)\n",
       "        (bn): BatchNorm2d(384, eps=0.001, momentum=0.03, affine=True, track_running_stats=True)\n",
       "        (act): SiLU()\n",
       "      )\n",
       "      (45): Conv(\n",
       "        (conv): Conv2d(384, 384, kernel_size=(3, 3), stride=(1, 1), padding=(1, 1), bias=False)\n",
       "        (bn): BatchNorm2d(384, eps=0.001, momentum=0.03, affine=True, track_running_stats=True)\n",
       "        (act): SiLU()\n",
       "      )\n",
       "      (46): Conv(\n",
       "        (conv): Conv2d(384, 384, kernel_size=(3, 3), stride=(1, 1), padding=(1, 1), bias=False)\n",
       "        (bn): BatchNorm2d(384, eps=0.001, momentum=0.03, affine=True, track_running_stats=True)\n",
       "        (act): SiLU()\n",
       "      )\n",
       "      (47): Conv(\n",
       "        (conv): Conv2d(384, 384, kernel_size=(3, 3), stride=(1, 1), padding=(1, 1), bias=False)\n",
       "        (bn): BatchNorm2d(384, eps=0.001, momentum=0.03, affine=True, track_running_stats=True)\n",
       "        (act): SiLU()\n",
       "      )\n",
       "      (48): Conv(\n",
       "        (conv): Conv2d(384, 384, kernel_size=(3, 3), stride=(1, 1), padding=(1, 1), bias=False)\n",
       "        (bn): BatchNorm2d(384, eps=0.001, momentum=0.03, affine=True, track_running_stats=True)\n",
       "        (act): SiLU()\n",
       "      )\n",
       "      (49): Conv(\n",
       "        (conv): Conv2d(384, 384, kernel_size=(3, 3), stride=(1, 1), padding=(1, 1), bias=False)\n",
       "        (bn): BatchNorm2d(384, eps=0.001, momentum=0.03, affine=True, track_running_stats=True)\n",
       "        (act): SiLU()\n",
       "      )\n",
       "      (50): Conv(\n",
       "        (conv): Conv2d(384, 384, kernel_size=(3, 3), stride=(1, 1), padding=(1, 1), bias=False)\n",
       "        (bn): BatchNorm2d(384, eps=0.001, momentum=0.03, affine=True, track_running_stats=True)\n",
       "        (act): SiLU()\n",
       "      )\n",
       "      (51): Conv(\n",
       "        (conv): Conv2d(384, 384, kernel_size=(3, 3), stride=(1, 1), padding=(1, 1), bias=False)\n",
       "        (bn): BatchNorm2d(384, eps=0.001, momentum=0.03, affine=True, track_running_stats=True)\n",
       "        (act): SiLU()\n",
       "      )\n",
       "      (52): Concat()\n",
       "      (53): Conv(\n",
       "        (conv): Conv2d(2304, 1152, kernel_size=(1, 1), stride=(1, 1), bias=False)\n",
       "        (bn): BatchNorm2d(1152, eps=0.001, momentum=0.03, affine=True, track_running_stats=True)\n",
       "        (act): SiLU()\n",
       "      )\n",
       "      (54): DownC(\n",
       "        (cv1): Conv(\n",
       "          (conv): Conv2d(1152, 1152, kernel_size=(1, 1), stride=(1, 1), bias=False)\n",
       "          (bn): BatchNorm2d(1152, eps=0.001, momentum=0.03, affine=True, track_running_stats=True)\n",
       "          (act): SiLU()\n",
       "        )\n",
       "        (cv2): Conv(\n",
       "          (conv): Conv2d(1152, 768, kernel_size=(3, 3), stride=(2, 2), padding=(1, 1), bias=False)\n",
       "          (bn): BatchNorm2d(768, eps=0.001, momentum=0.03, affine=True, track_running_stats=True)\n",
       "          (act): SiLU()\n",
       "        )\n",
       "        (cv3): Conv(\n",
       "          (conv): Conv2d(1152, 768, kernel_size=(1, 1), stride=(1, 1), bias=False)\n",
       "          (bn): BatchNorm2d(768, eps=0.001, momentum=0.03, affine=True, track_running_stats=True)\n",
       "          (act): SiLU()\n",
       "        )\n",
       "        (mp): MaxPool2d(kernel_size=2, stride=2, padding=0, dilation=1, ceil_mode=False)\n",
       "      )\n",
       "      (55): Conv(\n",
       "        (conv): Conv2d(1536, 512, kernel_size=(1, 1), stride=(1, 1), bias=False)\n",
       "        (bn): BatchNorm2d(512, eps=0.001, momentum=0.03, affine=True, track_running_stats=True)\n",
       "        (act): SiLU()\n",
       "      )\n",
       "      (56): Conv(\n",
       "        (conv): Conv2d(1536, 512, kernel_size=(1, 1), stride=(1, 1), bias=False)\n",
       "        (bn): BatchNorm2d(512, eps=0.001, momentum=0.03, affine=True, track_running_stats=True)\n",
       "        (act): SiLU()\n",
       "      )\n",
       "      (57): Conv(\n",
       "        (conv): Conv2d(512, 512, kernel_size=(3, 3), stride=(1, 1), padding=(1, 1), bias=False)\n",
       "        (bn): BatchNorm2d(512, eps=0.001, momentum=0.03, affine=True, track_running_stats=True)\n",
       "        (act): SiLU()\n",
       "      )\n",
       "      (58): Conv(\n",
       "        (conv): Conv2d(512, 512, kernel_size=(3, 3), stride=(1, 1), padding=(1, 1), bias=False)\n",
       "        (bn): BatchNorm2d(512, eps=0.001, momentum=0.03, affine=True, track_running_stats=True)\n",
       "        (act): SiLU()\n",
       "      )\n",
       "      (59): Conv(\n",
       "        (conv): Conv2d(512, 512, kernel_size=(3, 3), stride=(1, 1), padding=(1, 1), bias=False)\n",
       "        (bn): BatchNorm2d(512, eps=0.001, momentum=0.03, affine=True, track_running_stats=True)\n",
       "        (act): SiLU()\n",
       "      )\n",
       "      (60): Conv(\n",
       "        (conv): Conv2d(512, 512, kernel_size=(3, 3), stride=(1, 1), padding=(1, 1), bias=False)\n",
       "        (bn): BatchNorm2d(512, eps=0.001, momentum=0.03, affine=True, track_running_stats=True)\n",
       "        (act): SiLU()\n",
       "      )\n",
       "      (61): Conv(\n",
       "        (conv): Conv2d(512, 512, kernel_size=(3, 3), stride=(1, 1), padding=(1, 1), bias=False)\n",
       "        (bn): BatchNorm2d(512, eps=0.001, momentum=0.03, affine=True, track_running_stats=True)\n",
       "        (act): SiLU()\n",
       "      )\n",
       "      (62): Conv(\n",
       "        (conv): Conv2d(512, 512, kernel_size=(3, 3), stride=(1, 1), padding=(1, 1), bias=False)\n",
       "        (bn): BatchNorm2d(512, eps=0.001, momentum=0.03, affine=True, track_running_stats=True)\n",
       "        (act): SiLU()\n",
       "      )\n",
       "      (63): Conv(\n",
       "        (conv): Conv2d(512, 512, kernel_size=(3, 3), stride=(1, 1), padding=(1, 1), bias=False)\n",
       "        (bn): BatchNorm2d(512, eps=0.001, momentum=0.03, affine=True, track_running_stats=True)\n",
       "        (act): SiLU()\n",
       "      )\n",
       "      (64): Conv(\n",
       "        (conv): Conv2d(512, 512, kernel_size=(3, 3), stride=(1, 1), padding=(1, 1), bias=False)\n",
       "        (bn): BatchNorm2d(512, eps=0.001, momentum=0.03, affine=True, track_running_stats=True)\n",
       "        (act): SiLU()\n",
       "      )\n",
       "      (65): Concat()\n",
       "      (66): Conv(\n",
       "        (conv): Conv2d(3072, 1536, kernel_size=(1, 1), stride=(1, 1), bias=False)\n",
       "        (bn): BatchNorm2d(1536, eps=0.001, momentum=0.03, affine=True, track_running_stats=True)\n",
       "        (act): SiLU()\n",
       "      )\n",
       "      (67): SPPCSPC(\n",
       "        (cv1): Conv(\n",
       "          (conv): Conv2d(1536, 768, kernel_size=(1, 1), stride=(1, 1), bias=False)\n",
       "          (bn): BatchNorm2d(768, eps=0.001, momentum=0.03, affine=True, track_running_stats=True)\n",
       "          (act): SiLU()\n",
       "        )\n",
       "        (cv2): Conv(\n",
       "          (conv): Conv2d(1536, 768, kernel_size=(1, 1), stride=(1, 1), bias=False)\n",
       "          (bn): BatchNorm2d(768, eps=0.001, momentum=0.03, affine=True, track_running_stats=True)\n",
       "          (act): SiLU()\n",
       "        )\n",
       "        (cv3): Conv(\n",
       "          (conv): Conv2d(768, 768, kernel_size=(3, 3), stride=(1, 1), padding=(1, 1), bias=False)\n",
       "          (bn): BatchNorm2d(768, eps=0.001, momentum=0.03, affine=True, track_running_stats=True)\n",
       "          (act): SiLU()\n",
       "        )\n",
       "        (cv4): Conv(\n",
       "          (conv): Conv2d(768, 768, kernel_size=(1, 1), stride=(1, 1), bias=False)\n",
       "          (bn): BatchNorm2d(768, eps=0.001, momentum=0.03, affine=True, track_running_stats=True)\n",
       "          (act): SiLU()\n",
       "        )\n",
       "        (m): ModuleList(\n",
       "          (0): MaxPool2d(kernel_size=5, stride=1, padding=2, dilation=1, ceil_mode=False)\n",
       "          (1): MaxPool2d(kernel_size=9, stride=1, padding=4, dilation=1, ceil_mode=False)\n",
       "          (2): MaxPool2d(kernel_size=13, stride=1, padding=6, dilation=1, ceil_mode=False)\n",
       "        )\n",
       "        (cv5): Conv(\n",
       "          (conv): Conv2d(3072, 768, kernel_size=(1, 1), stride=(1, 1), bias=False)\n",
       "          (bn): BatchNorm2d(768, eps=0.001, momentum=0.03, affine=True, track_running_stats=True)\n",
       "          (act): SiLU()\n",
       "        )\n",
       "        (cv6): Conv(\n",
       "          (conv): Conv2d(768, 768, kernel_size=(3, 3), stride=(1, 1), padding=(1, 1), bias=False)\n",
       "          (bn): BatchNorm2d(768, eps=0.001, momentum=0.03, affine=True, track_running_stats=True)\n",
       "          (act): SiLU()\n",
       "        )\n",
       "        (cv7): Conv(\n",
       "          (conv): Conv2d(1536, 768, kernel_size=(1, 1), stride=(1, 1), bias=False)\n",
       "          (bn): BatchNorm2d(768, eps=0.001, momentum=0.03, affine=True, track_running_stats=True)\n",
       "          (act): SiLU()\n",
       "        )\n",
       "      )\n",
       "      (68): Conv(\n",
       "        (conv): Conv2d(768, 576, kernel_size=(1, 1), stride=(1, 1), bias=False)\n",
       "        (bn): BatchNorm2d(576, eps=0.001, momentum=0.03, affine=True, track_running_stats=True)\n",
       "        (act): SiLU()\n",
       "      )\n",
       "      (69): Upsample(scale_factor=2.0, mode=nearest)\n",
       "      (70): Conv(\n",
       "        (conv): Conv2d(1152, 576, kernel_size=(1, 1), stride=(1, 1), bias=False)\n",
       "        (bn): BatchNorm2d(576, eps=0.001, momentum=0.03, affine=True, track_running_stats=True)\n",
       "        (act): SiLU()\n",
       "      )\n",
       "      (71): Concat()\n",
       "      (72): Conv(\n",
       "        (conv): Conv2d(1152, 384, kernel_size=(1, 1), stride=(1, 1), bias=False)\n",
       "        (bn): BatchNorm2d(384, eps=0.001, momentum=0.03, affine=True, track_running_stats=True)\n",
       "        (act): SiLU()\n",
       "      )\n",
       "      (73): Conv(\n",
       "        (conv): Conv2d(1152, 384, kernel_size=(1, 1), stride=(1, 1), bias=False)\n",
       "        (bn): BatchNorm2d(384, eps=0.001, momentum=0.03, affine=True, track_running_stats=True)\n",
       "        (act): SiLU()\n",
       "      )\n",
       "      (74): Conv(\n",
       "        (conv): Conv2d(384, 192, kernel_size=(3, 3), stride=(1, 1), padding=(1, 1), bias=False)\n",
       "        (bn): BatchNorm2d(192, eps=0.001, momentum=0.03, affine=True, track_running_stats=True)\n",
       "        (act): SiLU()\n",
       "      )\n",
       "      (75): Conv(\n",
       "        (conv): Conv2d(192, 192, kernel_size=(3, 3), stride=(1, 1), padding=(1, 1), bias=False)\n",
       "        (bn): BatchNorm2d(192, eps=0.001, momentum=0.03, affine=True, track_running_stats=True)\n",
       "        (act): SiLU()\n",
       "      )\n",
       "      (76): Conv(\n",
       "        (conv): Conv2d(192, 192, kernel_size=(3, 3), stride=(1, 1), padding=(1, 1), bias=False)\n",
       "        (bn): BatchNorm2d(192, eps=0.001, momentum=0.03, affine=True, track_running_stats=True)\n",
       "        (act): SiLU()\n",
       "      )\n",
       "      (77): Conv(\n",
       "        (conv): Conv2d(192, 192, kernel_size=(3, 3), stride=(1, 1), padding=(1, 1), bias=False)\n",
       "        (bn): BatchNorm2d(192, eps=0.001, momentum=0.03, affine=True, track_running_stats=True)\n",
       "        (act): SiLU()\n",
       "      )\n",
       "      (78): Conv(\n",
       "        (conv): Conv2d(192, 192, kernel_size=(3, 3), stride=(1, 1), padding=(1, 1), bias=False)\n",
       "        (bn): BatchNorm2d(192, eps=0.001, momentum=0.03, affine=True, track_running_stats=True)\n",
       "        (act): SiLU()\n",
       "      )\n",
       "      (79): Conv(\n",
       "        (conv): Conv2d(192, 192, kernel_size=(3, 3), stride=(1, 1), padding=(1, 1), bias=False)\n",
       "        (bn): BatchNorm2d(192, eps=0.001, momentum=0.03, affine=True, track_running_stats=True)\n",
       "        (act): SiLU()\n",
       "      )\n",
       "      (80): Conv(\n",
       "        (conv): Conv2d(192, 192, kernel_size=(3, 3), stride=(1, 1), padding=(1, 1), bias=False)\n",
       "        (bn): BatchNorm2d(192, eps=0.001, momentum=0.03, affine=True, track_running_stats=True)\n",
       "        (act): SiLU()\n",
       "      )\n",
       "      (81): Conv(\n",
       "        (conv): Conv2d(192, 192, kernel_size=(3, 3), stride=(1, 1), padding=(1, 1), bias=False)\n",
       "        (bn): BatchNorm2d(192, eps=0.001, momentum=0.03, affine=True, track_running_stats=True)\n",
       "        (act): SiLU()\n",
       "      )\n",
       "      (82): Concat()\n",
       "      (83): Conv(\n",
       "        (conv): Conv2d(2304, 576, kernel_size=(1, 1), stride=(1, 1), bias=False)\n",
       "        (bn): BatchNorm2d(576, eps=0.001, momentum=0.03, affine=True, track_running_stats=True)\n",
       "        (act): SiLU()\n",
       "      )\n",
       "      (84): Conv(\n",
       "        (conv): Conv2d(576, 384, kernel_size=(1, 1), stride=(1, 1), bias=False)\n",
       "        (bn): BatchNorm2d(384, eps=0.001, momentum=0.03, affine=True, track_running_stats=True)\n",
       "        (act): SiLU()\n",
       "      )\n",
       "      (85): Upsample(scale_factor=2.0, mode=nearest)\n",
       "      (86): Conv(\n",
       "        (conv): Conv2d(768, 384, kernel_size=(1, 1), stride=(1, 1), bias=False)\n",
       "        (bn): BatchNorm2d(384, eps=0.001, momentum=0.03, affine=True, track_running_stats=True)\n",
       "        (act): SiLU()\n",
       "      )\n",
       "      (87): Concat()\n",
       "      (88): Conv(\n",
       "        (conv): Conv2d(768, 256, kernel_size=(1, 1), stride=(1, 1), bias=False)\n",
       "        (bn): BatchNorm2d(256, eps=0.001, momentum=0.03, affine=True, track_running_stats=True)\n",
       "        (act): SiLU()\n",
       "      )\n",
       "      (89): Conv(\n",
       "        (conv): Conv2d(768, 256, kernel_size=(1, 1), stride=(1, 1), bias=False)\n",
       "        (bn): BatchNorm2d(256, eps=0.001, momentum=0.03, affine=True, track_running_stats=True)\n",
       "        (act): SiLU()\n",
       "      )\n",
       "      (90): Conv(\n",
       "        (conv): Conv2d(256, 128, kernel_size=(3, 3), stride=(1, 1), padding=(1, 1), bias=False)\n",
       "        (bn): BatchNorm2d(128, eps=0.001, momentum=0.03, affine=True, track_running_stats=True)\n",
       "        (act): SiLU()\n",
       "      )\n",
       "      (91): Conv(\n",
       "        (conv): Conv2d(128, 128, kernel_size=(3, 3), stride=(1, 1), padding=(1, 1), bias=False)\n",
       "        (bn): BatchNorm2d(128, eps=0.001, momentum=0.03, affine=True, track_running_stats=True)\n",
       "        (act): SiLU()\n",
       "      )\n",
       "      (92): Conv(\n",
       "        (conv): Conv2d(128, 128, kernel_size=(3, 3), stride=(1, 1), padding=(1, 1), bias=False)\n",
       "        (bn): BatchNorm2d(128, eps=0.001, momentum=0.03, affine=True, track_running_stats=True)\n",
       "        (act): SiLU()\n",
       "      )\n",
       "      (93): Conv(\n",
       "        (conv): Conv2d(128, 128, kernel_size=(3, 3), stride=(1, 1), padding=(1, 1), bias=False)\n",
       "        (bn): BatchNorm2d(128, eps=0.001, momentum=0.03, affine=True, track_running_stats=True)\n",
       "        (act): SiLU()\n",
       "      )\n",
       "      (94): Conv(\n",
       "        (conv): Conv2d(128, 128, kernel_size=(3, 3), stride=(1, 1), padding=(1, 1), bias=False)\n",
       "        (bn): BatchNorm2d(128, eps=0.001, momentum=0.03, affine=True, track_running_stats=True)\n",
       "        (act): SiLU()\n",
       "      )\n",
       "      (95): Conv(\n",
       "        (conv): Conv2d(128, 128, kernel_size=(3, 3), stride=(1, 1), padding=(1, 1), bias=False)\n",
       "        (bn): BatchNorm2d(128, eps=0.001, momentum=0.03, affine=True, track_running_stats=True)\n",
       "        (act): SiLU()\n",
       "      )\n",
       "      (96): Conv(\n",
       "        (conv): Conv2d(128, 128, kernel_size=(3, 3), stride=(1, 1), padding=(1, 1), bias=False)\n",
       "        (bn): BatchNorm2d(128, eps=0.001, momentum=0.03, affine=True, track_running_stats=True)\n",
       "        (act): SiLU()\n",
       "      )\n",
       "      (97): Conv(\n",
       "        (conv): Conv2d(128, 128, kernel_size=(3, 3), stride=(1, 1), padding=(1, 1), bias=False)\n",
       "        (bn): BatchNorm2d(128, eps=0.001, momentum=0.03, affine=True, track_running_stats=True)\n",
       "        (act): SiLU()\n",
       "      )\n",
       "      (98): Concat()\n",
       "      (99): Conv(\n",
       "        (conv): Conv2d(1536, 384, kernel_size=(1, 1), stride=(1, 1), bias=False)\n",
       "        (bn): BatchNorm2d(384, eps=0.001, momentum=0.03, affine=True, track_running_stats=True)\n",
       "        (act): SiLU()\n",
       "      )\n",
       "      (100): Conv(\n",
       "        (conv): Conv2d(384, 192, kernel_size=(1, 1), stride=(1, 1), bias=False)\n",
       "        (bn): BatchNorm2d(192, eps=0.001, momentum=0.03, affine=True, track_running_stats=True)\n",
       "        (act): SiLU()\n",
       "      )\n",
       "      (101): Upsample(scale_factor=2.0, mode=nearest)\n",
       "      (102): Conv(\n",
       "        (conv): Conv2d(384, 192, kernel_size=(1, 1), stride=(1, 1), bias=False)\n",
       "        (bn): BatchNorm2d(192, eps=0.001, momentum=0.03, affine=True, track_running_stats=True)\n",
       "        (act): SiLU()\n",
       "      )\n",
       "      (103): Concat()\n",
       "      (104): Conv(\n",
       "        (conv): Conv2d(384, 128, kernel_size=(1, 1), stride=(1, 1), bias=False)\n",
       "        (bn): BatchNorm2d(128, eps=0.001, momentum=0.03, affine=True, track_running_stats=True)\n",
       "        (act): SiLU()\n",
       "      )\n",
       "      (105): Conv(\n",
       "        (conv): Conv2d(384, 128, kernel_size=(1, 1), stride=(1, 1), bias=False)\n",
       "        (bn): BatchNorm2d(128, eps=0.001, momentum=0.03, affine=True, track_running_stats=True)\n",
       "        (act): SiLU()\n",
       "      )\n",
       "      (106): Conv(\n",
       "        (conv): Conv2d(128, 64, kernel_size=(3, 3), stride=(1, 1), padding=(1, 1), bias=False)\n",
       "        (bn): BatchNorm2d(64, eps=0.001, momentum=0.03, affine=True, track_running_stats=True)\n",
       "        (act): SiLU()\n",
       "      )\n",
       "      (107): Conv(\n",
       "        (conv): Conv2d(64, 64, kernel_size=(3, 3), stride=(1, 1), padding=(1, 1), bias=False)\n",
       "        (bn): BatchNorm2d(64, eps=0.001, momentum=0.03, affine=True, track_running_stats=True)\n",
       "        (act): SiLU()\n",
       "      )\n",
       "      (108): Conv(\n",
       "        (conv): Conv2d(64, 64, kernel_size=(3, 3), stride=(1, 1), padding=(1, 1), bias=False)\n",
       "        (bn): BatchNorm2d(64, eps=0.001, momentum=0.03, affine=True, track_running_stats=True)\n",
       "        (act): SiLU()\n",
       "      )\n",
       "      (109): Conv(\n",
       "        (conv): Conv2d(64, 64, kernel_size=(3, 3), stride=(1, 1), padding=(1, 1), bias=False)\n",
       "        (bn): BatchNorm2d(64, eps=0.001, momentum=0.03, affine=True, track_running_stats=True)\n",
       "        (act): SiLU()\n",
       "      )\n",
       "      (110): Conv(\n",
       "        (conv): Conv2d(64, 64, kernel_size=(3, 3), stride=(1, 1), padding=(1, 1), bias=False)\n",
       "        (bn): BatchNorm2d(64, eps=0.001, momentum=0.03, affine=True, track_running_stats=True)\n",
       "        (act): SiLU()\n",
       "      )\n",
       "      (111): Conv(\n",
       "        (conv): Conv2d(64, 64, kernel_size=(3, 3), stride=(1, 1), padding=(1, 1), bias=False)\n",
       "        (bn): BatchNorm2d(64, eps=0.001, momentum=0.03, affine=True, track_running_stats=True)\n",
       "        (act): SiLU()\n",
       "      )\n",
       "      (112): Conv(\n",
       "        (conv): Conv2d(64, 64, kernel_size=(3, 3), stride=(1, 1), padding=(1, 1), bias=False)\n",
       "        (bn): BatchNorm2d(64, eps=0.001, momentum=0.03, affine=True, track_running_stats=True)\n",
       "        (act): SiLU()\n",
       "      )\n",
       "      (113): Conv(\n",
       "        (conv): Conv2d(64, 64, kernel_size=(3, 3), stride=(1, 1), padding=(1, 1), bias=False)\n",
       "        (bn): BatchNorm2d(64, eps=0.001, momentum=0.03, affine=True, track_running_stats=True)\n",
       "        (act): SiLU()\n",
       "      )\n",
       "      (114): Concat()\n",
       "      (115): Conv(\n",
       "        (conv): Conv2d(768, 192, kernel_size=(1, 1), stride=(1, 1), bias=False)\n",
       "        (bn): BatchNorm2d(192, eps=0.001, momentum=0.03, affine=True, track_running_stats=True)\n",
       "        (act): SiLU()\n",
       "      )\n",
       "      (116): DownC(\n",
       "        (cv1): Conv(\n",
       "          (conv): Conv2d(192, 192, kernel_size=(1, 1), stride=(1, 1), bias=False)\n",
       "          (bn): BatchNorm2d(192, eps=0.001, momentum=0.03, affine=True, track_running_stats=True)\n",
       "          (act): SiLU()\n",
       "        )\n",
       "        (cv2): Conv(\n",
       "          (conv): Conv2d(192, 192, kernel_size=(3, 3), stride=(2, 2), padding=(1, 1), bias=False)\n",
       "          (bn): BatchNorm2d(192, eps=0.001, momentum=0.03, affine=True, track_running_stats=True)\n",
       "          (act): SiLU()\n",
       "        )\n",
       "        (cv3): Conv(\n",
       "          (conv): Conv2d(192, 192, kernel_size=(1, 1), stride=(1, 1), bias=False)\n",
       "          (bn): BatchNorm2d(192, eps=0.001, momentum=0.03, affine=True, track_running_stats=True)\n",
       "          (act): SiLU()\n",
       "        )\n",
       "        (mp): MaxPool2d(kernel_size=2, stride=2, padding=0, dilation=1, ceil_mode=False)\n",
       "      )\n",
       "      (117): Concat()\n",
       "      (118): Conv(\n",
       "        (conv): Conv2d(768, 256, kernel_size=(1, 1), stride=(1, 1), bias=False)\n",
       "        (bn): BatchNorm2d(256, eps=0.001, momentum=0.03, affine=True, track_running_stats=True)\n",
       "        (act): SiLU()\n",
       "      )\n",
       "      (119): Conv(\n",
       "        (conv): Conv2d(768, 256, kernel_size=(1, 1), stride=(1, 1), bias=False)\n",
       "        (bn): BatchNorm2d(256, eps=0.001, momentum=0.03, affine=True, track_running_stats=True)\n",
       "        (act): SiLU()\n",
       "      )\n",
       "      (120): Conv(\n",
       "        (conv): Conv2d(256, 128, kernel_size=(3, 3), stride=(1, 1), padding=(1, 1), bias=False)\n",
       "        (bn): BatchNorm2d(128, eps=0.001, momentum=0.03, affine=True, track_running_stats=True)\n",
       "        (act): SiLU()\n",
       "      )\n",
       "      (121): Conv(\n",
       "        (conv): Conv2d(128, 128, kernel_size=(3, 3), stride=(1, 1), padding=(1, 1), bias=False)\n",
       "        (bn): BatchNorm2d(128, eps=0.001, momentum=0.03, affine=True, track_running_stats=True)\n",
       "        (act): SiLU()\n",
       "      )\n",
       "      (122): Conv(\n",
       "        (conv): Conv2d(128, 128, kernel_size=(3, 3), stride=(1, 1), padding=(1, 1), bias=False)\n",
       "        (bn): BatchNorm2d(128, eps=0.001, momentum=0.03, affine=True, track_running_stats=True)\n",
       "        (act): SiLU()\n",
       "      )\n",
       "      (123): Conv(\n",
       "        (conv): Conv2d(128, 128, kernel_size=(3, 3), stride=(1, 1), padding=(1, 1), bias=False)\n",
       "        (bn): BatchNorm2d(128, eps=0.001, momentum=0.03, affine=True, track_running_stats=True)\n",
       "        (act): SiLU()\n",
       "      )\n",
       "      (124): Conv(\n",
       "        (conv): Conv2d(128, 128, kernel_size=(3, 3), stride=(1, 1), padding=(1, 1), bias=False)\n",
       "        (bn): BatchNorm2d(128, eps=0.001, momentum=0.03, affine=True, track_running_stats=True)\n",
       "        (act): SiLU()\n",
       "      )\n",
       "      (125): Conv(\n",
       "        (conv): Conv2d(128, 128, kernel_size=(3, 3), stride=(1, 1), padding=(1, 1), bias=False)\n",
       "        (bn): BatchNorm2d(128, eps=0.001, momentum=0.03, affine=True, track_running_stats=True)\n",
       "        (act): SiLU()\n",
       "      )\n",
       "      (126): Conv(\n",
       "        (conv): Conv2d(128, 128, kernel_size=(3, 3), stride=(1, 1), padding=(1, 1), bias=False)\n",
       "        (bn): BatchNorm2d(128, eps=0.001, momentum=0.03, affine=True, track_running_stats=True)\n",
       "        (act): SiLU()\n",
       "      )\n",
       "      (127): Conv(\n",
       "        (conv): Conv2d(128, 128, kernel_size=(3, 3), stride=(1, 1), padding=(1, 1), bias=False)\n",
       "        (bn): BatchNorm2d(128, eps=0.001, momentum=0.03, affine=True, track_running_stats=True)\n",
       "        (act): SiLU()\n",
       "      )\n",
       "      (128): Concat()\n",
       "      (129): Conv(\n",
       "        (conv): Conv2d(1536, 384, kernel_size=(1, 1), stride=(1, 1), bias=False)\n",
       "        (bn): BatchNorm2d(384, eps=0.001, momentum=0.03, affine=True, track_running_stats=True)\n",
       "        (act): SiLU()\n",
       "      )\n",
       "      (130): DownC(\n",
       "        (cv1): Conv(\n",
       "          (conv): Conv2d(384, 384, kernel_size=(1, 1), stride=(1, 1), bias=False)\n",
       "          (bn): BatchNorm2d(384, eps=0.001, momentum=0.03, affine=True, track_running_stats=True)\n",
       "          (act): SiLU()\n",
       "        )\n",
       "        (cv2): Conv(\n",
       "          (conv): Conv2d(384, 288, kernel_size=(3, 3), stride=(2, 2), padding=(1, 1), bias=False)\n",
       "          (bn): BatchNorm2d(288, eps=0.001, momentum=0.03, affine=True, track_running_stats=True)\n",
       "          (act): SiLU()\n",
       "        )\n",
       "        (cv3): Conv(\n",
       "          (conv): Conv2d(384, 288, kernel_size=(1, 1), stride=(1, 1), bias=False)\n",
       "          (bn): BatchNorm2d(288, eps=0.001, momentum=0.03, affine=True, track_running_stats=True)\n",
       "          (act): SiLU()\n",
       "        )\n",
       "        (mp): MaxPool2d(kernel_size=2, stride=2, padding=0, dilation=1, ceil_mode=False)\n",
       "      )\n",
       "      (131): Concat()\n",
       "      (132): Conv(\n",
       "        (conv): Conv2d(1152, 384, kernel_size=(1, 1), stride=(1, 1), bias=False)\n",
       "        (bn): BatchNorm2d(384, eps=0.001, momentum=0.03, affine=True, track_running_stats=True)\n",
       "        (act): SiLU()\n",
       "      )\n",
       "      (133): Conv(\n",
       "        (conv): Conv2d(1152, 384, kernel_size=(1, 1), stride=(1, 1), bias=False)\n",
       "        (bn): BatchNorm2d(384, eps=0.001, momentum=0.03, affine=True, track_running_stats=True)\n",
       "        (act): SiLU()\n",
       "      )\n",
       "      (134): Conv(\n",
       "        (conv): Conv2d(384, 192, kernel_size=(3, 3), stride=(1, 1), padding=(1, 1), bias=False)\n",
       "        (bn): BatchNorm2d(192, eps=0.001, momentum=0.03, affine=True, track_running_stats=True)\n",
       "        (act): SiLU()\n",
       "      )\n",
       "      (135): Conv(\n",
       "        (conv): Conv2d(192, 192, kernel_size=(3, 3), stride=(1, 1), padding=(1, 1), bias=False)\n",
       "        (bn): BatchNorm2d(192, eps=0.001, momentum=0.03, affine=True, track_running_stats=True)\n",
       "        (act): SiLU()\n",
       "      )\n",
       "      (136): Conv(\n",
       "        (conv): Conv2d(192, 192, kernel_size=(3, 3), stride=(1, 1), padding=(1, 1), bias=False)\n",
       "        (bn): BatchNorm2d(192, eps=0.001, momentum=0.03, affine=True, track_running_stats=True)\n",
       "        (act): SiLU()\n",
       "      )\n",
       "      (137): Conv(\n",
       "        (conv): Conv2d(192, 192, kernel_size=(3, 3), stride=(1, 1), padding=(1, 1), bias=False)\n",
       "        (bn): BatchNorm2d(192, eps=0.001, momentum=0.03, affine=True, track_running_stats=True)\n",
       "        (act): SiLU()\n",
       "      )\n",
       "      (138): Conv(\n",
       "        (conv): Conv2d(192, 192, kernel_size=(3, 3), stride=(1, 1), padding=(1, 1), bias=False)\n",
       "        (bn): BatchNorm2d(192, eps=0.001, momentum=0.03, affine=True, track_running_stats=True)\n",
       "        (act): SiLU()\n",
       "      )\n",
       "      (139): Conv(\n",
       "        (conv): Conv2d(192, 192, kernel_size=(3, 3), stride=(1, 1), padding=(1, 1), bias=False)\n",
       "        (bn): BatchNorm2d(192, eps=0.001, momentum=0.03, affine=True, track_running_stats=True)\n",
       "        (act): SiLU()\n",
       "      )\n",
       "      (140): Conv(\n",
       "        (conv): Conv2d(192, 192, kernel_size=(3, 3), stride=(1, 1), padding=(1, 1), bias=False)\n",
       "        (bn): BatchNorm2d(192, eps=0.001, momentum=0.03, affine=True, track_running_stats=True)\n",
       "        (act): SiLU()\n",
       "      )\n",
       "      (141): Conv(\n",
       "        (conv): Conv2d(192, 192, kernel_size=(3, 3), stride=(1, 1), padding=(1, 1), bias=False)\n",
       "        (bn): BatchNorm2d(192, eps=0.001, momentum=0.03, affine=True, track_running_stats=True)\n",
       "        (act): SiLU()\n",
       "      )\n",
       "      (142): Concat()\n",
       "      (143): Conv(\n",
       "        (conv): Conv2d(2304, 576, kernel_size=(1, 1), stride=(1, 1), bias=False)\n",
       "        (bn): BatchNorm2d(576, eps=0.001, momentum=0.03, affine=True, track_running_stats=True)\n",
       "        (act): SiLU()\n",
       "      )\n",
       "      (144): DownC(\n",
       "        (cv1): Conv(\n",
       "          (conv): Conv2d(576, 576, kernel_size=(1, 1), stride=(1, 1), bias=False)\n",
       "          (bn): BatchNorm2d(576, eps=0.001, momentum=0.03, affine=True, track_running_stats=True)\n",
       "          (act): SiLU()\n",
       "        )\n",
       "        (cv2): Conv(\n",
       "          (conv): Conv2d(576, 384, kernel_size=(3, 3), stride=(2, 2), padding=(1, 1), bias=False)\n",
       "          (bn): BatchNorm2d(384, eps=0.001, momentum=0.03, affine=True, track_running_stats=True)\n",
       "          (act): SiLU()\n",
       "        )\n",
       "        (cv3): Conv(\n",
       "          (conv): Conv2d(576, 384, kernel_size=(1, 1), stride=(1, 1), bias=False)\n",
       "          (bn): BatchNorm2d(384, eps=0.001, momentum=0.03, affine=True, track_running_stats=True)\n",
       "          (act): SiLU()\n",
       "        )\n",
       "        (mp): MaxPool2d(kernel_size=2, stride=2, padding=0, dilation=1, ceil_mode=False)\n",
       "      )\n",
       "      (145): Concat()\n",
       "      (146): Conv(\n",
       "        (conv): Conv2d(1536, 512, kernel_size=(1, 1), stride=(1, 1), bias=False)\n",
       "        (bn): BatchNorm2d(512, eps=0.001, momentum=0.03, affine=True, track_running_stats=True)\n",
       "        (act): SiLU()\n",
       "      )\n",
       "      (147): Conv(\n",
       "        (conv): Conv2d(1536, 512, kernel_size=(1, 1), stride=(1, 1), bias=False)\n",
       "        (bn): BatchNorm2d(512, eps=0.001, momentum=0.03, affine=True, track_running_stats=True)\n",
       "        (act): SiLU()\n",
       "      )\n",
       "      (148): Conv(\n",
       "        (conv): Conv2d(512, 256, kernel_size=(3, 3), stride=(1, 1), padding=(1, 1), bias=False)\n",
       "        (bn): BatchNorm2d(256, eps=0.001, momentum=0.03, affine=True, track_running_stats=True)\n",
       "        (act): SiLU()\n",
       "      )\n",
       "      (149): Conv(\n",
       "        (conv): Conv2d(256, 256, kernel_size=(3, 3), stride=(1, 1), padding=(1, 1), bias=False)\n",
       "        (bn): BatchNorm2d(256, eps=0.001, momentum=0.03, affine=True, track_running_stats=True)\n",
       "        (act): SiLU()\n",
       "      )\n",
       "      (150): Conv(\n",
       "        (conv): Conv2d(256, 256, kernel_size=(3, 3), stride=(1, 1), padding=(1, 1), bias=False)\n",
       "        (bn): BatchNorm2d(256, eps=0.001, momentum=0.03, affine=True, track_running_stats=True)\n",
       "        (act): SiLU()\n",
       "      )\n",
       "      (151): Conv(\n",
       "        (conv): Conv2d(256, 256, kernel_size=(3, 3), stride=(1, 1), padding=(1, 1), bias=False)\n",
       "        (bn): BatchNorm2d(256, eps=0.001, momentum=0.03, affine=True, track_running_stats=True)\n",
       "        (act): SiLU()\n",
       "      )\n",
       "      (152): Conv(\n",
       "        (conv): Conv2d(256, 256, kernel_size=(3, 3), stride=(1, 1), padding=(1, 1), bias=False)\n",
       "        (bn): BatchNorm2d(256, eps=0.001, momentum=0.03, affine=True, track_running_stats=True)\n",
       "        (act): SiLU()\n",
       "      )\n",
       "      (153): Conv(\n",
       "        (conv): Conv2d(256, 256, kernel_size=(3, 3), stride=(1, 1), padding=(1, 1), bias=False)\n",
       "        (bn): BatchNorm2d(256, eps=0.001, momentum=0.03, affine=True, track_running_stats=True)\n",
       "        (act): SiLU()\n",
       "      )\n",
       "      (154): Conv(\n",
       "        (conv): Conv2d(256, 256, kernel_size=(3, 3), stride=(1, 1), padding=(1, 1), bias=False)\n",
       "        (bn): BatchNorm2d(256, eps=0.001, momentum=0.03, affine=True, track_running_stats=True)\n",
       "        (act): SiLU()\n",
       "      )\n",
       "      (155): Conv(\n",
       "        (conv): Conv2d(256, 256, kernel_size=(3, 3), stride=(1, 1), padding=(1, 1), bias=False)\n",
       "        (bn): BatchNorm2d(256, eps=0.001, momentum=0.03, affine=True, track_running_stats=True)\n",
       "        (act): SiLU()\n",
       "      )\n",
       "      (156): Concat()\n",
       "      (157): Conv(\n",
       "        (conv): Conv2d(3072, 768, kernel_size=(1, 1), stride=(1, 1), bias=False)\n",
       "        (bn): BatchNorm2d(768, eps=0.001, momentum=0.03, affine=True, track_running_stats=True)\n",
       "        (act): SiLU()\n",
       "      )\n",
       "      (158): Conv(\n",
       "        (conv): Conv2d(192, 384, kernel_size=(3, 3), stride=(1, 1), padding=(1, 1), bias=False)\n",
       "        (bn): BatchNorm2d(384, eps=0.001, momentum=0.03, affine=True, track_running_stats=True)\n",
       "        (act): SiLU()\n",
       "      )\n",
       "      (159): Conv(\n",
       "        (conv): Conv2d(384, 768, kernel_size=(3, 3), stride=(1, 1), padding=(1, 1), bias=False)\n",
       "        (bn): BatchNorm2d(768, eps=0.001, momentum=0.03, affine=True, track_running_stats=True)\n",
       "        (act): SiLU()\n",
       "      )\n",
       "      (160): Conv(\n",
       "        (conv): Conv2d(576, 1152, kernel_size=(3, 3), stride=(1, 1), padding=(1, 1), bias=False)\n",
       "        (bn): BatchNorm2d(1152, eps=0.001, momentum=0.03, affine=True, track_running_stats=True)\n",
       "        (act): SiLU()\n",
       "      )\n",
       "      (161): Conv(\n",
       "        (conv): Conv2d(768, 1536, kernel_size=(3, 3), stride=(1, 1), padding=(1, 1), bias=False)\n",
       "        (bn): BatchNorm2d(1536, eps=0.001, momentum=0.03, affine=True, track_running_stats=True)\n",
       "        (act): SiLU()\n",
       "      )\n",
       "      (162): Detect(\n",
       "        (m): ModuleList(\n",
       "          (0): Conv2d(384, 18, kernel_size=(1, 1), stride=(1, 1))\n",
       "          (1): Conv2d(768, 18, kernel_size=(1, 1), stride=(1, 1))\n",
       "          (2): Conv2d(1152, 18, kernel_size=(1, 1), stride=(1, 1))\n",
       "          (3): Conv2d(1536, 18, kernel_size=(1, 1), stride=(1, 1))\n",
       "        )\n",
       "      )\n",
       "    )\n",
       "  )\n",
       ")"
      ]
     },
     "execution_count": 41,
     "metadata": {},
     "output_type": "execute_result"
    }
   ],
   "source": [
    "path = \"models/yolov7d6.pt\"\n",
    "model = torch.hub.load(\"WongKinYiu/yolov7\",\"custom\",f\"{path}\",trust_repo=True)\n",
    "model.eval()\n",
    "model.to(device)"
   ]
  },
  {
   "attachments": {},
   "cell_type": "markdown",
   "metadata": {},
   "source": [
    "### Visualizing results"
   ]
  },
  {
   "cell_type": "code",
   "execution_count": 94,
   "metadata": {},
   "outputs": [],
   "source": [
    "def plot_ground_truth_and_predictions(model, data_loader, device,threshold, n,save_path):\n",
    "    \"\"\"\n",
    "    For RetinaNet and Faster R-CNN\n",
    "    model: model to predict\n",
    "    data_loader: test_data loader to use\n",
    "    device: the device to use\n",
    "    threshold: confidence value to threshold a prediction\n",
    "    n: random into scroll on images\n",
    "    save_path: save path of images, must end in .jpg\n",
    "\n",
    "    returns: none\n",
    "    prints a random image from data_loader with both its ground truth and the models predictions\n",
    "    \"\"\"\n",
    "    # Get a batch of validation data\n",
    "    data_loader = iter(data_loader)\n",
    "    #images, targets = next(data_loader)\n",
    "    images, targets = next(data_loader)\n",
    "    \n",
    "    for i in range(n):\n",
    "        images, targets = next(data_loader)\n",
    "\n",
    "    images = images[0]\n",
    "    # Send the images and targets to the device\n",
    "    images = images.to(device)\n",
    "    targets = [{k: v.to(device) for k, v in t.items()} for t in targets]\n",
    "\n",
    "    images = torch.unsqueeze(images, dim=0)\n",
    "    # Run the model on the images\n",
    "    # TODO: ADD THRESHOLDING TO MODEL\n",
    "    # TODO: Add a boolean for yolo model \n",
    "    outputs = model(images)\n",
    "\n",
    "\n",
    "    # Loop over the images in the batch\n",
    "    for i in range(len(images)):\n",
    "        # Get the image, target boxes, and predicted boxes for this image\n",
    "        print(images[i].shape)\n",
    "        image = images[i].cpu().permute(1, 2, 0).numpy()\n",
    "        print(image.shape)\n",
    "        target_boxes = targets[i]['boxes'].cpu().numpy()\n",
    "\n",
    "        # grabs all ids that are above the threshold value\n",
    "        idx_list = []\n",
    "        for idx, score in enumerate(outputs[0]['scores']) :\n",
    "            if score > threshold : #select idx which meets the threshold\n",
    "                idx_list.append(idx)\n",
    "\n",
    "        predicted_boxes = outputs[i]['boxes'][idx_list].detach().cpu().numpy()\n",
    "\n",
    "        # Create a figure with two subplots\n",
    "        fig, axs = plt.subplots(1, 2, figsize=(10, 5))\n",
    "\n",
    "        # Plot the ground truth boxes on the first subplot\n",
    "        axs[0].imshow(image,cmap=\"gray\")\n",
    "        for box in target_boxes:\n",
    "            rect = patches.Rectangle((box[0], box[1]), box[2] - box[0], box[3] - box[1],\n",
    "                                     linewidth=2, edgecolor='g', facecolor='none')\n",
    "            axs[0].add_patch(rect)\n",
    "        axs[0].set_title('Ground Truth')\n",
    "        axs[0].set_xticks([])\n",
    "        axs[0].set_yticks([])\n",
    "\n",
    "        # Plot the predicted boxes on the second subplot\n",
    "        axs[1].imshow(image,cmap=\"gray\")\n",
    "        for box in predicted_boxes:\n",
    "            rect = patches.Rectangle((box[0], box[1]), box[2] - box[0], box[3] - box[1],\n",
    "                                     linewidth=2, edgecolor='r', facecolor='none')\n",
    "            axs[1].add_patch(rect)\n",
    "        axs[1].set_title('Predictions')\n",
    "        axs[1].set_xticks([])\n",
    "        axs[1].set_yticks([])\n",
    "        # Show the plot\n",
    "        if save_path:\n",
    "            plt.savefig(save_path,quality=100,dpi=500)\n",
    "        plt.show()"
   ]
  },
  {
   "cell_type": "code",
   "execution_count": 110,
   "metadata": {},
   "outputs": [],
   "source": [
    "def plot_ground_truth_and_predictions_YOLO(model, data_loader, device,threshold, n,save_path):\n",
    "    \"\"\"\n",
    "    For Yolo Model only!\n",
    "    model: model to predict\n",
    "    data_loader: test_data loader to use\n",
    "    device: the device to use\n",
    "    threshold: confidence value to threshold a prediction\n",
    "    n: random into scroll on images\n",
    "    save_path: save path of images, must end in .jpg\n",
    "\n",
    "    returns: none\n",
    "    prints a random image from data_loader with both its ground truth and the models predictions\n",
    "    \"\"\"\n",
    "    # TODO: Add a boolean for yolo model \n",
    "    # Get a batch of validation data\n",
    "\n",
    "    data_loader = iter(data_loader)\n",
    "    #images, targets = next(data_loader)\n",
    "    images, targets = next(data_loader)\n",
    "    \n",
    "    for i in range(n):\n",
    "        images, targets = next(data_loader)\n",
    "\n",
    "    # image on cpu for yolo\n",
    "    images = torch.squeeze(images[0],0).cpu().numpy()\n",
    "\n",
    "    # images = images[0]\n",
    "    # # Send the images and targets to the device\n",
    "    # #images = images.to(device)\n",
    "    # targets = [{k: v.to(device) for k, v in t.items()} for t in targets]\n",
    "\n",
    "    # images = torch.unsqueeze(images, dim=0)\n",
    "    # Run the model on the images\n",
    "    # TODO: ADD THRESHOLDING TO MODEL\n",
    "    # TODO: Add a boolean for yolo model \n",
    "    outputs = model(images)\n",
    "\n",
    "    # YOLO conversion\n",
    "    outputs = outputs.pred[0]\n",
    "\n",
    "    # Create a dictionary with keys 'boxes', 'labels', and 'scores'\n",
    "    outputs = {\n",
    "        'boxes': outputs[:, :4],  # only take the first four columns of the tensor\n",
    "        'labels': outputs[:, 5].long()+1,\n",
    "        'scores': outputs[:, 4]\n",
    "    }\n",
    "    outputs = [outputs]\n",
    "\n",
    "    # Loop over the images in the batch\n",
    "    for i in range(len(images)):\n",
    "        # Get the image, target boxes, and predicted boxes for this image\n",
    "        # make image 800, 800, 1\n",
    "        image = images[ :, :, np.newaxis]\n",
    "        target_boxes = targets[i]['boxes'].cpu().numpy()\n",
    "\n",
    "        # grabs all ids that are above the threshold value\n",
    "        idx_list = []\n",
    "        for idx, score in enumerate(outputs[0]['scores']) :\n",
    "            if score > threshold : #select idx which meets the threshold\n",
    "                idx_list.append(idx)\n",
    "\n",
    "        predicted_boxes = outputs[i]['boxes'][idx_list].detach().cpu().numpy()\n",
    "\n",
    "        # Create a figure with two subplots\n",
    "        fig, axs = plt.subplots(1, 2, figsize=(10, 5))\n",
    "\n",
    "        # Plot the ground truth boxes on the first subplot\n",
    "        axs[0].imshow(image,cmap=\"gray\")\n",
    "        for box in target_boxes:\n",
    "            rect = patches.Rectangle((box[0], box[1]), box[2] - box[0], box[3] - box[1],\n",
    "                                     linewidth=2, edgecolor='g', facecolor='none')\n",
    "            axs[0].add_patch(rect)\n",
    "        axs[0].set_title('Ground Truth')\n",
    "        axs[0].set_xticks([])\n",
    "        axs[0].set_yticks([])\n",
    "\n",
    "        # Plot the predicted boxes on the second subplot\n",
    "        axs[1].imshow(image,cmap=\"gray\")\n",
    "        for box in predicted_boxes:\n",
    "            rect = patches.Rectangle((box[0], box[1]), box[2] - box[0], box[3] - box[1],\n",
    "                                     linewidth=2, edgecolor='r', facecolor='none')\n",
    "            axs[1].add_patch(rect)\n",
    "        axs[1].set_title('Predictions')\n",
    "        axs[1].set_xticks([])\n",
    "        axs[1].set_yticks([])\n",
    "        # Show the plot\n",
    "        \n",
    "        if save_path:\n",
    "            plt.savefig(save_path,quality=100,dpi=500)\n",
    "        plt.show()"
   ]
  },
  {
   "cell_type": "code",
   "execution_count": 105,
   "metadata": {},
   "outputs": [],
   "source": [
    "# reg\n",
    "#plot_ground_truth_and_predictions(model,noShip_loader,device,0.1,1)"
   ]
  },
  {
   "cell_type": "code",
   "execution_count": 109,
   "metadata": {},
   "outputs": [
    {
     "name": "stderr",
     "output_type": "stream",
     "text": [
      "/tmp/ipykernel_5074/3800423690.py:87: MatplotlibDeprecationWarning: savefig() got unexpected keyword argument \"quality\" which is no longer supported as of 3.3 and will become an error in 3.6\n",
      "  plt.savefig(save_path,quality=100,dpi=500)\n"
     ]
    },
    {
     "ename": "IndexError",
     "evalue": "tuple index out of range",
     "output_type": "error",
     "traceback": [
      "\u001b[0;31m---------------------------------------------------------------------------\u001b[0m",
      "\u001b[0;31mIndexError\u001b[0m                                Traceback (most recent call last)",
      "\u001b[1;32m/home/alex/school/DSC180A/SAR-satelite-image-ship-detection/alex_notebooks/resultsVisualize.ipynb Cell 30\u001b[0m in \u001b[0;36m<cell line: 1>\u001b[0;34m()\u001b[0m\n\u001b[0;32m----> <a href='vscode-notebook-cell:/home/alex/school/DSC180A/SAR-satelite-image-ship-detection/alex_notebooks/resultsVisualize.ipynb#Y206sZmlsZQ%3D%3D?line=0'>1</a>\u001b[0m plot_ground_truth_and_predictions_YOLO(model,val_loader_yolo,device,\u001b[39m0.1\u001b[39;49m,\u001b[39m1\u001b[39;49m)\n",
      "\u001b[1;32m/home/alex/school/DSC180A/SAR-satelite-image-ship-detection/alex_notebooks/resultsVisualize.ipynb Cell 30\u001b[0m in \u001b[0;36mplot_ground_truth_and_predictions_YOLO\u001b[0;34m(model, data_loader, device, threshold, n)\u001b[0m\n\u001b[1;32m     <a href='vscode-notebook-cell:/home/alex/school/DSC180A/SAR-satelite-image-ship-detection/alex_notebooks/resultsVisualize.ipynb#Y206sZmlsZQ%3D%3D?line=47'>48</a>\u001b[0m \u001b[39mfor\u001b[39;00m i \u001b[39min\u001b[39;00m \u001b[39mrange\u001b[39m(\u001b[39mlen\u001b[39m(images)):\n\u001b[1;32m     <a href='vscode-notebook-cell:/home/alex/school/DSC180A/SAR-satelite-image-ship-detection/alex_notebooks/resultsVisualize.ipynb#Y206sZmlsZQ%3D%3D?line=48'>49</a>\u001b[0m     \u001b[39m# Get the image, target boxes, and predicted boxes for this image\u001b[39;00m\n\u001b[1;32m     <a href='vscode-notebook-cell:/home/alex/school/DSC180A/SAR-satelite-image-ship-detection/alex_notebooks/resultsVisualize.ipynb#Y206sZmlsZQ%3D%3D?line=49'>50</a>\u001b[0m     \u001b[39m# make image 800, 800, 1\u001b[39;00m\n\u001b[1;32m     <a href='vscode-notebook-cell:/home/alex/school/DSC180A/SAR-satelite-image-ship-detection/alex_notebooks/resultsVisualize.ipynb#Y206sZmlsZQ%3D%3D?line=50'>51</a>\u001b[0m     image \u001b[39m=\u001b[39m images[ :, :, np\u001b[39m.\u001b[39mnewaxis]\n\u001b[0;32m---> <a href='vscode-notebook-cell:/home/alex/school/DSC180A/SAR-satelite-image-ship-detection/alex_notebooks/resultsVisualize.ipynb#Y206sZmlsZQ%3D%3D?line=51'>52</a>\u001b[0m     target_boxes \u001b[39m=\u001b[39m targets[i][\u001b[39m'\u001b[39m\u001b[39mboxes\u001b[39m\u001b[39m'\u001b[39m]\u001b[39m.\u001b[39mcpu()\u001b[39m.\u001b[39mnumpy()\n\u001b[1;32m     <a href='vscode-notebook-cell:/home/alex/school/DSC180A/SAR-satelite-image-ship-detection/alex_notebooks/resultsVisualize.ipynb#Y206sZmlsZQ%3D%3D?line=53'>54</a>\u001b[0m     \u001b[39m# grabs all ids that are above the threshold value\u001b[39;00m\n\u001b[1;32m     <a href='vscode-notebook-cell:/home/alex/school/DSC180A/SAR-satelite-image-ship-detection/alex_notebooks/resultsVisualize.ipynb#Y206sZmlsZQ%3D%3D?line=54'>55</a>\u001b[0m     idx_list \u001b[39m=\u001b[39m []\n",
      "\u001b[0;31mIndexError\u001b[0m: tuple index out of range"
     ]
    }
   ],
   "source": [
    "plot_ground_truth_and_predictions_YOLO(model,val_loader_yolo,device,0.1,1,False)"
   ]
  },
  {
   "cell_type": "code",
   "execution_count": 31,
   "metadata": {},
   "outputs": [
    {
     "ename": "SyntaxError",
     "evalue": "unexpected EOF while parsing (2020582108.py, line 2)",
     "output_type": "error",
     "traceback": [
      "\u001b[0;36m  Input \u001b[0;32mIn [31]\u001b[0;36m\u001b[0m\n\u001b[0;31m    #plot_ground_truth_and_predictions(model,val_loader,device,i)\u001b[0m\n\u001b[0m                                                                 ^\u001b[0m\n\u001b[0;31mSyntaxError\u001b[0m\u001b[0;31m:\u001b[0m unexpected EOF while parsing\n"
     ]
    }
   ],
   "source": [
    "for i in range(4):\n",
    "    #plot_ground_truth_and_predictions(model,val_loader,device,i)"
   ]
  },
  {
   "attachments": {},
   "cell_type": "markdown",
   "metadata": {},
   "source": [
    "### Faster R-CNN and RetinaNet Metrics"
   ]
  },
  {
   "cell_type": "code",
   "execution_count": 75,
   "metadata": {},
   "outputs": [
    {
     "name": "stderr",
     "output_type": "stream",
     "text": [
      "  0%|          | 0/509 [00:00<?, ?it/s]"
     ]
    },
    {
     "name": "stdout",
     "output_type": "stream",
     "text": [
      "[{'boxes': tensor([[148.78673, 320.45312, 158.62013, 337.57050],\n",
      "        [155.38715, 763.73431, 164.11673, 776.00287]], device='cuda:0'), 'labels': tensor([1, 1], device='cuda:0'), 'scores': tensor([0.99711, 0.98702], device='cuda:0')}]\n"
     ]
    },
    {
     "name": "stderr",
     "output_type": "stream",
     "text": [
      "\n"
     ]
    }
   ],
   "source": [
    "from tqdm import tqdm\n",
    "\n",
    "labels = []\n",
    "preds_adj_all = []\n",
    "annot_all = []\n",
    "\n",
    "for im, annot in tqdm(val_loader, position = 0, leave = True):\n",
    "    im = list(img.to(device) for img in im)\n",
    "    #annot = [{k: v.to(device) for k, v in t.items()} for t in annot]\n",
    "\n",
    "    for t in annot:\n",
    "        labels += t['labels']\n",
    "\n",
    "    with torch.no_grad():\n",
    "        preds_adj = utility.make_prediction(model, im, 0.5)\n",
    "        preds_adj = [{k: v.to(torch.device('cpu')) for k, v in t.items()} for t in preds_adj]\n",
    "        preds_adj_all.append(preds_adj)\n",
    "        annot_all.append(annot)"
   ]
  },
  {
   "cell_type": "code",
   "execution_count": null,
   "metadata": {},
   "outputs": [],
   "source": []
  },
  {
   "cell_type": "code",
   "execution_count": 86,
   "metadata": {},
   "outputs": [
    {
     "name": "stderr",
     "output_type": "stream",
     "text": [
      "/tmp/ipykernel_8612/791575790.py:7: UserWarning: To copy construct from a tensor, it is recommended to use sourceTensor.clone().detach() or sourceTensor.clone().detach().requires_grad_(True), rather than torch.tensor(sourceTensor).\n",
      "  mAP = torch.mean(torch.tensor(AP,dtype=torch.float64))\n"
     ]
    }
   ],
   "source": [
    "sample_metrics = []\n",
    "for batch_i in range(len(preds_adj_all)):\n",
    "    sample_metrics += utility.get_batch_statistics(preds_adj_all[batch_i], annot_all[batch_i], iou_threshold=0.5) \n",
    "\n",
    "true_positives, pred_scores, pred_labels = [torch.cat(x, 0) for x in list(zip(*sample_metrics))] \n",
    "precision, recall, AP, f1, ap_class = utility.ap_per_class(true_positives, pred_scores, pred_labels, torch.tensor(labels))\n",
    "mAP = torch.mean(torch.tensor(AP,dtype=torch.float64))"
   ]
  },
  {
   "cell_type": "code",
   "execution_count": 87,
   "metadata": {},
   "outputs": [
    {
     "data": {
      "text/plain": [
       "'Precision: 0 \\n Recall: 0 \\\\n AP: 0 \\n F1: 0.0 \\n mAP 0.0'"
      ]
     },
     "execution_count": 87,
     "metadata": {},
     "output_type": "execute_result"
    }
   ],
   "source": [
    "\"Precision: {0} \\n Recall: {1} \\\\n AP: {2} \\n F1: {3} \\n mAP {4}\".format(precision.item(), recall.item(), AP.item(), f1.item(),mAP.item())"
   ]
  },
  {
   "cell_type": "code",
   "execution_count": 71,
   "metadata": {},
   "outputs": [],
   "source": [
    "def get_metric(model,datalaoder,threshold):\n",
    "    \"\"\"\n",
    "    Not to be used with YOLO\n",
    "    \"\"\"\n",
    "\n",
    "    t1 = time.time()\n",
    "    labels = []\n",
    "    preds_adj_all = []\n",
    "    annot_all = []\n",
    "\n",
    "    for im, annot in datalaoder:\n",
    "        im = list(img.to(device) for img in im)\n",
    "        #annot = [{k: v.to(device) for k, v in t.items()} for t in annot]\n",
    "\n",
    "        for t in annot:\n",
    "            labels += t['labels']\n",
    "\n",
    "        with torch.no_grad():\n",
    "            preds_adj = utility.make_prediction(model, im, threshold)\n",
    "            preds_adj = [{k: v.to(torch.device('cpu')) for k, v in t.items()} for t in preds_adj]\n",
    "            preds_adj_all.append(preds_adj)\n",
    "            annot_all.append(annot)\n",
    "            break\n",
    "    \n",
    "    sample_metrics = []\n",
    "    for batch_i in range(len(preds_adj_all)):\n",
    "        sample_metrics += utility.get_batch_statistics(preds_adj_all[batch_i], annot_all[batch_i], iou_threshold=0.5) \n",
    "    \n",
    "    true_positives, pred_scores, pred_labels = [torch.cat(x, 0) for x in list(zip(*sample_metrics))] \n",
    "    precision, recall, AP, f1, ap_class = utility.ap_per_class(true_positives, pred_scores, pred_labels, torch.tensor(labels))\n",
    "    mAP = torch.mean(torch.tensor(AP,dtype=torch.float64))\n",
    "    t2 = time.time()\n",
    "    t3 = t2-t1\n",
    "    result = \"Precision: {0:.3f} \\n Recall: {1:.3f} \\n AP: {2:.3f} \\n F1: {3:.3f} \\n mAP {4:.3f} \\n time: {5:.3f} \\n threshold: {6:}\".format(precision.item(), recall.item(), AP.item(), f1.item(),mAP.item(), t3,threshold)\n",
    "    print(result)\n",
    "    return [precision.item(), recall.item(), AP.item(), f1.item(),mAP.item(), t3, threshold]"
   ]
  },
  {
   "cell_type": "code",
   "execution_count": 72,
   "metadata": {},
   "outputs": [
    {
     "name": "stdout",
     "output_type": "stream",
     "text": [
      "Precision: 0.132 \n",
      " Recall: 0.810 \n",
      " AP: 0.621 \n",
      " F1: 0.227 \n",
      " mAP 0.621 \n",
      " time: 0.117 \n",
      " threshold: 0.2\n"
     ]
    },
    {
     "name": "stderr",
     "output_type": "stream",
     "text": [
      "/tmp/ipykernel_26758/633318119.py:31: UserWarning: To copy construct from a tensor, it is recommended to use sourceTensor.clone().detach() or sourceTensor.clone().detach().requires_grad_(True), rather than torch.tensor(sourceTensor).\n",
      "  mAP = torch.mean(torch.tensor(AP,dtype=torch.float64))\n"
     ]
    },
    {
     "data": {
      "text/plain": [
       "[0.13178294897079468,\n",
       " 0.8095238208770752,\n",
       " 0.6211257847472567,\n",
       " 0.2266666740179062,\n",
       " 0.6211257847472567,\n",
       " 0.1168525218963623,\n",
       " 0.2]"
      ]
     },
     "execution_count": 72,
     "metadata": {},
     "output_type": "execute_result"
    }
   ],
   "source": [
    "tempred1 = get_metric(model,inshore_loader,0.2)\n",
    "tempred1"
   ]
  },
  {
   "attachments": {},
   "cell_type": "markdown",
   "metadata": {},
   "source": [
    "### Test on no Ship images"
   ]
  },
  {
   "cell_type": "code",
   "execution_count": 26,
   "metadata": {},
   "outputs": [
    {
     "data": {
      "text/plain": [
       "<matplotlib.image.AxesImage at 0x7fe729bac6d0>"
      ]
     },
     "execution_count": 26,
     "metadata": {},
     "output_type": "execute_result"
    },
    {
     "data": {
      "image/png": "[encoded data removed]",
      "text/plain": [
       "<Figure size 432x288 with 1 Axes>"
      ]
     },
     "metadata": {
      "needs_background": "light"
     },
     "output_type": "display_data"
    }
   ],
   "source": [
    "import matplotlib.image as mpimg\n",
    "import matplotlib.pyplot as plt\n",
    " \n",
    "# Read Images\n",
    "img = mpimg.imread(\"images/01_1_1.jpg\")\n",
    " \n",
    "# Output Images\n",
    "plt.imshow(img)"
   ]
  },
  {
   "cell_type": "code",
   "execution_count": 13,
   "metadata": {},
   "outputs": [],
   "source": [
    "allShipsTXT = os.listdir(\"annotations_yolo/\")\n",
    "allShips = [ship[:-4] for ship in allShipsTXT]\n",
    "\n",
    "allImageJPG = os.listdir(\"images/\")\n",
    "allImage = [img[:-4] for img in allImageJPG]\n"
   ]
  },
  {
   "cell_type": "code",
   "execution_count": 15,
   "metadata": {},
   "outputs": [],
   "source": [
    "def values_not_in_array(array1, array2):\n",
    "    \"\"\"\"function that takes two arrays as input and returns a list \n",
    "    containing all the values in the first array that are not found in\n",
    "     the second array:\"\"\"\n",
    "    return [value for value in array1 if value not in array2]"
   ]
  },
  {
   "cell_type": "code",
   "execution_count": 19,
   "metadata": {},
   "outputs": [],
   "source": [
    "# array of images file names that do not have ships\n",
    "nonShips = values_not_in_array(allImage,allShips)\n",
    "nonShips.sort()"
   ]
  },
  {
   "cell_type": "code",
   "execution_count": 23,
   "metadata": {},
   "outputs": [
    {
     "data": {
      "text/plain": [
       "7141"
      ]
     },
     "execution_count": 23,
     "metadata": {},
     "output_type": "execute_result"
    }
   ],
   "source": [
    "len(nonShips)"
   ]
  },
  {
   "cell_type": "code",
   "execution_count": null,
   "metadata": {},
   "outputs": [],
   "source": []
  },
  {
   "cell_type": "code",
   "execution_count": 51,
   "metadata": {},
   "outputs": [],
   "source": [
    "noShips = []\n",
    "for i in range(30):\n",
    "    temp1 = \"images/01_1_{0}.jpg\".format((i+1))\n",
    "    if i < 21:\n",
    "        temp2 = \"images/01_2_{0}.jpg\".format((i+1))\n",
    "        noShips.append(temp2)\n",
    "    noShips.append(temp1)\n",
    "    "
   ]
  },
  {
   "cell_type": "code",
   "execution_count": 24,
   "metadata": {},
   "outputs": [],
   "source": [
    "def test_no_ship(model, threshold, images):\n",
    "    allIm = []\n",
    "    for im in images:\n",
    "        im = \"images/{0}.jpg\".format(im)\n",
    "        image = cv2.imread(im,0)\n",
    "        image = image/255.0\n",
    "        image = torch.tensor(image,dtype=torch.float32)\n",
    "        image = torch.unsqueeze(image, dim=0)\n",
    "        image = image.to(device)\n",
    "        allIm.append(image)\n",
    "    \n",
    "    \n",
    "    numWrong = 0\n",
    "    numIm = len(allIm)\n",
    "    for im in allIm:\n",
    "        im = torch.unsqueeze(im, dim=0)\n",
    "        pred = model(im)\n",
    "\n",
    "        if torch.sum(pred[0][\"scores\"]>threshold).item() > 0:\n",
    "            #print(im)\n",
    "            numWrong += 1\n",
    "\n",
    "    return (numIm-numWrong)/float(numIm)\n"
   ]
  },
  {
   "cell_type": "code",
   "execution_count": 25,
   "metadata": {},
   "outputs": [
    {
     "ename": "OutOfMemoryError",
     "evalue": "CUDA out of memory. Tried to allocate 20.00 MiB (GPU 0; 7.79 GiB total capacity; 6.70 GiB already allocated; 54.81 MiB free; 6.70 GiB reserved in total by PyTorch) If reserved memory is >> allocated memory try setting max_split_size_mb to avoid fragmentation.  See documentation for Memory Management and PYTORCH_CUDA_ALLOC_CONF",
     "output_type": "error",
     "traceback": [
      "\u001b[0;31m---------------------------------------------------------------------------\u001b[0m",
      "\u001b[0;31mOutOfMemoryError\u001b[0m                          Traceback (most recent call last)",
      "\u001b[1;32m/home/alex/school/DSC180A/SAR-satelite-image-ship-detection/alex_notebooks/resultsVisualize.ipynb Cell 30\u001b[0m in \u001b[0;36m<cell line: 1>\u001b[0;34m()\u001b[0m\n\u001b[0;32m----> <a href='vscode-notebook-cell:/home/alex/school/DSC180A/SAR-satelite-image-ship-detection/alex_notebooks/resultsVisualize.ipynb#X33sZmlsZQ%3D%3D?line=0'>1</a>\u001b[0m test_no_ship(model,threshold, nonShips)\n",
      "\u001b[1;32m/home/alex/school/DSC180A/SAR-satelite-image-ship-detection/alex_notebooks/resultsVisualize.ipynb Cell 30\u001b[0m in \u001b[0;36mtest_no_ship\u001b[0;34m(model, threshold, images)\u001b[0m\n\u001b[1;32m      <a href='vscode-notebook-cell:/home/alex/school/DSC180A/SAR-satelite-image-ship-detection/alex_notebooks/resultsVisualize.ipynb#X33sZmlsZQ%3D%3D?line=6'>7</a>\u001b[0m     image \u001b[39m=\u001b[39m torch\u001b[39m.\u001b[39mtensor(image,dtype\u001b[39m=\u001b[39mtorch\u001b[39m.\u001b[39mfloat32)\n\u001b[1;32m      <a href='vscode-notebook-cell:/home/alex/school/DSC180A/SAR-satelite-image-ship-detection/alex_notebooks/resultsVisualize.ipynb#X33sZmlsZQ%3D%3D?line=7'>8</a>\u001b[0m     image \u001b[39m=\u001b[39m torch\u001b[39m.\u001b[39munsqueeze(image, dim\u001b[39m=\u001b[39m\u001b[39m0\u001b[39m)\n\u001b[0;32m----> <a href='vscode-notebook-cell:/home/alex/school/DSC180A/SAR-satelite-image-ship-detection/alex_notebooks/resultsVisualize.ipynb#X33sZmlsZQ%3D%3D?line=8'>9</a>\u001b[0m     image \u001b[39m=\u001b[39m image\u001b[39m.\u001b[39;49mto(device)\n\u001b[1;32m     <a href='vscode-notebook-cell:/home/alex/school/DSC180A/SAR-satelite-image-ship-detection/alex_notebooks/resultsVisualize.ipynb#X33sZmlsZQ%3D%3D?line=9'>10</a>\u001b[0m     allIm\u001b[39m.\u001b[39mappend(image)\n\u001b[1;32m     <a href='vscode-notebook-cell:/home/alex/school/DSC180A/SAR-satelite-image-ship-detection/alex_notebooks/resultsVisualize.ipynb#X33sZmlsZQ%3D%3D?line=12'>13</a>\u001b[0m numWrong \u001b[39m=\u001b[39m \u001b[39m0\u001b[39m\n",
      "\u001b[0;31mOutOfMemoryError\u001b[0m: CUDA out of memory. Tried to allocate 20.00 MiB (GPU 0; 7.79 GiB total capacity; 6.70 GiB already allocated; 54.81 MiB free; 6.70 GiB reserved in total by PyTorch) If reserved memory is >> allocated memory try setting max_split_size_mb to avoid fragmentation.  See documentation for Memory Management and PYTORCH_CUDA_ALLOC_CONF"
     ]
    }
   ],
   "source": [
    "test_no_ship(model,threshold, nonShips)"
   ]
  },
  {
   "attachments": {},
   "cell_type": "markdown",
   "metadata": {},
   "source": [
    "### Working with YOLOv7"
   ]
  },
  {
   "cell_type": "code",
   "execution_count": 47,
   "metadata": {},
   "outputs": [
    {
     "name": "stdout",
     "output_type": "stream",
     "text": [
      "torch.Size([1, 800, 800])\n"
     ]
    },
    {
     "name": "stderr",
     "output_type": "stream",
     "text": [
      "/tmp/ipykernel_8612/4205722651.py:6: RuntimeWarning: invalid value encountered in true_divide\n",
      "  image1 = (image1-image1.min())/(image1.max()-image1.min())\n"
     ]
    }
   ],
   "source": [
    "image1 = cv2.imread(\"gee/2020-01-05_5.jpg\",0)\n",
    "\n",
    "image1 = np.clip(image1, -20, 0)\n",
    "\n",
    "# for some reason have to rescale or else when saving image it will be dark\n",
    "image1 = (image1-image1.min())/(image1.max()-image1.min())\n",
    "#plt.imshow(image1,cmap=\"gray\")\n",
    "#plt.show()\n",
    "#image = image1/255.0\n",
    "image = torch.tensor(image1,dtype=torch.float32)\n",
    "image = torch.unsqueeze(image, dim=0)\n",
    "print(image.shape)\n",
    "image = image.to(device)\n",
    "test = [image]"
   ]
  },
  {
   "cell_type": "code",
   "execution_count": 17,
   "metadata": {},
   "outputs": [
    {
     "ename": "RuntimeError",
     "evalue": "Given groups=1, weight of size [96, 12, 3, 3], expected input[1, 1, 1600, 400] to have 12 channels, but got 1 channels instead",
     "output_type": "error",
     "traceback": [
      "\u001b[0;31m---------------------------------------------------------------------------\u001b[0m",
      "\u001b[0;31mRuntimeError\u001b[0m                              Traceback (most recent call last)",
      "\u001b[1;32m/home/alex/school/DSC180A/SAR-satelite-image-ship-detection/alex_notebooks/resultsVisualize.ipynb Cell 37\u001b[0m in \u001b[0;36m<cell line: 1>\u001b[0;34m()\u001b[0m\n\u001b[0;32m----> <a href='vscode-notebook-cell:/home/alex/school/DSC180A/SAR-satelite-image-ship-detection/alex_notebooks/resultsVisualize.ipynb#X51sZmlsZQ%3D%3D?line=0'>1</a>\u001b[0m pred \u001b[39m=\u001b[39m model(image)\n",
      "File \u001b[0;32m~/.local/lib/python3.8/site-packages/torch/nn/modules/module.py:1194\u001b[0m, in \u001b[0;36mModule._call_impl\u001b[0;34m(self, *input, **kwargs)\u001b[0m\n\u001b[1;32m   1190\u001b[0m \u001b[39m# If we don't have any hooks, we want to skip the rest of the logic in\u001b[39;00m\n\u001b[1;32m   1191\u001b[0m \u001b[39m# this function, and just call forward.\u001b[39;00m\n\u001b[1;32m   1192\u001b[0m \u001b[39mif\u001b[39;00m \u001b[39mnot\u001b[39;00m (\u001b[39mself\u001b[39m\u001b[39m.\u001b[39m_backward_hooks \u001b[39mor\u001b[39;00m \u001b[39mself\u001b[39m\u001b[39m.\u001b[39m_forward_hooks \u001b[39mor\u001b[39;00m \u001b[39mself\u001b[39m\u001b[39m.\u001b[39m_forward_pre_hooks \u001b[39mor\u001b[39;00m _global_backward_hooks\n\u001b[1;32m   1193\u001b[0m         \u001b[39mor\u001b[39;00m _global_forward_hooks \u001b[39mor\u001b[39;00m _global_forward_pre_hooks):\n\u001b[0;32m-> 1194\u001b[0m     \u001b[39mreturn\u001b[39;00m forward_call(\u001b[39m*\u001b[39;49m\u001b[39minput\u001b[39;49m, \u001b[39m*\u001b[39;49m\u001b[39m*\u001b[39;49mkwargs)\n\u001b[1;32m   1195\u001b[0m \u001b[39m# Do not call functions when jit is used\u001b[39;00m\n\u001b[1;32m   1196\u001b[0m full_backward_hooks, non_full_backward_hooks \u001b[39m=\u001b[39m [], []\n",
      "File \u001b[0;32m~/.local/lib/python3.8/site-packages/torch/autograd/grad_mode.py:27\u001b[0m, in \u001b[0;36m_DecoratorContextManager.__call__.<locals>.decorate_context\u001b[0;34m(*args, **kwargs)\u001b[0m\n\u001b[1;32m     24\u001b[0m \u001b[39m@functools\u001b[39m\u001b[39m.\u001b[39mwraps(func)\n\u001b[1;32m     25\u001b[0m \u001b[39mdef\u001b[39;00m \u001b[39mdecorate_context\u001b[39m(\u001b[39m*\u001b[39margs, \u001b[39m*\u001b[39m\u001b[39m*\u001b[39mkwargs):\n\u001b[1;32m     26\u001b[0m     \u001b[39mwith\u001b[39;00m \u001b[39mself\u001b[39m\u001b[39m.\u001b[39mclone():\n\u001b[0;32m---> 27\u001b[0m         \u001b[39mreturn\u001b[39;00m func(\u001b[39m*\u001b[39;49margs, \u001b[39m*\u001b[39;49m\u001b[39m*\u001b[39;49mkwargs)\n",
      "File \u001b[0;32m~/.cache/torch/hub/WongKinYiu_yolov7_main/models/common.py:894\u001b[0m, in \u001b[0;36mautoShape.forward\u001b[0;34m(self, imgs, size, augment, profile)\u001b[0m\n\u001b[1;32m    892\u001b[0m \u001b[39mif\u001b[39;00m \u001b[39misinstance\u001b[39m(imgs, torch\u001b[39m.\u001b[39mTensor):  \u001b[39m# torch\u001b[39;00m\n\u001b[1;32m    893\u001b[0m     \u001b[39mwith\u001b[39;00m amp\u001b[39m.\u001b[39mautocast(enabled\u001b[39m=\u001b[39mp\u001b[39m.\u001b[39mdevice\u001b[39m.\u001b[39mtype \u001b[39m!=\u001b[39m \u001b[39m'\u001b[39m\u001b[39mcpu\u001b[39m\u001b[39m'\u001b[39m):\n\u001b[0;32m--> 894\u001b[0m         \u001b[39mreturn\u001b[39;00m \u001b[39mself\u001b[39;49m\u001b[39m.\u001b[39;49mmodel(imgs\u001b[39m.\u001b[39;49mto(p\u001b[39m.\u001b[39;49mdevice)\u001b[39m.\u001b[39;49mtype_as(p), augment, profile)  \u001b[39m# inference\u001b[39;00m\n\u001b[1;32m    896\u001b[0m \u001b[39m# Pre-process\u001b[39;00m\n\u001b[1;32m    897\u001b[0m n, imgs \u001b[39m=\u001b[39m (\u001b[39mlen\u001b[39m(imgs), imgs) \u001b[39mif\u001b[39;00m \u001b[39misinstance\u001b[39m(imgs, \u001b[39mlist\u001b[39m) \u001b[39melse\u001b[39;00m (\u001b[39m1\u001b[39m, [imgs])  \u001b[39m# number of images, list of images\u001b[39;00m\n",
      "File \u001b[0;32m~/.local/lib/python3.8/site-packages/torch/nn/modules/module.py:1194\u001b[0m, in \u001b[0;36mModule._call_impl\u001b[0;34m(self, *input, **kwargs)\u001b[0m\n\u001b[1;32m   1190\u001b[0m \u001b[39m# If we don't have any hooks, we want to skip the rest of the logic in\u001b[39;00m\n\u001b[1;32m   1191\u001b[0m \u001b[39m# this function, and just call forward.\u001b[39;00m\n\u001b[1;32m   1192\u001b[0m \u001b[39mif\u001b[39;00m \u001b[39mnot\u001b[39;00m (\u001b[39mself\u001b[39m\u001b[39m.\u001b[39m_backward_hooks \u001b[39mor\u001b[39;00m \u001b[39mself\u001b[39m\u001b[39m.\u001b[39m_forward_hooks \u001b[39mor\u001b[39;00m \u001b[39mself\u001b[39m\u001b[39m.\u001b[39m_forward_pre_hooks \u001b[39mor\u001b[39;00m _global_backward_hooks\n\u001b[1;32m   1193\u001b[0m         \u001b[39mor\u001b[39;00m _global_forward_hooks \u001b[39mor\u001b[39;00m _global_forward_pre_hooks):\n\u001b[0;32m-> 1194\u001b[0m     \u001b[39mreturn\u001b[39;00m forward_call(\u001b[39m*\u001b[39;49m\u001b[39minput\u001b[39;49m, \u001b[39m*\u001b[39;49m\u001b[39m*\u001b[39;49mkwargs)\n\u001b[1;32m   1195\u001b[0m \u001b[39m# Do not call functions when jit is used\u001b[39;00m\n\u001b[1;32m   1196\u001b[0m full_backward_hooks, non_full_backward_hooks \u001b[39m=\u001b[39m [], []\n",
      "File \u001b[0;32m~/.cache/torch/hub/WongKinYiu_yolov7_main/models/yolo.py:599\u001b[0m, in \u001b[0;36mModel.forward\u001b[0;34m(self, x, augment, profile)\u001b[0m\n\u001b[1;32m    597\u001b[0m     \u001b[39mreturn\u001b[39;00m torch\u001b[39m.\u001b[39mcat(y, \u001b[39m1\u001b[39m), \u001b[39mNone\u001b[39;00m  \u001b[39m# augmented inference, train\u001b[39;00m\n\u001b[1;32m    598\u001b[0m \u001b[39melse\u001b[39;00m:\n\u001b[0;32m--> 599\u001b[0m     \u001b[39mreturn\u001b[39;00m \u001b[39mself\u001b[39;49m\u001b[39m.\u001b[39;49mforward_once(x, profile)\n",
      "File \u001b[0;32m~/.cache/torch/hub/WongKinYiu_yolov7_main/models/yolo.py:625\u001b[0m, in \u001b[0;36mModel.forward_once\u001b[0;34m(self, x, profile)\u001b[0m\n\u001b[1;32m    622\u001b[0m         dt\u001b[39m.\u001b[39mappend((time_synchronized() \u001b[39m-\u001b[39m t) \u001b[39m*\u001b[39m \u001b[39m100\u001b[39m)\n\u001b[1;32m    623\u001b[0m         \u001b[39mprint\u001b[39m(\u001b[39m'\u001b[39m\u001b[39m%10.1f\u001b[39;00m\u001b[39m%10.0f\u001b[39;00m\u001b[39m%10.1f\u001b[39;00m\u001b[39mms \u001b[39m\u001b[39m%-40s\u001b[39;00m\u001b[39m'\u001b[39m \u001b[39m%\u001b[39m (o, m\u001b[39m.\u001b[39mnp, dt[\u001b[39m-\u001b[39m\u001b[39m1\u001b[39m], m\u001b[39m.\u001b[39mtype))\n\u001b[0;32m--> 625\u001b[0m     x \u001b[39m=\u001b[39m m(x)  \u001b[39m# run\u001b[39;00m\n\u001b[1;32m    627\u001b[0m     y\u001b[39m.\u001b[39mappend(x \u001b[39mif\u001b[39;00m m\u001b[39m.\u001b[39mi \u001b[39min\u001b[39;00m \u001b[39mself\u001b[39m\u001b[39m.\u001b[39msave \u001b[39melse\u001b[39;00m \u001b[39mNone\u001b[39;00m)  \u001b[39m# save output\u001b[39;00m\n\u001b[1;32m    629\u001b[0m \u001b[39mif\u001b[39;00m profile:\n",
      "File \u001b[0;32m~/.local/lib/python3.8/site-packages/torch/nn/modules/module.py:1194\u001b[0m, in \u001b[0;36mModule._call_impl\u001b[0;34m(self, *input, **kwargs)\u001b[0m\n\u001b[1;32m   1190\u001b[0m \u001b[39m# If we don't have any hooks, we want to skip the rest of the logic in\u001b[39;00m\n\u001b[1;32m   1191\u001b[0m \u001b[39m# this function, and just call forward.\u001b[39;00m\n\u001b[1;32m   1192\u001b[0m \u001b[39mif\u001b[39;00m \u001b[39mnot\u001b[39;00m (\u001b[39mself\u001b[39m\u001b[39m.\u001b[39m_backward_hooks \u001b[39mor\u001b[39;00m \u001b[39mself\u001b[39m\u001b[39m.\u001b[39m_forward_hooks \u001b[39mor\u001b[39;00m \u001b[39mself\u001b[39m\u001b[39m.\u001b[39m_forward_pre_hooks \u001b[39mor\u001b[39;00m _global_backward_hooks\n\u001b[1;32m   1193\u001b[0m         \u001b[39mor\u001b[39;00m _global_forward_hooks \u001b[39mor\u001b[39;00m _global_forward_pre_hooks):\n\u001b[0;32m-> 1194\u001b[0m     \u001b[39mreturn\u001b[39;00m forward_call(\u001b[39m*\u001b[39;49m\u001b[39minput\u001b[39;49m, \u001b[39m*\u001b[39;49m\u001b[39m*\u001b[39;49mkwargs)\n\u001b[1;32m   1195\u001b[0m \u001b[39m# Do not call functions when jit is used\u001b[39;00m\n\u001b[1;32m   1196\u001b[0m full_backward_hooks, non_full_backward_hooks \u001b[39m=\u001b[39m [], []\n",
      "File \u001b[0;32m~/.cache/torch/hub/WongKinYiu_yolov7_main/models/common.py:108\u001b[0m, in \u001b[0;36mConv.forward\u001b[0;34m(self, x)\u001b[0m\n\u001b[1;32m    107\u001b[0m \u001b[39mdef\u001b[39;00m \u001b[39mforward\u001b[39m(\u001b[39mself\u001b[39m, x):\n\u001b[0;32m--> 108\u001b[0m     \u001b[39mreturn\u001b[39;00m \u001b[39mself\u001b[39m\u001b[39m.\u001b[39mact(\u001b[39mself\u001b[39m\u001b[39m.\u001b[39mbn(\u001b[39mself\u001b[39;49m\u001b[39m.\u001b[39;49mconv(x)))\n",
      "File \u001b[0;32m~/.local/lib/python3.8/site-packages/torch/nn/modules/module.py:1194\u001b[0m, in \u001b[0;36mModule._call_impl\u001b[0;34m(self, *input, **kwargs)\u001b[0m\n\u001b[1;32m   1190\u001b[0m \u001b[39m# If we don't have any hooks, we want to skip the rest of the logic in\u001b[39;00m\n\u001b[1;32m   1191\u001b[0m \u001b[39m# this function, and just call forward.\u001b[39;00m\n\u001b[1;32m   1192\u001b[0m \u001b[39mif\u001b[39;00m \u001b[39mnot\u001b[39;00m (\u001b[39mself\u001b[39m\u001b[39m.\u001b[39m_backward_hooks \u001b[39mor\u001b[39;00m \u001b[39mself\u001b[39m\u001b[39m.\u001b[39m_forward_hooks \u001b[39mor\u001b[39;00m \u001b[39mself\u001b[39m\u001b[39m.\u001b[39m_forward_pre_hooks \u001b[39mor\u001b[39;00m _global_backward_hooks\n\u001b[1;32m   1193\u001b[0m         \u001b[39mor\u001b[39;00m _global_forward_hooks \u001b[39mor\u001b[39;00m _global_forward_pre_hooks):\n\u001b[0;32m-> 1194\u001b[0m     \u001b[39mreturn\u001b[39;00m forward_call(\u001b[39m*\u001b[39;49m\u001b[39minput\u001b[39;49m, \u001b[39m*\u001b[39;49m\u001b[39m*\u001b[39;49mkwargs)\n\u001b[1;32m   1195\u001b[0m \u001b[39m# Do not call functions when jit is used\u001b[39;00m\n\u001b[1;32m   1196\u001b[0m full_backward_hooks, non_full_backward_hooks \u001b[39m=\u001b[39m [], []\n",
      "File \u001b[0;32m~/.local/lib/python3.8/site-packages/torch/nn/modules/conv.py:463\u001b[0m, in \u001b[0;36mConv2d.forward\u001b[0;34m(self, input)\u001b[0m\n\u001b[1;32m    462\u001b[0m \u001b[39mdef\u001b[39;00m \u001b[39mforward\u001b[39m(\u001b[39mself\u001b[39m, \u001b[39minput\u001b[39m: Tensor) \u001b[39m-\u001b[39m\u001b[39m>\u001b[39m Tensor:\n\u001b[0;32m--> 463\u001b[0m     \u001b[39mreturn\u001b[39;00m \u001b[39mself\u001b[39;49m\u001b[39m.\u001b[39;49m_conv_forward(\u001b[39minput\u001b[39;49m, \u001b[39mself\u001b[39;49m\u001b[39m.\u001b[39;49mweight, \u001b[39mself\u001b[39;49m\u001b[39m.\u001b[39;49mbias)\n",
      "File \u001b[0;32m~/.local/lib/python3.8/site-packages/torch/nn/modules/conv.py:459\u001b[0m, in \u001b[0;36mConv2d._conv_forward\u001b[0;34m(self, input, weight, bias)\u001b[0m\n\u001b[1;32m    455\u001b[0m \u001b[39mif\u001b[39;00m \u001b[39mself\u001b[39m\u001b[39m.\u001b[39mpadding_mode \u001b[39m!=\u001b[39m \u001b[39m'\u001b[39m\u001b[39mzeros\u001b[39m\u001b[39m'\u001b[39m:\n\u001b[1;32m    456\u001b[0m     \u001b[39mreturn\u001b[39;00m F\u001b[39m.\u001b[39mconv2d(F\u001b[39m.\u001b[39mpad(\u001b[39minput\u001b[39m, \u001b[39mself\u001b[39m\u001b[39m.\u001b[39m_reversed_padding_repeated_twice, mode\u001b[39m=\u001b[39m\u001b[39mself\u001b[39m\u001b[39m.\u001b[39mpadding_mode),\n\u001b[1;32m    457\u001b[0m                     weight, bias, \u001b[39mself\u001b[39m\u001b[39m.\u001b[39mstride,\n\u001b[1;32m    458\u001b[0m                     _pair(\u001b[39m0\u001b[39m), \u001b[39mself\u001b[39m\u001b[39m.\u001b[39mdilation, \u001b[39mself\u001b[39m\u001b[39m.\u001b[39mgroups)\n\u001b[0;32m--> 459\u001b[0m \u001b[39mreturn\u001b[39;00m F\u001b[39m.\u001b[39;49mconv2d(\u001b[39minput\u001b[39;49m, weight, bias, \u001b[39mself\u001b[39;49m\u001b[39m.\u001b[39;49mstride,\n\u001b[1;32m    460\u001b[0m                 \u001b[39mself\u001b[39;49m\u001b[39m.\u001b[39;49mpadding, \u001b[39mself\u001b[39;49m\u001b[39m.\u001b[39;49mdilation, \u001b[39mself\u001b[39;49m\u001b[39m.\u001b[39;49mgroups)\n",
      "\u001b[0;31mRuntimeError\u001b[0m: Given groups=1, weight of size [96, 12, 3, 3], expected input[1, 1, 1600, 400] to have 12 channels, but got 1 channels instead"
     ]
    }
   ],
   "source": [
    "pred = model(image)"
   ]
  },
  {
   "cell_type": "code",
   "execution_count": 16,
   "metadata": {},
   "outputs": [
    {
     "data": {
      "text/plain": [
       "tensor([], device='cuda:0', size=(0, 6))"
      ]
     },
     "execution_count": 16,
     "metadata": {},
     "output_type": "execute_result"
    }
   ],
   "source": [
    "pred.pred[0]"
   ]
  },
  {
   "cell_type": "code",
   "execution_count": 61,
   "metadata": {},
   "outputs": [
    {
     "data": {
      "text/plain": [
       "torch.Size([1, 800, 800])"
      ]
     },
     "execution_count": 61,
     "metadata": {},
     "output_type": "execute_result"
    }
   ],
   "source": [
    "image.shape"
   ]
  },
  {
   "cell_type": "code",
   "execution_count": 12,
   "metadata": {},
   "outputs": [],
   "source": [
    "def make_prediction(model, img, threshold):\n",
    "    model.eval()\n",
    "    preds = model(img)\n",
    "    for id in range(len(preds)) :\n",
    "        idx_list = []\n",
    "\n",
    "        for idx, score in enumerate(preds[id]['scores']) :\n",
    "            if score > threshold : #select idx which meets the threshold\n",
    "                idx_list.append(idx)\n",
    "\n",
    "        preds[id]['boxes'] = preds[id]['boxes'][idx_list]\n",
    "        preds[id]['labels'] = preds[id]['labels'][idx_list]\n",
    "        preds[id]['scores'] = preds[id]['scores'][idx_list]\n",
    "\n",
    "\n",
    "    return preds\n"
   ]
  },
  {
   "cell_type": "code",
   "execution_count": 13,
   "metadata": {},
   "outputs": [
    {
     "data": {
      "text/plain": [
       "[{'boxes': tensor([], device='cuda:0', size=(0, 4), grad_fn=<IndexBackward0>),\n",
       "  'labels': tensor([], device='cuda:0', dtype=torch.int64),\n",
       "  'scores': tensor([], device='cuda:0', grad_fn=<IndexBackward0>)}]"
      ]
     },
     "execution_count": 13,
     "metadata": {},
     "output_type": "execute_result"
    }
   ],
   "source": [
    "fasterPred = make_prediction(model,test,0.5)\n",
    "fasterPred"
   ]
  },
  {
   "cell_type": "code",
   "execution_count": 20,
   "metadata": {},
   "outputs": [
    {
     "data": {
      "text/plain": [
       "torch.Size([1, 800, 800])"
      ]
     },
     "execution_count": 20,
     "metadata": {},
     "output_type": "execute_result"
    }
   ],
   "source": [
    "image.shape"
   ]
  },
  {
   "cell_type": "code",
   "execution_count": 44,
   "metadata": {},
   "outputs": [],
   "source": [
    "def make_prediction_yolo(model, img, threshold):\n",
    "    model.eval()\n",
    "    preds = model(img)\n",
    "    \n",
    "    preds = preds.pred[0]\n",
    "\n",
    "    # Create a dictionary with keys 'boxes', 'labels', and 'scores'\n",
    "    preds = {\n",
    "        'boxes': preds[:, :4],  # only take the first four columns of the tensor\n",
    "        'labels': preds[:, 5].long()+1,\n",
    "        'scores': preds[:, 4]\n",
    "    }\n",
    "    preds = [preds]\n",
    "    \n",
    "    for id in range(len(preds)) :\n",
    "        idx_list = []\n",
    "\n",
    "        for idx, score in enumerate(preds[id]['scores']) :\n",
    "            if score > threshold : #select idx which meets the threshold\n",
    "                idx_list.append(idx)\n",
    "\n",
    "        preds[id]['boxes'] = preds[id]['boxes'][idx_list]\n",
    "        preds[id]['labels'] = preds[id]['labels'][idx_list]\n",
    "        preds[id]['scores'] = preds[id]['scores'][idx_list]\n",
    "\n",
    "\n",
    "    return preds"
   ]
  },
  {
   "cell_type": "code",
   "execution_count": null,
   "metadata": {},
   "outputs": [],
   "source": [
    "\n"
   ]
  },
  {
   "cell_type": "code",
   "execution_count": 45,
   "metadata": {},
   "outputs": [],
   "source": [
    "def get_metric_YOLO(model, dataloader, threshold):\n",
    "    t1 = time.time()\n",
    "    labels = []\n",
    "    preds_adj_all = []\n",
    "    annot_all = []\n",
    "\n",
    "    for im, annot in dataloader:\n",
    "        \n",
    "        for t in annot:\n",
    "            \n",
    "            labels += t['labels']\n",
    "        \n",
    "        with torch.no_grad():\n",
    "            ### make a new function for yolo, need to move to cpu first\n",
    "            # will slow down time significantly\n",
    "            im = torch.squeeze(im[0],0).cpu().numpy()\n",
    "            preds_adj = make_prediction_yolo(model, im, threshold)\n",
    "            preds_adj = [{k: v.to(torch.device('cpu')) for k, v in t.items()} for t in preds_adj]\n",
    "            preds_adj_all.append(preds_adj)\n",
    "            annot_all.append(annot)\n",
    "    \n",
    "    sample_metrics = []\n",
    "    for batch_i in range(len(preds_adj_all)):\n",
    "        sample_metrics += utility.get_batch_statistics(preds_adj_all[batch_i], annot_all[batch_i], iou_threshold=0.5) \n",
    "    true_positives, pred_scores, pred_labels = [torch.cat(x, 0) for x in list(zip(*sample_metrics))] \n",
    "    precision, recall, AP, f1, ap_class = utility.ap_per_class(true_positives, pred_scores, pred_labels, torch.tensor(labels))\n",
    "    mAP = torch.mean(torch.tensor(AP,dtype=torch.float64))\n",
    "    t2 = time.time()\n",
    "    t3 = t2-t1\n",
    "    result = \"Precision: {0:.3f} \\n Recall: {1:.3f} \\n AP: {2:.3f} \\n F1: {3:.3f} \\n mAP {4:.3f} \\n time: {5:.3f} \\n threshold: {6:}\".format(precision.item(), recall.item(), AP.item(), f1.item(),mAP.item(), t3,threshold)\n",
    "    print(result)\n",
    "    return [precision.item(), recall.item(), AP.item(), f1.item(),mAP.item(), t3, threshold]\n",
    "            "
   ]
  },
  {
   "cell_type": "code",
   "execution_count": 64,
   "metadata": {},
   "outputs": [
    {
     "name": "stdout",
     "output_type": "stream",
     "text": [
      "Precision: 0.844 \n",
      " Recall: 0.140 \n",
      " AP: 0.130 \n",
      " F1: 0.241 \n",
      " mAP 0.130 \n",
      " time: 6.654 \n",
      " threshold: 0.2\n"
     ]
    },
    {
     "name": "stderr",
     "output_type": "stream",
     "text": [
      "/tmp/ipykernel_26758/4095411721.py:27: UserWarning: To copy construct from a tensor, it is recommended to use sourceTensor.clone().detach() or sourceTensor.clone().detach().requires_grad_(True), rather than torch.tensor(sourceTensor).\n",
      "  mAP = torch.mean(torch.tensor(AP,dtype=torch.float64))\n"
     ]
    },
    {
     "data": {
      "text/plain": [
       "(0.8435373902320862,\n",
       " 0.14043034613132477,\n",
       " 0.12962042363866966,\n",
       " 0.24077670276165009,\n",
       " 0.12962042363866966,\n",
       " 6.654167175292969,\n",
       " 0.2)"
      ]
     },
     "execution_count": 64,
     "metadata": {},
     "output_type": "execute_result"
    }
   ],
   "source": [
    "tempYolopred = get_metric_YOLO(model, inshore_loader_yolo, 0.2)\n",
    "tempYolopred"
   ]
  },
  {
   "cell_type": "code",
   "execution_count": 49,
   "metadata": {},
   "outputs": [
    {
     "data": {
      "text/plain": [
       "[[0.9267578125,\n",
       "  0.5814951062202454,\n",
       "  0.5655639180138952,\n",
       "  0.7146084904670715,\n",
       "  0.5655639180138952,\n",
       "  56.425047159194946,\n",
       "  0.2]]"
      ]
     },
     "execution_count": 49,
     "metadata": {},
     "output_type": "execute_result"
    }
   ],
   "source": [
    "t = list(tempYolopred)\n",
    "t = [t]\n",
    "t"
   ]
  },
  {
   "cell_type": "code",
   "execution_count": 54,
   "metadata": {},
   "outputs": [
    {
     "data": {
      "text/html": [
       "<div>\n",
       "<style scoped>\n",
       "    .dataframe tbody tr th:only-of-type {\n",
       "        vertical-align: middle;\n",
       "    }\n",
       "\n",
       "    .dataframe tbody tr th {\n",
       "        vertical-align: top;\n",
       "    }\n",
       "\n",
       "    .dataframe thead th {\n",
       "        text-align: right;\n",
       "    }\n",
       "</style>\n",
       "<table border=\"1\" class=\"dataframe\">\n",
       "  <thead>\n",
       "    <tr style=\"text-align: right;\">\n",
       "      <th></th>\n",
       "      <th>Precision</th>\n",
       "      <th>Recall</th>\n",
       "      <th>AP</th>\n",
       "      <th>f1</th>\n",
       "      <th>mAP</th>\n",
       "      <th>Time (seconds)</th>\n",
       "      <th>Threshold</th>\n",
       "    </tr>\n",
       "  </thead>\n",
       "  <tbody>\n",
       "    <tr>\n",
       "      <th>0</th>\n",
       "      <td>0.926758</td>\n",
       "      <td>0.581495</td>\n",
       "      <td>0.565564</td>\n",
       "      <td>0.714608</td>\n",
       "      <td>0.565564</td>\n",
       "      <td>56.425047</td>\n",
       "      <td>0.2</td>\n",
       "    </tr>\n",
       "  </tbody>\n",
       "</table>\n",
       "</div>"
      ],
      "text/plain": [
       "   Precision    Recall        AP        f1       mAP  Time (seconds)  \\\n",
       "0   0.926758  0.581495  0.565564  0.714608  0.565564       56.425047   \n",
       "\n",
       "   Threshold  \n",
       "0        0.2  "
      ]
     },
     "execution_count": 54,
     "metadata": {},
     "output_type": "execute_result"
    }
   ],
   "source": [
    "cols = [\"Precision\", \"Recall\", \"AP\" , \"f1\" ,\"mAP\", \"Time (seconds)\", \"Threshold\"]\n",
    "df = pd.DataFrame(t, columns=cols)\n",
    "df.head()"
   ]
  },
  {
   "cell_type": "code",
   "execution_count": null,
   "metadata": {},
   "outputs": [],
   "source": []
  },
  {
   "cell_type": "code",
   "execution_count": 29,
   "metadata": {},
   "outputs": [
    {
     "name": "stdout",
     "output_type": "stream",
     "text": [
      "[tensor([1.]), tensor([0.36670]), tensor([1])]\n"
     ]
    },
    {
     "name": "stderr",
     "output_type": "stream",
     "text": [
      "/tmp/ipykernel_5074/879528417.py:7: UserWarning: To copy construct from a tensor, it is recommended to use sourceTensor.clone().detach() or sourceTensor.clone().detach().requires_grad_(True), rather than torch.tensor(sourceTensor).\n",
      "  mAP = torch.mean(torch.tensor(AP,dtype=torch.float64))\n"
     ]
    }
   ],
   "source": [
    "sample_metrics = []\n",
    "for batch_i in range(len(preds_adj_all)):\n",
    "    sample_metrics += utility.get_batch_statistics(preds_adj_all[batch_i], annot_all[batch_i], iou_threshold=0.5) \n",
    "print(sample_metrics[0])\n",
    "true_positives, pred_scores, pred_labels = [torch.cat(x, 0) for x in list(zip(*sample_metrics))] \n",
    "precision, recall, AP, f1, ap_class = utility.ap_per_class(true_positives, pred_scores, pred_labels, torch.tensor(labels))\n",
    "mAP = torch.mean(torch.tensor(AP,dtype=torch.float64))"
   ]
  },
  {
   "cell_type": "code",
   "execution_count": 30,
   "metadata": {},
   "outputs": [
    {
     "data": {
      "text/plain": [
       "'Precision: 0.9267578125 \\n Recall: 0.5814951062202454 \\\\n AP: 0.5655639180138952 \\n F1: 0.7146084904670715 \\n mAP 0.5655639180138952'"
      ]
     },
     "execution_count": 30,
     "metadata": {},
     "output_type": "execute_result"
    }
   ],
   "source": [
    "\"Precision: {0} \\n Recall: {1} \\\\n AP: {2} \\n F1: {3} \\n mAP {4}\".format(precision.item(), recall.item(), AP.item(), f1.item(),mAP.item())"
   ]
  },
  {
   "cell_type": "code",
   "execution_count": 13,
   "metadata": {},
   "outputs": [],
   "source": [
    "import matplotlib\n",
    "matplotlib.use('TkAgg')"
   ]
  },
  {
   "cell_type": "code",
   "execution_count": 14,
   "metadata": {},
   "outputs": [],
   "source": [
    "plt.imshow(image1)\n",
    "plt.show()"
   ]
  },
  {
   "cell_type": "code",
   "execution_count": 54,
   "metadata": {},
   "outputs": [],
   "source": [
    "image1 = cv2.imread(\"gee/2020-01-05_5.jpg\",0)\n",
    "image = image1/255.0"
   ]
  },
  {
   "cell_type": "code",
   "execution_count": 57,
   "metadata": {},
   "outputs": [
    {
     "data": {
      "text/plain": [
       "tensor([[4.37500e+02, 2.12500e+02, 4.78750e+02, 2.38438e+02, 3.33740e-01, 0.00000e+00],\n",
       "        [3.05781e+02, 1.85938e+02, 3.46562e+02, 2.13125e+02, 3.32031e-01, 0.00000e+00],\n",
       "        [2.55781e+02, 1.79590e+01, 2.97969e+02, 4.86719e+01, 3.01514e-01, 0.00000e+00]], device='cuda:0')"
      ]
     },
     "execution_count": 57,
     "metadata": {},
     "output_type": "execute_result"
    }
   ],
   "source": [
    "model(image1).pred[0]"
   ]
  },
  {
   "cell_type": "code",
   "execution_count": 44,
   "metadata": {},
   "outputs": [
    {
     "name": "stderr",
     "output_type": "stream",
     "text": [
      "/tmp/ipykernel_8612/2737544992.py:5: UserWarning: Matplotlib is currently using agg, which is a non-GUI backend, so cannot show the figure.\n",
      "  plt.show()\n",
      "/tmp/ipykernel_8612/2737544992.py:9: UserWarning: Matplotlib is currently using agg, which is a non-GUI backend, so cannot show the figure.\n",
      "  plt.show()\n"
     ]
    }
   ],
   "source": [
    "with rasterio.open(r'/home/alex/school/DSC180A/SAR-satelite-image-ship-detection/gee_data/2020-01-05.tif') as src:\n",
    "    img = src.read()\n",
    "    img = np.clip(img, -20, 0)\n",
    "    plt.imshow(img[0],cmap=\"gray\")\n",
    "    plt.show()\n",
    "    img = (img-img.min())/(img.max()-img.min())\n",
    "    plt.imshow(img[0],cmap=\"gray\")\n",
    "    \n",
    "    plt.show()"
   ]
  },
  {
   "cell_type": "code",
   "execution_count": 46,
   "metadata": {},
   "outputs": [
    {
     "data": {
      "text/plain": [
       "(1, 1649, 2266)"
      ]
     },
     "execution_count": 46,
     "metadata": {},
     "output_type": "execute_result"
    }
   ],
   "source": [
    "img.shape"
   ]
  },
  {
   "cell_type": "code",
   "execution_count": 45,
   "metadata": {},
   "outputs": [
    {
     "ename": "ValueError",
     "evalue": "axes don't match array",
     "output_type": "error",
     "traceback": [
      "\u001b[0;31m---------------------------------------------------------------------------\u001b[0m",
      "\u001b[0;31mValueError\u001b[0m                                Traceback (most recent call last)",
      "\u001b[1;32m/home/alex/school/DSC180A/SAR-satelite-image-ship-detection/alex_notebooks/resultsVisualize.ipynb Cell 50\u001b[0m in \u001b[0;36m<cell line: 1>\u001b[0;34m()\u001b[0m\n\u001b[0;32m----> <a href='vscode-notebook-cell:/home/alex/school/DSC180A/SAR-satelite-image-ship-detection/alex_notebooks/resultsVisualize.ipynb#Y153sZmlsZQ%3D%3D?line=0'>1</a>\u001b[0m res \u001b[39m=\u001b[39m model(img)\n",
      "File \u001b[0;32m~/.local/lib/python3.8/site-packages/torch/nn/modules/module.py:1194\u001b[0m, in \u001b[0;36mModule._call_impl\u001b[0;34m(self, *input, **kwargs)\u001b[0m\n\u001b[1;32m   1190\u001b[0m \u001b[39m# If we don't have any hooks, we want to skip the rest of the logic in\u001b[39;00m\n\u001b[1;32m   1191\u001b[0m \u001b[39m# this function, and just call forward.\u001b[39;00m\n\u001b[1;32m   1192\u001b[0m \u001b[39mif\u001b[39;00m \u001b[39mnot\u001b[39;00m (\u001b[39mself\u001b[39m\u001b[39m.\u001b[39m_backward_hooks \u001b[39mor\u001b[39;00m \u001b[39mself\u001b[39m\u001b[39m.\u001b[39m_forward_hooks \u001b[39mor\u001b[39;00m \u001b[39mself\u001b[39m\u001b[39m.\u001b[39m_forward_pre_hooks \u001b[39mor\u001b[39;00m _global_backward_hooks\n\u001b[1;32m   1193\u001b[0m         \u001b[39mor\u001b[39;00m _global_forward_hooks \u001b[39mor\u001b[39;00m _global_forward_pre_hooks):\n\u001b[0;32m-> 1194\u001b[0m     \u001b[39mreturn\u001b[39;00m forward_call(\u001b[39m*\u001b[39;49m\u001b[39minput\u001b[39;49m, \u001b[39m*\u001b[39;49m\u001b[39m*\u001b[39;49mkwargs)\n\u001b[1;32m   1195\u001b[0m \u001b[39m# Do not call functions when jit is used\u001b[39;00m\n\u001b[1;32m   1196\u001b[0m full_backward_hooks, non_full_backward_hooks \u001b[39m=\u001b[39m [], []\n",
      "File \u001b[0;32m~/.local/lib/python3.8/site-packages/torch/autograd/grad_mode.py:27\u001b[0m, in \u001b[0;36m_DecoratorContextManager.__call__.<locals>.decorate_context\u001b[0;34m(*args, **kwargs)\u001b[0m\n\u001b[1;32m     24\u001b[0m \u001b[39m@functools\u001b[39m\u001b[39m.\u001b[39mwraps(func)\n\u001b[1;32m     25\u001b[0m \u001b[39mdef\u001b[39;00m \u001b[39mdecorate_context\u001b[39m(\u001b[39m*\u001b[39margs, \u001b[39m*\u001b[39m\u001b[39m*\u001b[39mkwargs):\n\u001b[1;32m     26\u001b[0m     \u001b[39mwith\u001b[39;00m \u001b[39mself\u001b[39m\u001b[39m.\u001b[39mclone():\n\u001b[0;32m---> 27\u001b[0m         \u001b[39mreturn\u001b[39;00m func(\u001b[39m*\u001b[39;49margs, \u001b[39m*\u001b[39;49m\u001b[39m*\u001b[39;49mkwargs)\n",
      "File \u001b[0;32m~/.cache/torch/hub/WongKinYiu_yolov7_main/models/common.py:917\u001b[0m, in \u001b[0;36mautoShape.forward\u001b[0;34m(self, imgs, size, augment, profile)\u001b[0m\n\u001b[1;32m    915\u001b[0m x \u001b[39m=\u001b[39m [letterbox(im, new_shape\u001b[39m=\u001b[39mshape1, auto\u001b[39m=\u001b[39m\u001b[39mFalse\u001b[39;00m)[\u001b[39m0\u001b[39m] \u001b[39mfor\u001b[39;00m im \u001b[39min\u001b[39;00m imgs]  \u001b[39m# pad\u001b[39;00m\n\u001b[1;32m    916\u001b[0m x \u001b[39m=\u001b[39m np\u001b[39m.\u001b[39mstack(x, \u001b[39m0\u001b[39m) \u001b[39mif\u001b[39;00m n \u001b[39m>\u001b[39m \u001b[39m1\u001b[39m \u001b[39melse\u001b[39;00m x[\u001b[39m0\u001b[39m][\u001b[39mNone\u001b[39;00m]  \u001b[39m# stack\u001b[39;00m\n\u001b[0;32m--> 917\u001b[0m x \u001b[39m=\u001b[39m np\u001b[39m.\u001b[39mascontiguousarray(x\u001b[39m.\u001b[39;49mtranspose((\u001b[39m0\u001b[39;49m, \u001b[39m3\u001b[39;49m, \u001b[39m1\u001b[39;49m, \u001b[39m2\u001b[39;49m)))  \u001b[39m# BHWC to BCHW\u001b[39;00m\n\u001b[1;32m    918\u001b[0m x \u001b[39m=\u001b[39m torch\u001b[39m.\u001b[39mfrom_numpy(x)\u001b[39m.\u001b[39mto(p\u001b[39m.\u001b[39mdevice)\u001b[39m.\u001b[39mtype_as(p) \u001b[39m/\u001b[39m \u001b[39m255.\u001b[39m  \u001b[39m# uint8 to fp16/32\u001b[39;00m\n\u001b[1;32m    919\u001b[0m t\u001b[39m.\u001b[39mappend(time_synchronized())\n",
      "\u001b[0;31mValueError\u001b[0m: axes don't match array"
     ]
    }
   ],
   "source": [
    "res = model(img)"
   ]
  },
  {
   "cell_type": "code",
   "execution_count": 23,
   "metadata": {},
   "outputs": [],
   "source": [
    "# Extract the bounding boxes, object confidence scores, and class IDs\n",
    "boxes = res.xyxy[0]  # xyxy coordinates of boxes for first image in batch\n",
    "scores = res.pred[0][:, 4]  # object confidence scores for first image in batch\n",
    "class_ids = res.pred[0][:, 5]  # class IDs for first image in batch"
   ]
  },
  {
   "cell_type": "code",
   "execution_count": 31,
   "metadata": {},
   "outputs": [
    {
     "data": {
      "text/plain": [
       "(tensor([[3.06875e+02, 2.04688e+02, 3.39375e+02, 2.49688e+02, 4.34082e-01, 0.00000e+00],\n",
       "         [4.43125e+02, 2.25312e+02, 4.70625e+02, 2.67812e+02, 3.80371e-01, 0.00000e+00],\n",
       "         [1.15781e+02, 4.12500e+01, 1.41094e+02, 8.83594e+01, 3.33740e-01, 0.00000e+00]], device='cuda:0'),\n",
       " tensor([0.43408, 0.38037, 0.33374], device='cuda:0'))"
      ]
     },
     "execution_count": 31,
     "metadata": {},
     "output_type": "execute_result"
    }
   ],
   "source": [
    "boxes, scores"
   ]
  },
  {
   "cell_type": "code",
   "execution_count": 30,
   "metadata": {},
   "outputs": [
    {
     "data": {
      "text/plain": [
       "[tensor([], device='cuda:0', size=(0, 6))]"
      ]
     },
     "execution_count": 30,
     "metadata": {},
     "output_type": "execute_result"
    }
   ],
   "source": [
    "res.xyxy"
   ]
  },
  {
   "cell_type": "code",
   "execution_count": 18,
   "metadata": {},
   "outputs": [
    {
     "data": {
      "text/plain": [
       "array([[306.875, 204.6875, 339.375, 249.6875, 0.43408203125, 0, 'ship'],\n",
       "       [443.125, 225.3125, 470.625, 267.8125, 0.38037109375, 0, 'ship'],\n",
       "       [115.78125, 41.25, 141.09375, 88.359375, 0.333740234375, 0, 'ship']], dtype=object)"
      ]
     },
     "execution_count": 18,
     "metadata": {},
     "output_type": "execute_result"
    }
   ],
   "source": [
    "res.pandas().xyxy[0].to_numpy()"
   ]
  },
  {
   "cell_type": "code",
   "execution_count": 20,
   "metadata": {},
   "outputs": [
    {
     "data": {
      "text/plain": [
       "array([306.875, 204.6875, 339.375, 249.6875, 0.43408203125, 0, 'ship'], dtype=object)"
      ]
     },
     "execution_count": 20,
     "metadata": {},
     "output_type": "execute_result"
    }
   ],
   "source": [
    "res.pandas().xyxy[0].to_numpy()[0]"
   ]
  },
  {
   "cell_type": "code",
   "execution_count": 48,
   "metadata": {},
   "outputs": [
    {
     "ename": "TypeError",
     "evalue": "transpose() received an invalid combination of arguments - got (tuple), but expected one of:\n * (int dim0, int dim1)\n * (name dim0, name dim1)\n",
     "output_type": "error",
     "traceback": [
      "\u001b[0;31m---------------------------------------------------------------------------\u001b[0m",
      "\u001b[0;31mTypeError\u001b[0m                                 Traceback (most recent call last)",
      "\u001b[1;32m/home/alex/school/DSC180A/SAR-satelite-image-ship-detection/alex_notebooks/resultsVisualize.ipynb Cell 57\u001b[0m in \u001b[0;36m<cell line: 1>\u001b[0;34m()\u001b[0m\n\u001b[0;32m----> <a href='vscode-notebook-cell:/home/alex/school/DSC180A/SAR-satelite-image-ship-detection/alex_notebooks/resultsVisualize.ipynb#Y103sZmlsZQ%3D%3D?line=0'>1</a>\u001b[0m prediction \u001b[39m=\u001b[39m model(test)\n\u001b[1;32m      <a href='vscode-notebook-cell:/home/alex/school/DSC180A/SAR-satelite-image-ship-detection/alex_notebooks/resultsVisualize.ipynb#Y103sZmlsZQ%3D%3D?line=1'>2</a>\u001b[0m prediction\n",
      "File \u001b[0;32m~/.local/lib/python3.8/site-packages/torch/nn/modules/module.py:1194\u001b[0m, in \u001b[0;36mModule._call_impl\u001b[0;34m(self, *input, **kwargs)\u001b[0m\n\u001b[1;32m   1190\u001b[0m \u001b[39m# If we don't have any hooks, we want to skip the rest of the logic in\u001b[39;00m\n\u001b[1;32m   1191\u001b[0m \u001b[39m# this function, and just call forward.\u001b[39;00m\n\u001b[1;32m   1192\u001b[0m \u001b[39mif\u001b[39;00m \u001b[39mnot\u001b[39;00m (\u001b[39mself\u001b[39m\u001b[39m.\u001b[39m_backward_hooks \u001b[39mor\u001b[39;00m \u001b[39mself\u001b[39m\u001b[39m.\u001b[39m_forward_hooks \u001b[39mor\u001b[39;00m \u001b[39mself\u001b[39m\u001b[39m.\u001b[39m_forward_pre_hooks \u001b[39mor\u001b[39;00m _global_backward_hooks\n\u001b[1;32m   1193\u001b[0m         \u001b[39mor\u001b[39;00m _global_forward_hooks \u001b[39mor\u001b[39;00m _global_forward_pre_hooks):\n\u001b[0;32m-> 1194\u001b[0m     \u001b[39mreturn\u001b[39;00m forward_call(\u001b[39m*\u001b[39;49m\u001b[39minput\u001b[39;49m, \u001b[39m*\u001b[39;49m\u001b[39m*\u001b[39;49mkwargs)\n\u001b[1;32m   1195\u001b[0m \u001b[39m# Do not call functions when jit is used\u001b[39;00m\n\u001b[1;32m   1196\u001b[0m full_backward_hooks, non_full_backward_hooks \u001b[39m=\u001b[39m [], []\n",
      "File \u001b[0;32m~/.local/lib/python3.8/site-packages/torch/autograd/grad_mode.py:27\u001b[0m, in \u001b[0;36m_DecoratorContextManager.__call__.<locals>.decorate_context\u001b[0;34m(*args, **kwargs)\u001b[0m\n\u001b[1;32m     24\u001b[0m \u001b[39m@functools\u001b[39m\u001b[39m.\u001b[39mwraps(func)\n\u001b[1;32m     25\u001b[0m \u001b[39mdef\u001b[39;00m \u001b[39mdecorate_context\u001b[39m(\u001b[39m*\u001b[39margs, \u001b[39m*\u001b[39m\u001b[39m*\u001b[39mkwargs):\n\u001b[1;32m     26\u001b[0m     \u001b[39mwith\u001b[39;00m \u001b[39mself\u001b[39m\u001b[39m.\u001b[39mclone():\n\u001b[0;32m---> 27\u001b[0m         \u001b[39mreturn\u001b[39;00m func(\u001b[39m*\u001b[39;49margs, \u001b[39m*\u001b[39;49m\u001b[39m*\u001b[39;49mkwargs)\n",
      "File \u001b[0;32m~/.cache/torch/hub/WongKinYiu_yolov7_main/models/common.py:907\u001b[0m, in \u001b[0;36mautoShape.forward\u001b[0;34m(self, imgs, size, augment, profile)\u001b[0m\n\u001b[1;32m    905\u001b[0m files\u001b[39m.\u001b[39mappend(Path(f)\u001b[39m.\u001b[39mwith_suffix(\u001b[39m'\u001b[39m\u001b[39m.jpg\u001b[39m\u001b[39m'\u001b[39m)\u001b[39m.\u001b[39mname)\n\u001b[1;32m    906\u001b[0m \u001b[39mif\u001b[39;00m im\u001b[39m.\u001b[39mshape[\u001b[39m0\u001b[39m] \u001b[39m<\u001b[39m \u001b[39m5\u001b[39m:  \u001b[39m# image in CHW\u001b[39;00m\n\u001b[0;32m--> 907\u001b[0m     im \u001b[39m=\u001b[39m im\u001b[39m.\u001b[39;49mtranspose((\u001b[39m1\u001b[39;49m, \u001b[39m2\u001b[39;49m, \u001b[39m0\u001b[39;49m))  \u001b[39m# reverse dataloader .transpose(2, 0, 1)\u001b[39;00m\n\u001b[1;32m    908\u001b[0m im \u001b[39m=\u001b[39m im[:, :, :\u001b[39m3\u001b[39m] \u001b[39mif\u001b[39;00m im\u001b[39m.\u001b[39mndim \u001b[39m==\u001b[39m \u001b[39m3\u001b[39m \u001b[39melse\u001b[39;00m np\u001b[39m.\u001b[39mtile(im[:, :, \u001b[39mNone\u001b[39;00m], \u001b[39m3\u001b[39m)  \u001b[39m# enforce 3ch input\u001b[39;00m\n\u001b[1;32m    909\u001b[0m s \u001b[39m=\u001b[39m im\u001b[39m.\u001b[39mshape[:\u001b[39m2\u001b[39m]  \u001b[39m# HWC\u001b[39;00m\n",
      "\u001b[0;31mTypeError\u001b[0m: transpose() received an invalid combination of arguments - got (tuple), but expected one of:\n * (int dim0, int dim1)\n * (name dim0, name dim1)\n"
     ]
    }
   ],
   "source": [
    "prediction = model(test)\n",
    "prediction"
   ]
  },
  {
   "cell_type": "code",
   "execution_count": 37,
   "metadata": {},
   "outputs": [
    {
     "data": {
      "text/plain": [
       "5"
      ]
     },
     "execution_count": 37,
     "metadata": {},
     "output_type": "execute_result"
    }
   ],
   "source": [
    "sum(prediction[0][\"scores\"]>threshold).item()"
   ]
  },
  {
   "cell_type": "code",
   "execution_count": 37,
   "metadata": {},
   "outputs": [
    {
     "data": {
      "text/plain": [
       "0"
      ]
     },
     "execution_count": 37,
     "metadata": {},
     "output_type": "execute_result"
    }
   ],
   "source": [
    "torch.sum(prediction[0][\"scores\"]>0.5).item()"
   ]
  },
  {
   "cell_type": "code",
   "execution_count": 17,
   "metadata": {},
   "outputs": [],
   "source": [
    "allFiles = os.listdir(\"images/\")"
   ]
  },
  {
   "cell_type": "code",
   "execution_count": 19,
   "metadata": {},
   "outputs": [],
   "source": [
    "allFiles.sort()"
   ]
  },
  {
   "cell_type": "code",
   "execution_count": 20,
   "metadata": {},
   "outputs": [
    {
     "data": {
      "text/plain": [
       "['01_10_1.jpg', '01_10_10.jpg', '01_10_11.jpg', '01_10_12.jpg', '01_10_13.jpg']"
      ]
     },
     "execution_count": 20,
     "metadata": {},
     "output_type": "execute_result"
    }
   ],
   "source": [
    "allFiles[:5]"
   ]
  },
  {
   "cell_type": "code",
   "execution_count": 7,
   "metadata": {},
   "outputs": [],
   "source": [
    "import joblib"
   ]
  },
  {
   "cell_type": "code",
   "execution_count": 4,
   "metadata": {},
   "outputs": [
    {
     "data": {
      "text/plain": [
       "'0.24.2'"
      ]
     },
     "execution_count": 4,
     "metadata": {},
     "output_type": "execute_result"
    }
   ],
   "source": [
    "import sklearn\n",
    "sklearn.__version__"
   ]
  },
  {
   "cell_type": "code",
   "execution_count": 5,
   "metadata": {},
   "outputs": [],
   "source": [
    "from sklearn.neighbors import _dist_metrics"
   ]
  },
  {
   "cell_type": "code",
   "execution_count": 11,
   "metadata": {},
   "outputs": [
    {
     "name": "stderr",
     "output_type": "stream",
     "text": [
      "/home/alex/.local/lib/python3.8/site-packages/sklearn/neighbors/_classification.py:211: FutureWarning: Unlike other reduction functions (e.g. `skew`, `kurtosis`), the default behavior of `mode` typically preserves the axis it acts along. In SciPy 1.11.0, this behavior will change: the default value of `keepdims` will become False, the `axis` over which the statistic is taken will be eliminated, and the value None will no longer be accepted. Set `keepdims` to True or False to avoid this warning.\n",
      "  mode, _ = stats.mode(_y[neigh_ind, k], axis=1)\n"
     ]
    }
   ],
   "source": [
    "clf = joblib.load(\"inshore_offshore_clf_model.pkl\")\n",
    "img = cv2.imread(\"gee/2020-01-06_5.jpg\",0)\n",
    "img_vals = np.copy(img)\n",
    "img_50 = np.percentile(img_vals,50)\n",
    "img_80 = np.percentile(img_vals,80)\n",
    "img_90 = np.percentile(img_vals,90)\n",
    "img_30 = np.percentile(img_vals,30)\n",
    "    \n",
    "features = np.array([[img_50, img_80, img_90, img_30]])\n",
    "calssres = clf.predict(features)"
   ]
  },
  {
   "cell_type": "code",
   "execution_count": 13,
   "metadata": {},
   "outputs": [
    {
     "data": {
      "text/plain": [
       "1"
      ]
     },
     "execution_count": 13,
     "metadata": {},
     "output_type": "execute_result"
    }
   ],
   "source": [
    "calssres[0]"
   ]
  },
  {
   "attachments": {},
   "cell_type": "markdown",
   "metadata": {},
   "source": [
    "## GEE Image Reading and Testing"
   ]
  },
  {
   "cell_type": "code",
   "execution_count": 19,
   "metadata": {},
   "outputs": [
    {
     "data": {
      "image/png": "[encoded data removed]",
      "text/plain": [
       "<Figure size 432x288 with 1 Axes>"
      ]
     },
     "metadata": {
      "needs_background": "light"
     },
     "output_type": "display_data"
    }
   ],
   "source": [
    "with rasterio.open(r'/home/alex/school/DSC180A/SAR-satelite-image-ship-detection/gee_data/2020-01-11.tif') as src:\n",
    "    img = src.read()\n",
    "    plt.imshow(img[0])"
   ]
  },
  {
   "cell_type": "code",
   "execution_count": 13,
   "metadata": {},
   "outputs": [
    {
     "data": {
      "image/png": "[encoded data removed]",
      "text/plain": [
       "<Figure size 432x288 with 1 Axes>"
      ]
     },
     "metadata": {
      "needs_background": "light"
     },
     "output_type": "display_data"
    }
   ],
   "source": [
    "with rasterio.open(r'/home/alex/school/DSC180A/SAR-satelite-image-ship-detection/gee_data/2020-01-06.tif') as src:\n",
    "    img = src.read()\n",
    "    img = np.clip(img, -20, 0)\n",
    "    plt.imshow(img[0],cmap=\"gray\")"
   ]
  },
  {
   "cell_type": "code",
   "execution_count": 11,
   "metadata": {},
   "outputs": [
    {
     "data": {
      "image/png": "[encoded data removed]",
      "text/plain": [
       "<Figure size 432x288 with 1 Axes>"
      ]
     },
     "metadata": {
      "needs_background": "light"
     },
     "output_type": "display_data"
    }
   ],
   "source": [
    "with rasterio.open(r'/home/alex/school/DSC180A/SAR-satelite-image-ship-detection/gee_data/2020-01-05.tif') as src:\n",
    "    img = src.read()[0]\n",
    "    img = np.clip(img, -20, 0)\n",
    "    plt.imshow(img,cmap=\"gray\")\n",
    "    # img = Image.fromarray(img)\n",
    "    # img = img.convert(\"L\")\n",
    "    # img.save(\"test.jpg\")"
   ]
  },
  {
   "cell_type": "code",
   "execution_count": null,
   "metadata": {},
   "outputs": [],
   "source": [
    "## TODO: Fix YOLO\n",
    "## TODO: Figure out thresholding\n",
    "## TODO: Metrics for no ships\n"
   ]
  },
  {
   "cell_type": "code",
   "execution_count": 40,
   "metadata": {},
   "outputs": [],
   "source": [
    "## TODO: plot bounding box on large image"
   ]
  },
  {
   "cell_type": "code",
   "execution_count": 7,
   "metadata": {},
   "outputs": [],
   "source": [
    "def image_splitter(img_fp):\n",
    "    \"\"\"\n",
    "    Takes the image filepath returns m x n array of the subimages\n",
    "    pads with 0\n",
    "    \"\"\"\n",
    "    #     img = gdal.Open(img_fp)\n",
    "    #     img_array = img.GetRasterBand(1).ReadAsArray()\n",
    "    # note have to add in rescaled helper fn\n",
    "\n",
    "    # define splitting helper function\n",
    "    # got this from https://towardsdatascience.com/efficiently-splitting-an-image-into-tiles-in-python-using-numpy-d1bf0dd7b6f7\n",
    "    def reshape_split(image, kernel_size):\n",
    "        img_height, img_width = image.shape\n",
    "        tile_height, tile_width = kernel_size\n",
    "        \n",
    "        tiled_array = image.reshape(img_height // tile_height,\n",
    "                                tile_height,\n",
    "                                img_width // tile_width,\n",
    "                                tile_width)\n",
    "        tiled_array = tiled_array.swapaxes(1,2)\n",
    "        return tiled_array\n",
    "\n",
    "\n",
    "    # get image name to return\n",
    "    # splits full fp by \\, then gets the YYYY-MM-DD_#.jpg, then cuts off .jpg \n",
    "    img_name = img_fp.split('\\\\')[-1][:-4]\n",
    "\n",
    "\n",
    "\n",
    "    with rasterio.open(img_fp) as src:\n",
    "        img_array = src.read()[0]\n",
    "        #print(img_array.shape)\n",
    "        \n",
    "    # have to clip values to take away gray tint from image\n",
    "    # and have to do this so that inshore offshore classifier works\n",
    "    img_array = np.clip(img_array, -20, 0)\n",
    "    \n",
    "    img_height, img_width = img_array.shape\n",
    "    # get next biggest multiple of 800\n",
    "    # TODO: Make it closest multiple of 800 instead OR PAD WITH BLACK\n",
    "    new_height = img_height + (800 - img_height % 800)\n",
    "    new_width = img_width + (800 - img_width % 800)\n",
    "    \n",
    "    # calculate number of pixels to pad\n",
    "    delta_w = new_width - img_width\n",
    "    delta_h = new_height - img_height\n",
    "    top, bottom = delta_h // 2, delta_h - (delta_h // 2)\n",
    "    left, right = delta_w // 2, delta_w - (delta_w // 2)\n",
    "    \n",
    "    # pad image with 0\n",
    "    image_pad = np.pad(img_array, ((top, bottom), (left, right)), mode='constant', constant_values=-20)\n",
    "    \n",
    "    # for some reason have to rescale or else when saving image it will be dark\n",
    "    rescaled = 255*(image_pad-image_pad.min())/(image_pad.max()-image_pad.min())\n",
    "\n",
    "    # normalize between 0 and 1\n",
    "    # MAKE A BETTER RESCALING\n",
    "    rescale_normalized = rescaled / 255\n",
    "    \n",
    "    # split image into subimages\n",
    "        # will return array [m, n, 800, 800] where there are an m x n number of images with size 800x800 \n",
    "    split = reshape_split(rescale_normalized, kernel_size=(800,800))\n",
    "    \n",
    "    return split, img_name"
   ]
  },
  {
   "cell_type": "code",
   "execution_count": 8,
   "metadata": {},
   "outputs": [],
   "source": [
    "def plot_large_image(model,image_path,threshold,save_path):\n",
    "    \"\"\"\n",
    "    model: pytorch \n",
    "    image_path: path tif file\n",
    "    threshold: confidence threshold for model\n",
    "    save_path: path to save plot (must be jpg), if none will not save\n",
    "    \"\"\"\n",
    "\n",
    "    # split image and save size for future\n",
    "    split_image, _ = image_splitter(image_path)\n",
    "    split_size = split_image.shape[:2]\n",
    "\n",
    "    # flatten image and format to work with pytroch device\n",
    "    flattened = np.reshape(split_image, (-1, split_image.shape[2], split_image.shape[3]))\n",
    "    torch_split_img = np.array(flattened)\n",
    "    torch_split_img = torch.tensor(torch_split_img,dtype=torch.float32)\n",
    "    torch_split_img = torch.unsqueeze(torch_split_img, dim=0)\n",
    "    torch_split_img = torch_split_img.permute(1,0,2,3)\n",
    "    torch_split_img = torch_split_img.to(device)\n",
    "\n",
    "    # predict bounding boxes\n",
    "    pred = model(torch_split_img)\n",
    "    # reshape to match image split\n",
    "    pred = np.reshape(pred,split_size)\n",
    "\n",
    "\n",
    "    # Create a 3x3 plot with a shared axis\n",
    "    fig, axs = plt.subplots(split_size[0], split_size[1], sharex=True, sharey=True, figsize=(6, 6))\n",
    "\n",
    "    # Loop over the images and annotations and plot them on the corresponding subplot\n",
    "    for i in range(split_size[0]):\n",
    "        for j in range(split_size[1]):\n",
    "            # Plot the image\n",
    "            axs[i, j].imshow(split_image[i, j], cmap='gray')\n",
    "            \n",
    "            # Remove the axis labels and ticks\n",
    "            axs[i, j].set_xticks([])\n",
    "            axs[i, j].set_yticks([])\n",
    "            axs[i, j].axis('off')\n",
    "            # Loop over the annotations and plot them as bounding boxes\n",
    "            curPred = pred[i, j]\n",
    "            for k in range(len(curPred[\"scores\"])):\n",
    "                # checks if above threshold\n",
    "                if curPred[\"scores\"][k] > threshold:\n",
    "                    annotation = curPred['boxes'][k]\n",
    "                    annotation = annotation.cpu().detach().numpy()\n",
    "                    left, upper, right, lower = annotation\n",
    "                    width, height = right - left, lower - upper\n",
    "                    rect = plt.Rectangle((left, upper), width, height, linewidth=1, edgecolor='r', facecolor='none')\n",
    "                    axs[i, j].add_patch(rect)\n",
    "\n",
    "    # Remove the space between the images\n",
    "    plt.subplots_adjust(wspace=0, hspace=0)\n",
    "    if save_path:\n",
    "        plt.savefig(save_path,quality=100,dpi=500)\n",
    "    # Show the plot\n",
    "    plt.show()"
   ]
  },
  {
   "cell_type": "code",
   "execution_count": 1,
   "metadata": {},
   "outputs": [],
   "source": [
    "#plot_large_image(model,r'/home/alex/school/DSC180A/SAR-satelite-image-ship-detection/gee_data/2020-01-05.tif',threshold,None)"
   ]
  },
  {
   "cell_type": "code",
   "execution_count": 7,
   "metadata": {},
   "outputs": [],
   "source": [
    "faster_rcnn = model"
   ]
  },
  {
   "cell_type": "code",
   "execution_count": 10,
   "metadata": {},
   "outputs": [],
   "source": [
    "testing, _ = image_splitter('/home/alex/school/DSC180A/SAR-satelite-image-ship-detection/gee_data/2020-01-05.tif')"
   ]
  },
  {
   "cell_type": "code",
   "execution_count": 12,
   "metadata": {},
   "outputs": [
    {
     "data": {
      "text/plain": [
       "(3, 3)"
      ]
     },
     "execution_count": 12,
     "metadata": {},
     "output_type": "execute_result"
    }
   ],
   "source": [
    "testing.shape[:2]"
   ]
  },
  {
   "cell_type": "code",
   "execution_count": 11,
   "metadata": {},
   "outputs": [],
   "source": [
    "flattened = np.reshape(testing, (-1, testing.shape[2], testing.shape[3]))"
   ]
  },
  {
   "cell_type": "code",
   "execution_count": 12,
   "metadata": {},
   "outputs": [],
   "source": [
    "inshoreImg = np.array(flattened)\n",
    "inshoreImg = torch.tensor(inshoreImg,dtype=torch.float32)\n",
    "inshoreImg = torch.unsqueeze(inshoreImg, dim=0)\n",
    "inshoreImg = inshoreImg.permute(1,0,2,3)\n",
    "inshoreImg = inshoreImg.to(device)"
   ]
  },
  {
   "cell_type": "code",
   "execution_count": 13,
   "metadata": {},
   "outputs": [],
   "source": [
    "testPred = faster_rcnn(inshoreImg)"
   ]
  },
  {
   "cell_type": "code",
   "execution_count": 19,
   "metadata": {},
   "outputs": [],
   "source": [
    "testPred = np.reshape(testPred,(3,3))"
   ]
  },
  {
   "cell_type": "code",
   "execution_count": 21,
   "metadata": {},
   "outputs": [
    {
     "data": {
      "text/plain": [
       "{'boxes': tensor([[775.1910, 552.0970, 785.3232, 560.4473],\n",
       "         [787.7794, 552.0059, 796.8090, 561.7679],\n",
       "         [765.2172, 543.5808, 776.0449, 549.4780],\n",
       "         [773.5134, 549.6494, 787.4072, 562.0412],\n",
       "         [764.9692, 541.1521, 776.9842, 547.7147],\n",
       "         [776.1341, 537.3970, 786.8801, 543.2408],\n",
       "         [763.5697, 544.5361, 773.8850, 551.0873],\n",
       "         [776.1281, 535.1804, 788.0169, 541.0664],\n",
       "         [768.3798, 539.0614, 781.4567, 545.3739],\n",
       "         [768.9927, 536.9083, 781.9061, 543.0823]], device='cuda:0',\n",
       "        grad_fn=<StackBackward0>),\n",
       " 'labels': tensor([1, 1, 1, 1, 1, 1, 1, 1, 1, 1], device='cuda:0'),\n",
       " 'scores': tensor([0.9957, 0.8348, 0.5494, 0.5066, 0.3686, 0.2138, 0.2028, 0.1295, 0.0903,\n",
       "         0.0832], device='cuda:0', grad_fn=<IndexBackward0>)}"
      ]
     },
     "execution_count": 21,
     "metadata": {},
     "output_type": "execute_result"
    }
   ],
   "source": [
    "testPred[0,0]"
   ]
  },
  {
   "cell_type": "code",
   "execution_count": 48,
   "metadata": {},
   "outputs": [
    {
     "name": "stderr",
     "output_type": "stream",
     "text": [
      "/tmp/ipykernel_8814/2327292663.py:34: MatplotlibDeprecationWarning: savefig() got unexpected keyword argument \"quality\" which is no longer supported as of 3.3 and will become an error in 3.6\n",
      "  plt.savefig('my_plot.jpg',quality=100,dpi=500)\n"
     ]
    },
    {
     "data": {
      "image/png": "[encoded data removed]",
      "text/plain": [
       "<Figure size 432x432 with 9 Axes>"
      ]
     },
     "metadata": {},
     "output_type": "display_data"
    }
   ],
   "source": [
    "# Create a 3x3 plot with a shared axis\n",
    "fig, axs = plt.subplots(3, 3, sharex=True, sharey=True, figsize=(6, 6))\n",
    "\n",
    "# Loop over the images and annotations and plot them on the corresponding subplot\n",
    "for i in range(3):\n",
    "    for j in range(3):\n",
    "        # Plot the image\n",
    "        axs[i, j].imshow(testing[i, j], cmap='gray')\n",
    "        \n",
    "        # Remove the axis labels and ticks\n",
    "        axs[i, j].set_xticks([])\n",
    "        axs[i, j].set_yticks([])\n",
    "        axs[i, j].axis('off')\n",
    "        # Loop over the annotations and plot them as bounding boxes\n",
    "        #print(testPred)\n",
    "        curPred = testPred[i, j]\n",
    "        #print(len(curPred[\"scores\"]))\n",
    "        for k in range(len(curPred[\"scores\"])):\n",
    "            #print(curPred[\"scores\"])\n",
    "            if curPred[\"scores\"][k] > 0.5:\n",
    "                annotation = curPred['boxes'][k]\n",
    "                annotation = annotation.cpu().detach().numpy()\n",
    "                left, upper, right, lower = annotation#.detach().numpy()\n",
    "                width, height = right - left, lower - upper\n",
    "                rect = plt.Rectangle((left, upper), width, height, linewidth=1, edgecolor='r', facecolor='none')\n",
    "                axs[i, j].add_patch(rect)\n",
    "\n",
    "# Set the axis labels\n",
    "#fig.text(0.5, 0.04, 'X', ha='center')\n",
    "#fig.text(0.04, 0.5, 'Y', va='center', rotation='vertical')\n",
    "\n",
    "# Remove the space between the images\n",
    "plt.subplots_adjust(wspace=0, hspace=0)\n",
    "plt.savefig('my_plot.jpg',quality=100,dpi=500)\n",
    "# Show the plot\n",
    "plt.show()"
   ]
  },
  {
   "cell_type": "code",
   "execution_count": null,
   "metadata": {},
   "outputs": [],
   "source": []
  },
  {
   "cell_type": "code",
   "execution_count": null,
   "metadata": {},
   "outputs": [],
   "source": []
  },
  {
   "cell_type": "code",
   "execution_count": null,
   "metadata": {},
   "outputs": [],
   "source": []
  }
 ],
 "metadata": {
  "kernelspec": {
   "display_name": "Python 3",
   "language": "python",
   "name": "python3"
  },
  "language_info": {
   "codemirror_mode": {
    "name": "ipython",
    "version": 3
   },
   "file_extension": ".py",
   "mimetype": "text/x-python",
   "name": "python",
   "nbconvert_exporter": "python",
   "pygments_lexer": "ipython3",
   "version": "3.8.10"
  },
  "orig_nbformat": 4,
  "vscode": {
   "interpreter": {
    "hash": "916dbcbb3f70747c44a77c7bcd40155683ae19c65e1c03b4aa3499c5328201f1"
   }
  }
 },
 "nbformat": 4,
 "nbformat_minor": 2
}
