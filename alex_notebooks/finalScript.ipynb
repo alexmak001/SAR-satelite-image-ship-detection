{
 "cells": [
  {
   "cell_type": "code",
   "execution_count": 1,
   "metadata": {},
   "outputs": [],
   "source": [
    "import os\n",
    "import glob\n",
    "from bs4 import BeautifulSoup\n",
    "import sys \n",
    "from PIL import Image\n",
    "import cv2\n",
    "import numpy as np\n",
    "import time\n",
    "import torch\n",
    "import torchvision\n",
    "from torch.utils.data import Dataset\n",
    "from torchvision import transforms\n",
    "import os\n",
    "import random\n",
    "import utils\n",
    "import wandb\n",
    "import joblib\n",
    "import pandas as pd\n",
    "import matplotlib.pyplot as plt"
   ]
  },
  {
   "attachments": {},
   "cell_type": "markdown",
   "metadata": {},
   "source": [
    "### Load Classifer"
   ]
  },
  {
   "cell_type": "code",
   "execution_count": null,
   "metadata": {},
   "outputs": [],
   "source": [
    "classifier = joblib.load(\"inshore_offshore_clf_model.pkl\")"
   ]
  },
  {
   "cell_type": "code",
   "execution_count": null,
   "metadata": {},
   "outputs": [],
   "source": [
    "def predict_in_off(classifier, target):\n",
    "    # targets == filepath to the downloaded images\n",
    "\n",
    "\n",
    "    fp = target\n",
    "\n",
    "    # read in images\n",
    "    fnames = os.listdir(fp)\n",
    "    train = []\n",
    "    for file in fnames:\n",
    "        train.append(plt.imread(fp + '/{}'.format(file)))\n",
    "    \n",
    "    # need to optimize inputs, creating a dataframe has a lot of overhead\n",
    "    img_df = pd.DataFrame(columns = ['50th', '80th', '90th', '30th'])\n",
    "    \n",
    "    for img in train:\n",
    "        img_vals = np.copy(img)\n",
    "        img_50 = np.percentile(img_vals,50)\n",
    "        img_80 = np.percentile(img_vals,80)\n",
    "        img_90 = np.percentile(img_vals,90)\n",
    "        img_30 = np.percentile(img_vals,30)\n",
    "\n",
    "        img_df.append({'50th': img_50, '80th': img_80, '90th': img_90, '30th': img_30}, ignore_index=True)\n",
    "\n",
    "    return classifier.predict(img_df)"
   ]
  },
  {
   "cell_type": "code",
   "execution_count": null,
   "metadata": {},
   "outputs": [],
   "source": []
  },
  {
   "cell_type": "code",
   "execution_count": null,
   "metadata": {},
   "outputs": [],
   "source": []
  },
  {
   "attachments": {},
   "cell_type": "markdown",
   "metadata": {},
   "source": [
    "### Load RetinaNet"
   ]
  },
  {
   "cell_type": "code",
   "execution_count": null,
   "metadata": {},
   "outputs": [],
   "source": [
    "retina = torchvision.models.detection.retinanet_resnet50_fpn(num_classes=2)\n",
    "retina.load_state_dict(torch.load(\"models/retTest3.pt\"))\n",
    "retina.eval()\n",
    "#model.to(device)"
   ]
  },
  {
   "attachments": {},
   "cell_type": "markdown",
   "metadata": {},
   "source": [
    "### Load Faster R-CNN"
   ]
  },
  {
   "cell_type": "code",
   "execution_count": null,
   "metadata": {},
   "outputs": [],
   "source": [
    "faster = torchvision.models.detection.fasterrcnn_resnet50_fpn()\n",
    "num_classes = 2  # 1 class (ship) + background\n",
    "# get number of input features for the classifier\n",
    "in_features = faster.roi_heads.box_predictor.cls_score.in_features\n",
    "# replace the pre-trained head with a new one\n",
    "faster.roi_heads.box_predictor = torchvision.models.detection.faster_rcnn.FastRCNNPredictor(in_features, num_classes)\n",
    "faster.load_state_dict(torch.load(\"models/faster300ep.pt\"))\n",
    "faster.eval()\n",
    "#model.to(device)"
   ]
  },
  {
   "cell_type": "code",
   "execution_count": null,
   "metadata": {},
   "outputs": [],
   "source": [
    "def num_ship_in_image(type,image):\n",
    "    # use"
   ]
  }
 ],
 "metadata": {
  "kernelspec": {
   "display_name": "Python 3",
   "language": "python",
   "name": "python3"
  },
  "language_info": {
   "codemirror_mode": {
    "name": "ipython",
    "version": 3
   },
   "file_extension": ".py",
   "mimetype": "text/x-python",
   "name": "python",
   "nbconvert_exporter": "python",
   "pygments_lexer": "ipython3",
   "version": "3.8.10"
  },
  "orig_nbformat": 4,
  "vscode": {
   "interpreter": {
    "hash": "916dbcbb3f70747c44a77c7bcd40155683ae19c65e1c03b4aa3499c5328201f1"
   }
  }
 },
 "nbformat": 4,
 "nbformat_minor": 2
}
