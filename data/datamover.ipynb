{
 "cells": [
  {
   "cell_type": "code",
   "execution_count": 9,
   "metadata": {},
   "outputs": [],
   "source": [
    "import os\n",
    "import shutil"
   ]
  },
  {
   "cell_type": "markdown",
   "metadata": {},
   "source": [
    "#### Move Data into Seperate folders: train, test_inshore, and test_offshore"
   ]
  },
  {
   "cell_type": "code",
   "execution_count": 8,
   "metadata": {},
   "outputs": [],
   "source": [
    "os.mkdir(\"images_sub_train\")"
   ]
  },
  {
   "cell_type": "code",
   "execution_count": 14,
   "metadata": {},
   "outputs": [
    {
     "name": "stdout",
     "output_type": "stream",
     "text": [
      "01_10_1.jpg NOT FOUND\n",
      ".jpg NOT FOUND\n"
     ]
    }
   ],
   "source": [
    "# move all training sub images and annotations to one folder\n",
    "\n",
    "with open(\"ImageSets/Main/train.txt\") as f:\n",
    "    while True:\n",
    "        line =  f.readline()\n",
    "        line = line.replace(\"\\n\",\"\")\n",
    "        filename = line + \".jpg\"\n",
    "\n",
    "        original = \"JPEGImages_sub/\" + filename\n",
    "        \n",
    "        target = \"images_sub_train/\" + filename\n",
    "\n",
    "        try:\n",
    "            shutil.move(original, target)\n",
    "        except:\n",
    "            print(filename + \" NOT FOUND\")\n",
    "\n",
    "        if not line:\n",
    "            break\n",
    "        \n"
   ]
  },
  {
   "cell_type": "code",
   "execution_count": 19,
   "metadata": {},
   "outputs": [],
   "source": [
    "#### ANNOTATIONS TRAIN\n",
    "os.mkdir(\"annotations_sub_train\")"
   ]
  },
  {
   "cell_type": "code",
   "execution_count": 21,
   "metadata": {},
   "outputs": [
    {
     "name": "stdout",
     "output_type": "stream",
     "text": [
      ".xml NOT FOUND\n"
     ]
    }
   ],
   "source": [
    "# move all training sub annotations and annotations to one folder\n",
    "\n",
    "with open(\"ImageSets/Main/train.txt\") as f:\n",
    "    while True:\n",
    "        line =  f.readline()\n",
    "        line = line.replace(\"\\n\",\"\")\n",
    "        filename = line + \".xml\"\n",
    "\n",
    "        original = \"Annotations_sub/\" + filename\n",
    "        \n",
    "        target = \"annotations_sub_train/\" + filename\n",
    "\n",
    "        #print(original, target)\n",
    "        #break\n",
    "        try:\n",
    "            shutil.move(original, target)\n",
    "        except:\n",
    "            print(filename + \" NOT FOUND\")\n",
    "\n",
    "        if not line:\n",
    "            break\n",
    "        \n"
   ]
  },
  {
   "cell_type": "code",
   "execution_count": null,
   "metadata": {},
   "outputs": [],
   "source": []
  },
  {
   "cell_type": "code",
   "execution_count": 15,
   "metadata": {},
   "outputs": [],
   "source": [
    "## for test inshore now\n",
    "os.mkdir(\"images_sub_test_inshore\")"
   ]
  },
  {
   "cell_type": "code",
   "execution_count": 16,
   "metadata": {},
   "outputs": [
    {
     "name": "stdout",
     "output_type": "stream",
     "text": [
      ".jpg NOT FOUND\n"
     ]
    }
   ],
   "source": [
    "# move all training sub images and annotations to one folder\n",
    "\n",
    "with open(\"ImageSets/Main/test_inshore.txt\") as f:\n",
    "    while True:\n",
    "        line =  f.readline()\n",
    "        line = line.replace(\"\\n\",\"\")\n",
    "        filename = line + \".jpg\"\n",
    "\n",
    "        original = \"JPEGImages_sub/\" + filename\n",
    "        \n",
    "        target = \"images_sub_test_inshore/\" + filename\n",
    "\n",
    "        try:\n",
    "            shutil.move(original, target)\n",
    "        except:\n",
    "            print(filename + \" NOT FOUND\")\n",
    "\n",
    "        if not line:\n",
    "            break\n",
    "        \n"
   ]
  },
  {
   "cell_type": "code",
   "execution_count": 22,
   "metadata": {},
   "outputs": [],
   "source": [
    "#### ANNOTATIONS TEST INSHORE\n",
    "os.mkdir(\"annotations_sub_test_inshore\")"
   ]
  },
  {
   "cell_type": "code",
   "execution_count": 23,
   "metadata": {},
   "outputs": [
    {
     "name": "stdout",
     "output_type": "stream",
     "text": [
      ".xml NOT FOUND\n"
     ]
    }
   ],
   "source": [
    "# move all test inshore sub annotations and annotations to one folder\n",
    "\n",
    "with open(\"ImageSets/Main/test_inshore.txt\") as f:\n",
    "    while True:\n",
    "        line =  f.readline()\n",
    "        line = line.replace(\"\\n\",\"\")\n",
    "        filename = line + \".xml\"\n",
    "\n",
    "        original = \"Annotations_sub/\" + filename\n",
    "        \n",
    "        target = \"annotations_sub_test_inshore/\" + filename\n",
    "\n",
    "        #print(original, target)\n",
    "        #break\n",
    "        try:\n",
    "            shutil.move(original, target)\n",
    "        except:\n",
    "            print(filename + \" NOT FOUND\")\n",
    "\n",
    "        if not line:\n",
    "            break\n",
    "        \n"
   ]
  },
  {
   "cell_type": "code",
   "execution_count": null,
   "metadata": {},
   "outputs": [],
   "source": []
  },
  {
   "cell_type": "code",
   "execution_count": 17,
   "metadata": {},
   "outputs": [],
   "source": [
    "#### for test offshore\n",
    "os.mkdir(\"images_sub_test_offshore\")"
   ]
  },
  {
   "cell_type": "code",
   "execution_count": 18,
   "metadata": {},
   "outputs": [
    {
     "name": "stdout",
     "output_type": "stream",
     "text": [
      ".jpg NOT FOUND\n"
     ]
    }
   ],
   "source": [
    "# move all training sub images and annotations to one folder\n",
    "\n",
    "with open(\"ImageSets/Main/test_offshore.txt\") as f:\n",
    "    while True:\n",
    "        line =  f.readline()\n",
    "        line = line.replace(\"\\n\",\"\")\n",
    "        filename = line + \".jpg\"\n",
    "\n",
    "        original = \"JPEGImages_sub/\" + filename\n",
    "        \n",
    "        target = \"images_sub_test_offshore/\" + filename\n",
    "\n",
    "        try:\n",
    "            shutil.move(original, target)\n",
    "        except:\n",
    "            print(filename + \" NOT FOUND\")\n",
    "\n",
    "        if not line:\n",
    "            break\n",
    "        \n"
   ]
  },
  {
   "cell_type": "code",
   "execution_count": 24,
   "metadata": {},
   "outputs": [],
   "source": [
    "#### ANNOTATIONS TEST INSHORE\n",
    "os.mkdir(\"annotations_sub_test_offshore\")"
   ]
  },
  {
   "cell_type": "code",
   "execution_count": 25,
   "metadata": {},
   "outputs": [
    {
     "name": "stdout",
     "output_type": "stream",
     "text": [
      ".xml NOT FOUND\n"
     ]
    }
   ],
   "source": [
    "# move all test offshore sub annotations and annotations to one folder\n",
    "\n",
    "with open(\"ImageSets/Main/test_offshore.txt\") as f:\n",
    "    while True:\n",
    "        line =  f.readline()\n",
    "        line = line.replace(\"\\n\",\"\")\n",
    "        filename = line + \".xml\"\n",
    "\n",
    "        original = \"Annotations_sub/\" + filename\n",
    "        \n",
    "        target = \"annotations_sub_test_offshore/\" + filename\n",
    "\n",
    "        #print(original, target)\n",
    "        #break\n",
    "        try:\n",
    "            shutil.move(original, target)\n",
    "        except:\n",
    "            print(filename + \" NOT FOUND\")\n",
    "\n",
    "        if not line:\n",
    "            break\n",
    "        \n"
   ]
  },
  {
   "cell_type": "code",
   "execution_count": null,
   "metadata": {},
   "outputs": [],
   "source": []
  }
 ],
 "metadata": {
  "kernelspec": {
   "display_name": "Python 3.8.10 64-bit",
   "language": "python",
   "name": "python3"
  },
  "language_info": {
   "codemirror_mode": {
    "name": "ipython",
    "version": 3
   },
   "file_extension": ".py",
   "mimetype": "text/x-python",
   "name": "python",
   "nbconvert_exporter": "python",
   "pygments_lexer": "ipython3",
   "version": "3.8.10"
  },
  "orig_nbformat": 4,
  "vscode": {
   "interpreter": {
    "hash": "916dbcbb3f70747c44a77c7bcd40155683ae19c65e1c03b4aa3499c5328201f1"
   }
  }
 },
 "nbformat": 4,
 "nbformat_minor": 2
}
