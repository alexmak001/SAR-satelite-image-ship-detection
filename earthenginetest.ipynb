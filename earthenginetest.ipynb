{
 "cells": [
  {
   "cell_type": "code",
   "execution_count": 1,
   "metadata": {},
   "outputs": [
    {
     "data": {
      "text/html": [
       "<p>To authorize access needed by Earth Engine, open the following\n",
       "        URL in a web browser and follow the instructions:</p>\n",
       "        <p><a href=https://code.earthengine.google.com/client-auth?scopes=https%3A//www.googleapis.com/auth/earthengine%20https%3A//www.googleapis.com/auth/devstorage.full_control&request_id=IyuHKkeVjj_FP-NyICLJY8fcZg6IPQyFRY7FkCqebOc&tc=cAOYJWs0mDIw5cLczS4kSdH9lCdcWdSNlRSmE-Ako-E&cc=18ZamOItbSiUUFgU39m2IAgdq26HNDz_-rrnKyLFLv4>https://code.earthengine.google.com/client-auth?scopes=https%3A//www.googleapis.com/auth/earthengine%20https%3A//www.googleapis.com/auth/devstorage.full_control&request_id=IyuHKkeVjj_FP-NyICLJY8fcZg6IPQyFRY7FkCqebOc&tc=cAOYJWs0mDIw5cLczS4kSdH9lCdcWdSNlRSmE-Ako-E&cc=18ZamOItbSiUUFgU39m2IAgdq26HNDz_-rrnKyLFLv4</a></p>\n",
       "        <p>The authorization workflow will generate a code, which you should paste in the box below.</p>\n",
       "        "
      ],
      "text/plain": [
       "<IPython.core.display.HTML object>"
      ]
     },
     "metadata": {},
     "output_type": "display_data"
    },
    {
     "name": "stdout",
     "output_type": "stream",
     "text": [
      "\n",
      "Successfully saved authorization token.\n",
      "NASADEM: NASA NASADEM Digital Elevation 30m\n"
     ]
    }
   ],
   "source": [
    "import ee\n",
    "ee.Authenticate()\n",
    "ee.Initialize()\n",
    "#print(ee.Image(\"NASA/NASADEM_HGT/001\").get(\"title\").getInfo())"
   ]
  },
  {
   "cell_type": "code",
   "execution_count": 2,
   "metadata": {},
   "outputs": [],
   "source": [
    "# Import the MODIS land cover collection.\n",
    "lc = ee.ImageCollection('MODIS/006/MCD12Q1')\n",
    "\n",
    "# Import the MODIS land surface temperature collection.\n",
    "lst = ee.ImageCollection('MODIS/006/MOD11A1')\n",
    "\n",
    "# Import the USGS ground elevation image.\n",
    "elv = ee.Image('USGS/SRTMGL1_003')"
   ]
  },
  {
   "cell_type": "code",
   "execution_count": 3,
   "metadata": {},
   "outputs": [],
   "source": [
    "# Initial date of interest (inclusive).\n",
    "i_date = '2017-01-01'\n",
    "\n",
    "# Final date of interest (exclusive).\n",
    "f_date = '2020-01-01'\n",
    "\n",
    "# Selection of appropriate bands and dates for LST.\n",
    "lst = lst.select('LST_Day_1km', 'QC_Day').filterDate(i_date, f_date)\n"
   ]
  },
  {
   "cell_type": "code",
   "execution_count": 4,
   "metadata": {},
   "outputs": [],
   "source": [
    "# Define the urban location of interest as a point near Lyon, France.\n",
    "u_lon = 4.8148\n",
    "u_lat = 45.7758\n",
    "u_poi = ee.Geometry.Point(u_lon, u_lat)\n",
    "\n",
    "# Define the rural location of interest as a point away from the city.\n",
    "r_lon = 5.175964\n",
    "r_lat = 45.574064\n",
    "r_poi = ee.Geometry.Point(r_lon, r_lat)"
   ]
  },
  {
   "cell_type": "code",
   "execution_count": 5,
   "metadata": {},
   "outputs": [
    {
     "name": "stdout",
     "output_type": "stream",
     "text": [
      "Ground elevation at urban point: 196 m\n",
      "Average daytime LST at urban point: 23.12 °C\n",
      "Land cover value at urban point is: 13\n"
     ]
    }
   ],
   "source": [
    "scale = 1000  # scale in meters\n",
    "\n",
    "# Print the elevation near Lyon, France.\n",
    "elv_urban_point = elv.sample(u_poi, scale).first().get('elevation').getInfo()\n",
    "print('Ground elevation at urban point:', elv_urban_point, 'm')\n",
    "\n",
    "# Calculate and print the mean value of the LST collection at the point.\n",
    "lst_urban_point = lst.mean().sample(u_poi, scale).first().get('LST_Day_1km').getInfo()\n",
    "print('Average daytime LST at urban point:', round(lst_urban_point*0.02 -273.15, 2), '°C')\n",
    "\n",
    "# Print the land cover type at the point.\n",
    "lc_urban_point = lc.first().sample(u_poi, scale).first().get('LC_Type1').getInfo()\n",
    "print('Land cover value at urban point is:', lc_urban_point)"
   ]
  },
  {
   "cell_type": "markdown",
   "metadata": {},
   "source": [
    "#### Get a time series"
   ]
  },
  {
   "cell_type": "code",
   "execution_count": 6,
   "metadata": {},
   "outputs": [
    {
     "data": {
      "text/plain": [
       "[['id', 'longitude', 'latitude', 'time', 'LST_Day_1km', 'QC_Day'],\n",
       " ['2017_01_01', 4.810478346460038, 45.77365530231022, 1483228800000, None, 2],\n",
       " ['2017_01_02', 4.810478346460038, 45.77365530231022, 1483315200000, None, 2],\n",
       " ['2017_01_03', 4.810478346460038, 45.77365530231022, 1483401600000, None, 2],\n",
       " ['2017_01_04',\n",
       "  4.810478346460038,\n",
       "  45.77365530231022,\n",
       "  1483488000000,\n",
       "  13808,\n",
       "  17]]"
      ]
     },
     "execution_count": 6,
     "metadata": {},
     "output_type": "execute_result"
    }
   ],
   "source": [
    "# Get the data for the pixel intersecting the point in urban area.\n",
    "lst_u_poi = lst.getRegion(u_poi, scale).getInfo()\n",
    "\n",
    "# Get the data for the pixel intersecting the point in rural area.\n",
    "lst_r_poi = lst.getRegion(r_poi, scale).getInfo()\n",
    "\n",
    "# Preview the result.\n",
    "lst_u_poi[:5] "
   ]
  },
  {
   "cell_type": "code",
   "execution_count": 7,
   "metadata": {},
   "outputs": [],
   "source": [
    "import pandas as pd\n",
    "\n",
    "def ee_array_to_df(arr, list_of_bands):\n",
    "    \"\"\"Transforms client-side ee.Image.getRegion array to pandas.DataFrame.\"\"\"\n",
    "    df = pd.DataFrame(arr)\n",
    "\n",
    "    # Rearrange the header.\n",
    "    headers = df.iloc[0]\n",
    "    df = pd.DataFrame(df.values[1:], columns=headers)\n",
    "\n",
    "    # Remove rows without data inside.\n",
    "    df = df[['longitude', 'latitude', 'time', *list_of_bands]].dropna()\n",
    "\n",
    "    # Convert the data to numeric values.\n",
    "    for band in list_of_bands:\n",
    "        df[band] = pd.to_numeric(df[band], errors='coerce')\n",
    "\n",
    "    # Convert the time field into a datetime.\n",
    "    df['datetime'] = pd.to_datetime(df['time'], unit='ms')\n",
    "\n",
    "    # Keep the columns of interest.\n",
    "    df = df[['time','datetime',  *list_of_bands]]\n",
    "\n",
    "    return df"
   ]
  },
  {
   "cell_type": "code",
   "execution_count": 8,
   "metadata": {},
   "outputs": [
    {
     "data": {
      "text/html": [
       "<div>\n",
       "<style scoped>\n",
       "    .dataframe tbody tr th:only-of-type {\n",
       "        vertical-align: middle;\n",
       "    }\n",
       "\n",
       "    .dataframe tbody tr th {\n",
       "        vertical-align: top;\n",
       "    }\n",
       "\n",
       "    .dataframe thead th {\n",
       "        text-align: right;\n",
       "    }\n",
       "</style>\n",
       "<table border=\"1\" class=\"dataframe\">\n",
       "  <thead>\n",
       "    <tr style=\"text-align: right;\">\n",
       "      <th></th>\n",
       "      <th>time</th>\n",
       "      <th>datetime</th>\n",
       "      <th>LST_Day_1km</th>\n",
       "    </tr>\n",
       "  </thead>\n",
       "  <tbody>\n",
       "    <tr>\n",
       "      <th>3</th>\n",
       "      <td>1483488000000</td>\n",
       "      <td>2017-01-04</td>\n",
       "      <td>3.01</td>\n",
       "    </tr>\n",
       "    <tr>\n",
       "      <th>4</th>\n",
       "      <td>1483574400000</td>\n",
       "      <td>2017-01-05</td>\n",
       "      <td>2.39</td>\n",
       "    </tr>\n",
       "    <tr>\n",
       "      <th>5</th>\n",
       "      <td>1483660800000</td>\n",
       "      <td>2017-01-06</td>\n",
       "      <td>0.89</td>\n",
       "    </tr>\n",
       "    <tr>\n",
       "      <th>6</th>\n",
       "      <td>1483747200000</td>\n",
       "      <td>2017-01-07</td>\n",
       "      <td>-0.11</td>\n",
       "    </tr>\n",
       "    <tr>\n",
       "      <th>15</th>\n",
       "      <td>1484524800000</td>\n",
       "      <td>2017-01-16</td>\n",
       "      <td>2.33</td>\n",
       "    </tr>\n",
       "  </tbody>\n",
       "</table>\n",
       "</div>"
      ],
      "text/plain": [
       "0            time   datetime  LST_Day_1km\n",
       "3   1483488000000 2017-01-04         3.01\n",
       "4   1483574400000 2017-01-05         2.39\n",
       "5   1483660800000 2017-01-06         0.89\n",
       "6   1483747200000 2017-01-07        -0.11\n",
       "15  1484524800000 2017-01-16         2.33"
      ]
     },
     "execution_count": 8,
     "metadata": {},
     "output_type": "execute_result"
    }
   ],
   "source": [
    "lst_df_urban = ee_array_to_df(lst_u_poi,['LST_Day_1km'])\n",
    "\n",
    "def t_modis_to_celsius(t_modis):\n",
    "    \"\"\"Converts MODIS LST units to degrees Celsius.\"\"\"\n",
    "    t_celsius =  0.02*t_modis - 273.15\n",
    "    return t_celsius\n",
    "\n",
    "# Apply the function to get temperature in celsius.\n",
    "lst_df_urban['LST_Day_1km'] = lst_df_urban['LST_Day_1km'].apply(t_modis_to_celsius)\n",
    "\n",
    "# Do the same for the rural point.\n",
    "lst_df_rural = ee_array_to_df(lst_r_poi,['LST_Day_1km'])\n",
    "lst_df_rural['LST_Day_1km'] = lst_df_rural['LST_Day_1km'].apply(t_modis_to_celsius)\n",
    "\n",
    "lst_df_urban.head()"
   ]
  },
  {
   "cell_type": "code",
   "execution_count": null,
   "metadata": {},
   "outputs": [],
   "source": []
  }
 ],
 "metadata": {
  "kernelspec": {
   "display_name": "Python 3.8.10 64-bit",
   "language": "python",
   "name": "python3"
  },
  "language_info": {
   "codemirror_mode": {
    "name": "ipython",
    "version": 3
   },
   "file_extension": ".py",
   "mimetype": "text/x-python",
   "name": "python",
   "nbconvert_exporter": "python",
   "pygments_lexer": "ipython3",
   "version": "3.8.10"
  },
  "orig_nbformat": 4,
  "vscode": {
   "interpreter": {
    "hash": "916dbcbb3f70747c44a77c7bcd40155683ae19c65e1c03b4aa3499c5328201f1"
   }
  }
 },
 "nbformat": 4,
 "nbformat_minor": 2
}
