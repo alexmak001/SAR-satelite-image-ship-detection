{
 "cells": [
  {
   "cell_type": "code",
   "execution_count": 72,
   "metadata": {},
   "outputs": [],
   "source": [
    "import ee\n",
    "#ee.Authenticate()\n",
    "ee.Initialize()\n",
    "#print(ee.Image(\"NASA/NASADEM_HGT/001\").get(\"title\").getInfo())\n",
    "import geemap\n",
    "import folium\n",
    "import geetools"
   ]
  },
  {
   "cell_type": "code",
   "execution_count": 18,
   "metadata": {},
   "outputs": [],
   "source": [
    "# Import the MODIS land cover collection.\n",
    "lc = ee.ImageCollection('MODIS/006/MCD12Q1')\n",
    "\n",
    "# Import the MODIS land surface temperature collection.\n",
    "lst = ee.ImageCollection('MODIS/006/MOD11A1')\n",
    "\n",
    "# Import the USGS ground elevation image.\n",
    "elv = ee.Image('USGS/SRTMGL1_003')"
   ]
  },
  {
   "cell_type": "code",
   "execution_count": 19,
   "metadata": {},
   "outputs": [],
   "source": [
    "# Initial date of interest (inclusive).\n",
    "i_date = '2017-01-01'\n",
    "\n",
    "# Final date of interest (exclusive).\n",
    "f_date = '2020-01-01'\n",
    "\n",
    "# Selection of appropriate bands and dates for LST.\n",
    "lst = lst.select('LST_Day_1km', 'QC_Day').filterDate(i_date, f_date)\n"
   ]
  },
  {
   "cell_type": "code",
   "execution_count": 20,
   "metadata": {},
   "outputs": [],
   "source": [
    "# Define the urban location of interest as a point near Lyon, France.\n",
    "u_lon = 4.8148\n",
    "u_lat = 45.7758\n",
    "u_poi = ee.Geometry.Point(u_lon, u_lat)\n",
    "\n",
    "# Define the rural location of interest as a point away from the city.\n",
    "r_lon = 5.175964\n",
    "r_lat = 45.574064\n",
    "r_poi = ee.Geometry.Point(r_lon, r_lat)"
   ]
  },
  {
   "cell_type": "code",
   "execution_count": 21,
   "metadata": {},
   "outputs": [
    {
     "name": "stdout",
     "output_type": "stream",
     "text": [
      "Ground elevation at urban point: 196 m\n",
      "Average daytime LST at urban point: 23.12 °C\n",
      "Land cover value at urban point is: 13\n"
     ]
    }
   ],
   "source": [
    "scale = 1000  # scale in meters\n",
    "\n",
    "# Print the elevation near Lyon, France.\n",
    "elv_urban_point = elv.sample(u_poi, scale).first().get('elevation').getInfo()\n",
    "print('Ground elevation at urban point:', elv_urban_point, 'm')\n",
    "\n",
    "# Calculate and print the mean value of the LST collection at the point.\n",
    "lst_urban_point = lst.mean().sample(u_poi, scale).first().get('LST_Day_1km').getInfo()\n",
    "print('Average daytime LST at urban point:', round(lst_urban_point*0.02 -273.15, 2), '°C')\n",
    "\n",
    "# Print the land cover type at the point.\n",
    "lc_urban_point = lc.first().sample(u_poi, scale).first().get('LC_Type1').getInfo()\n",
    "print('Land cover value at urban point is:', lc_urban_point)"
   ]
  },
  {
   "cell_type": "markdown",
   "metadata": {},
   "source": [
    "#### Get a time series"
   ]
  },
  {
   "cell_type": "code",
   "execution_count": 22,
   "metadata": {},
   "outputs": [
    {
     "data": {
      "text/plain": [
       "[['id', 'longitude', 'latitude', 'time', 'LST_Day_1km', 'QC_Day'],\n",
       " ['2017_01_01', 4.810478346460038, 45.77365530231022, 1483228800000, None, 2],\n",
       " ['2017_01_02', 4.810478346460038, 45.77365530231022, 1483315200000, None, 2],\n",
       " ['2017_01_03', 4.810478346460038, 45.77365530231022, 1483401600000, None, 2],\n",
       " ['2017_01_04',\n",
       "  4.810478346460038,\n",
       "  45.77365530231022,\n",
       "  1483488000000,\n",
       "  13808,\n",
       "  17]]"
      ]
     },
     "execution_count": 22,
     "metadata": {},
     "output_type": "execute_result"
    }
   ],
   "source": [
    "# Get the data for the pixel intersecting the point in urban area.\n",
    "lst_u_poi = lst.getRegion(u_poi, scale).getInfo()\n",
    "\n",
    "# Get the data for the pixel intersecting the point in rural area.\n",
    "lst_r_poi = lst.getRegion(r_poi, scale).getInfo()\n",
    "\n",
    "# Preview the result.\n",
    "lst_u_poi[:5] "
   ]
  },
  {
   "cell_type": "code",
   "execution_count": 23,
   "metadata": {},
   "outputs": [],
   "source": [
    "import pandas as pd\n",
    "\n",
    "def ee_array_to_df(arr, list_of_bands):\n",
    "    \"\"\"Transforms client-side ee.Image.getRegion array to pandas.DataFrame.\"\"\"\n",
    "    df = pd.DataFrame(arr)\n",
    "\n",
    "    # Rearrange the header.\n",
    "    headers = df.iloc[0]\n",
    "    df = pd.DataFrame(df.values[1:], columns=headers)\n",
    "\n",
    "    # Remove rows without data inside.\n",
    "    df = df[['longitude', 'latitude', 'time', *list_of_bands]].dropna()\n",
    "\n",
    "    # Convert the data to numeric values.\n",
    "    for band in list_of_bands:\n",
    "        df[band] = pd.to_numeric(df[band], errors='coerce')\n",
    "\n",
    "    # Convert the time field into a datetime.\n",
    "    df['datetime'] = pd.to_datetime(df['time'], unit='ms')\n",
    "\n",
    "    # Keep the columns of interest.\n",
    "    df = df[['time','datetime',  *list_of_bands]]\n",
    "\n",
    "    return df"
   ]
  },
  {
   "cell_type": "code",
   "execution_count": 24,
   "metadata": {},
   "outputs": [
    {
     "data": {
      "text/html": [
       "<div>\n",
       "<style scoped>\n",
       "    .dataframe tbody tr th:only-of-type {\n",
       "        vertical-align: middle;\n",
       "    }\n",
       "\n",
       "    .dataframe tbody tr th {\n",
       "        vertical-align: top;\n",
       "    }\n",
       "\n",
       "    .dataframe thead th {\n",
       "        text-align: right;\n",
       "    }\n",
       "</style>\n",
       "<table border=\"1\" class=\"dataframe\">\n",
       "  <thead>\n",
       "    <tr style=\"text-align: right;\">\n",
       "      <th></th>\n",
       "      <th>time</th>\n",
       "      <th>datetime</th>\n",
       "      <th>LST_Day_1km</th>\n",
       "    </tr>\n",
       "  </thead>\n",
       "  <tbody>\n",
       "    <tr>\n",
       "      <th>3</th>\n",
       "      <td>1483488000000</td>\n",
       "      <td>2017-01-04</td>\n",
       "      <td>3.01</td>\n",
       "    </tr>\n",
       "    <tr>\n",
       "      <th>4</th>\n",
       "      <td>1483574400000</td>\n",
       "      <td>2017-01-05</td>\n",
       "      <td>2.39</td>\n",
       "    </tr>\n",
       "    <tr>\n",
       "      <th>5</th>\n",
       "      <td>1483660800000</td>\n",
       "      <td>2017-01-06</td>\n",
       "      <td>0.89</td>\n",
       "    </tr>\n",
       "    <tr>\n",
       "      <th>6</th>\n",
       "      <td>1483747200000</td>\n",
       "      <td>2017-01-07</td>\n",
       "      <td>-0.11</td>\n",
       "    </tr>\n",
       "    <tr>\n",
       "      <th>15</th>\n",
       "      <td>1484524800000</td>\n",
       "      <td>2017-01-16</td>\n",
       "      <td>2.33</td>\n",
       "    </tr>\n",
       "  </tbody>\n",
       "</table>\n",
       "</div>"
      ],
      "text/plain": [
       "0            time   datetime  LST_Day_1km\n",
       "3   1483488000000 2017-01-04         3.01\n",
       "4   1483574400000 2017-01-05         2.39\n",
       "5   1483660800000 2017-01-06         0.89\n",
       "6   1483747200000 2017-01-07        -0.11\n",
       "15  1484524800000 2017-01-16         2.33"
      ]
     },
     "execution_count": 24,
     "metadata": {},
     "output_type": "execute_result"
    }
   ],
   "source": [
    "lst_df_urban = ee_array_to_df(lst_u_poi,['LST_Day_1km'])\n",
    "\n",
    "def t_modis_to_celsius(t_modis):\n",
    "    \"\"\"Converts MODIS LST units to degrees Celsius.\"\"\"\n",
    "    t_celsius =  0.02*t_modis - 273.15\n",
    "    return t_celsius\n",
    "\n",
    "# Apply the function to get temperature in celsius.\n",
    "lst_df_urban['LST_Day_1km'] = lst_df_urban['LST_Day_1km'].apply(t_modis_to_celsius)\n",
    "\n",
    "# Do the same for the rural point.\n",
    "lst_df_rural = ee_array_to_df(lst_r_poi,['LST_Day_1km'])\n",
    "lst_df_rural['LST_Day_1km'] = lst_df_rural['LST_Day_1km'].apply(t_modis_to_celsius)\n",
    "\n",
    "lst_df_urban.head()"
   ]
  },
  {
   "cell_type": "code",
   "execution_count": null,
   "metadata": {},
   "outputs": [],
   "source": []
  },
  {
   "cell_type": "markdown",
   "metadata": {},
   "source": [
    "### Show Map"
   ]
  },
  {
   "cell_type": "code",
   "execution_count": 25,
   "metadata": {},
   "outputs": [],
   "source": [
    "import geemap"
   ]
  },
  {
   "cell_type": "code",
   "execution_count": 26,
   "metadata": {},
   "outputs": [
    {
     "data": {
      "application/vnd.jupyter.widget-view+json": {
       "model_id": "cb3461ca41704ba6a8b620d482fb3c7a",
       "version_major": 2,
       "version_minor": 0
      },
      "text/plain": [
       "Map(center=[40, -100], controls=(WidgetControl(options=['position', 'transparent_bg'], widget=HBox(children=(T…"
      ]
     },
     "metadata": {},
     "output_type": "display_data"
    }
   ],
   "source": [
    "# create map\n",
    "Map = geemap.Map(center=(40, -100), zoom=4)\n",
    "#Map"
   ]
  },
  {
   "cell_type": "code",
   "execution_count": 27,
   "metadata": {},
   "outputs": [
    {
     "name": "stdout",
     "output_type": "stream",
     "text": [
      "Mount Everest elevation (m): 8729\n"
     ]
    }
   ],
   "source": [
    "# Add Earth Engine dataset\n",
    "image = ee.Image('USGS/SRTMGL1_003')\n",
    "\n",
    "# Set visualization parameters.\n",
    "vis_params = {\n",
    "    'min': 0,\n",
    "    'max': 4000,\n",
    "    'palette': ['006633', 'E5FFCC', '662A00', 'D8D8D8', 'F5F5F5'],\n",
    "}\n",
    "\n",
    "# Print the elevation of Mount Everest.\n",
    "xy = ee.Geometry.Point([86.9250, 27.9881])\n",
    "elev = image.sample(xy, 30).first().get('elevation').getInfo()\n",
    "print('Mount Everest elevation (m):', elev)\n",
    "\n",
    "# Add Earth Engine layers to Map\n",
    "Map.addLayer(image, vis_params, 'SRTM DEM', True, 0.5)\n",
    "Map.addLayer(xy, {'color': 'red'}, 'Mount Everest')"
   ]
  },
  {
   "cell_type": "code",
   "execution_count": 28,
   "metadata": {},
   "outputs": [],
   "source": [
    "# change map position\n",
    "Map.centerObject(ee_object=xy, zoom=13)"
   ]
  },
  {
   "cell_type": "code",
   "execution_count": 29,
   "metadata": {},
   "outputs": [],
   "source": [
    "# set map center using long and let\n",
    "Map.setCenter(lon=-100, lat=40, zoom=4)"
   ]
  },
  {
   "cell_type": "code",
   "execution_count": 30,
   "metadata": {},
   "outputs": [
    {
     "data": {
      "application/vnd.jupyter.widget-view+json": {
       "model_id": "811197fc2f3d44938c5a138f36f575ff",
       "version_major": 2,
       "version_minor": 0
      },
      "text/plain": [
       "Map(center=[20, 0], controls=(ZoomControl(options=['position', 'zoom_in_text', 'zoom_in_title', 'zoom_out_text…"
      ]
     },
     "metadata": {},
     "output_type": "display_data"
    }
   ],
   "source": [
    "Map = geemap.Map(height=600)\n",
    "Map.split_map(left_layer='HYBRID', right_layer='TERRAIN')\n",
    "#Map"
   ]
  },
  {
   "cell_type": "code",
   "execution_count": 31,
   "metadata": {},
   "outputs": [
    {
     "data": {
      "application/vnd.jupyter.widget-view+json": {
       "model_id": "4d52efcd029a4f6182e4801c9a787b62",
       "version_major": 2,
       "version_minor": 0
      },
      "text/plain": [
       "Map(center=[40, -100], controls=(ZoomControl(options=['position', 'zoom_in_text', 'zoom_in_title', 'zoom_out_t…"
      ]
     },
     "metadata": {},
     "output_type": "display_data"
    }
   ],
   "source": [
    "Map = geemap.Map(center=(40, -100), zoom=4, height=600)\n",
    "Map.split_map(\n",
    "    left_layer='NLCD 2001 CONUS Land Cover', right_layer='NLCD 2019 CONUS Land Cover'\n",
    ")\n",
    "Map.add_legend(builtin_legend='NLCD')\n",
    "Map"
   ]
  },
  {
   "cell_type": "code",
   "execution_count": 32,
   "metadata": {},
   "outputs": [
    {
     "data": {
      "application/vnd.jupyter.widget-view+json": {
       "model_id": "e923c5a8ed744dc8897e735b4fe71a49",
       "version_major": 2,
       "version_minor": 0
      },
      "text/plain": [
       "Map(center=[40, -100], controls=(ZoomControl(options=['position', 'zoom_in_text', 'zoom_in_title', 'zoom_out_t…"
      ]
     },
     "metadata": {},
     "output_type": "display_data"
    }
   ],
   "source": [
    "# see how cities grow\n",
    "Map = geemap.Map(center=(40, -100), zoom=4, height=600)\n",
    "\n",
    "nlcd_2001 = ee.Image('USGS/NLCD_RELEASES/2019_REL/NLCD/2001').select('landcover')\n",
    "nlcd_2019 = ee.Image('USGS/NLCD_RELEASES/2019_REL/NLCD/2019').select('landcover')\n",
    "\n",
    "left_layer = geemap.ee_tile_layer(nlcd_2001, {}, 'NLCD 2001')\n",
    "right_layer = geemap.ee_tile_layer(nlcd_2019, {}, 'NLCD 2019')\n",
    "\n",
    "Map.split_map(left_layer, right_layer)\n",
    "Map"
   ]
  },
  {
   "cell_type": "markdown",
   "metadata": {},
   "source": [
    "### Sentinel Image"
   ]
  },
  {
   "cell_type": "code",
   "execution_count": 33,
   "metadata": {},
   "outputs": [
    {
     "data": {
      "application/vnd.jupyter.widget-view+json": {
       "model_id": "74aa10b9b0154039b515b14a06fe4f5e",
       "version_major": 2,
       "version_minor": 0
      },
      "text/plain": [
       "Map(center=[28.268224502649357, 83.97637443188768], controls=(WidgetControl(options=['position', 'transparent_…"
      ]
     },
     "metadata": {},
     "output_type": "display_data"
    }
   ],
   "source": [
    "# get our Nepal boundary\n",
    "aoi = ee.FeatureCollection(\"FAO/GAUL/2015/level0\").filter(ee.Filter.eq('ADM0_NAME','Nepal')).geometry()\n",
    "\n",
    "# Sentinel-2 image filtered on 2019 and on Nepal\n",
    "se2 = ee.ImageCollection('COPERNICUS/S2').filterDate(\"2019-01-01\",\"2019-12-31\").filterBounds(aoi).median().divide(10000)\n",
    "\n",
    "rgb = ['B4','B3','B2']\n",
    "\n",
    "# set some thresholds\n",
    "rgbViz = {\"min\":0.0, \"max\":0.3,\"bands\":rgb}\n",
    "\n",
    "\n",
    "# initialize our map\n",
    "map1 = geemap.Map()\n",
    "map1.centerObject(aoi, 7)\n",
    "map1.addLayer(se2.clip(aoi), rgbViz, \"S2\")\n",
    "\n",
    "map1.addLayerControl()\n",
    "map1"
   ]
  },
  {
   "cell_type": "code",
   "execution_count": null,
   "metadata": {},
   "outputs": [],
   "source": []
  },
  {
   "cell_type": "markdown",
   "metadata": {},
   "source": [
    "#### SkySat"
   ]
  },
  {
   "cell_type": "code",
   "execution_count": 34,
   "metadata": {},
   "outputs": [],
   "source": [
    "# skysat = ee.ImageCollection('SKYSAT/GEN-A/PUBLIC/ORTHO/RGB');\n",
    "# rgb = skysat.select(['R', 'G', 'B']);\n",
    "# rgbVis = {\n",
    "#   \"min\": 11.0,\n",
    "#   \"max\": 190.0,\n",
    "#   \"bands\": ['R', 'G', 'B']\n",
    "# }\n",
    "# map2 = geemap.Map()\n",
    "# map2.centerObject(aoi,  7)\n",
    "# map2.addLayer(skysat, rgbVis, 'RGB');\n",
    "# map2"
   ]
  },
  {
   "cell_type": "code",
   "execution_count": null,
   "metadata": {},
   "outputs": [],
   "source": []
  },
  {
   "cell_type": "markdown",
   "metadata": {},
   "source": [
    "#### Landsat"
   ]
  },
  {
   "cell_type": "code",
   "execution_count": null,
   "metadata": {},
   "outputs": [],
   "source": []
  },
  {
   "cell_type": "markdown",
   "metadata": {},
   "source": [
    "### Ships"
   ]
  },
  {
   "cell_type": "code",
   "execution_count": 35,
   "metadata": {},
   "outputs": [],
   "source": [
    "raw = ee.Image(\"LANDSAT/LC08/C01/T1/LC08_044034_20140318\")\n",
    "coord = [33.7542, 118.2165]\n",
    "LB_loc = ee.Geometry.Point(coord)"
   ]
  },
  {
   "cell_type": "code",
   "execution_count": 50,
   "metadata": {},
   "outputs": [
    {
     "data": {
      "application/vnd.jupyter.widget-view+json": {
       "model_id": "383146b535414648b6eab7e7f3d8f900",
       "version_major": 2,
       "version_minor": 0
      },
      "text/plain": [
       "Map(center=[33.7406, -118.2816], controls=(WidgetControl(options=['position', 'transparent_bg'], widget=HBox(c…"
      ]
     },
     "metadata": {},
     "output_type": "display_data"
    }
   ],
   "source": [
    "# Create a default map\n",
    "Map = geemap.Map()\n",
    "\n",
    "# Load an image.\n",
    "image = ee.Image('LANDSAT/LC08/C01/T1_TOA/LC08_044034_20140318')\n",
    "\n",
    "# Define the visualization parameters.\n",
    "vizParams = {'bands': ['B5', 'B4', 'B3'], 'min': 0, 'max': 0.5, 'gamma': [0.95, 1.1, 1]}\n",
    "\n",
    "# Center the map and display the image.\n",
    "Map.setCenter(-118.2816, 33.7406, 8)  # San Francisco Bay\n",
    "Map.addLayer(image, vizParams, 'false color composite')\n",
    "\n",
    "# Display the map\n",
    "Map"
   ]
  },
  {
   "cell_type": "code",
   "execution_count": 59,
   "metadata": {},
   "outputs": [
    {
     "data": {
      "application/vnd.jupyter.widget-view+json": {
       "model_id": "af7e7a915703477a820a6f022dd078d9",
       "version_major": 2,
       "version_minor": 0
      },
      "text/plain": [
       "Map(center=[33.7406, -118.2816], controls=(WidgetControl(options=['position', 'transparent_bg'], widget=HBox(c…"
      ]
     },
     "metadata": {},
     "output_type": "display_data"
    }
   ],
   "source": [
    "Map1 = geemap.Map()\n",
    " \n",
    "bands = ['B1', 'B2', 'B3', 'B4', 'B5', 'B7']\n",
    "image = ee.ImageCollection('LANDSAT/LE07/C02/T1').sort('CLOUD_COVER')\n",
    "\n",
    "#.filterDate('1999-01-01', '2002-12-31');\n",
    "#vis_params = {'min': 20, 'max': 200, 'gamma': 2.0}\n",
    "\n",
    "# Define the visualization parameters.\n",
    "vizParams = {'bands': ['B3', 'B2', 'B1']}\n",
    "\n",
    "# Center the map and display the image.\n",
    "Map1.setCenter(-118.2816, 33.7406, 8)  # San Francisco Bay\n",
    "Map1.addLayer(image, vizParams, 'false color composite')\n",
    "\n",
    "# Display the map\n",
    "#Map1"
   ]
  },
  {
   "cell_type": "code",
   "execution_count": 62,
   "metadata": {},
   "outputs": [],
   "source": [
    "image = ee.ImageCollection('LANDSAT/LE07/C02/T1').sort('CLOUD_COVER').select(['B4', 'B3', 'B2'])\n",
    "geometry = ee.Geometry.Rectangle([116.2621, 39.8412, 116.4849, 40.01236])"
   ]
  },
  {
   "cell_type": "code",
   "execution_count": 63,
   "metadata": {},
   "outputs": [
    {
     "ename": "AttributeError",
     "evalue": "'ImageCollection' object has no attribute 'projection'",
     "output_type": "error",
     "traceback": [
      "\u001b[0;31m---------------------------------------------------------------------------\u001b[0m",
      "\u001b[0;31mAttributeError\u001b[0m                            Traceback (most recent call last)",
      "\u001b[1;32m/home/alex/school/DSC180A/satelite-image/earthenginetest.ipynb Cell 33\u001b[0m in \u001b[0;36m<cell line: 1>\u001b[0;34m()\u001b[0m\n\u001b[0;32m----> <a href='vscode-notebook-cell:/home/alex/school/DSC180A/satelite-image/earthenginetest.ipynb#X51sZmlsZQ%3D%3D?line=0'>1</a>\u001b[0m projection \u001b[39m=\u001b[39m image\u001b[39m.\u001b[39;49mselect(\u001b[39m'\u001b[39;49m\u001b[39mB2\u001b[39;49m\u001b[39m'\u001b[39;49m)\u001b[39m.\u001b[39;49mprojection()\u001b[39m.\u001b[39mgetInfo()\n\u001b[1;32m      <a href='vscode-notebook-cell:/home/alex/school/DSC180A/satelite-image/earthenginetest.ipynb#X51sZmlsZQ%3D%3D?line=1'>2</a>\u001b[0m projection\n",
      "\u001b[0;31mAttributeError\u001b[0m: 'ImageCollection' object has no attribute 'projection'"
     ]
    }
   ],
   "source": [
    "projection = image.select('B2').projection().getInfo()\n",
    "projection"
   ]
  },
  {
   "cell_type": "code",
   "execution_count": null,
   "metadata": {},
   "outputs": [],
   "source": []
  },
  {
   "cell_type": "markdown",
   "metadata": {},
   "source": [
    "### Exporting Images"
   ]
  },
  {
   "cell_type": "code",
   "execution_count": 75,
   "metadata": {},
   "outputs": [
    {
     "ename": "TypeError",
     "evalue": "toDrive() missing 1 required positional argument: 'image'",
     "output_type": "error",
     "traceback": [
      "\u001b[0;31m---------------------------------------------------------------------------\u001b[0m",
      "\u001b[0;31mTypeError\u001b[0m                                 Traceback (most recent call last)",
      "\u001b[1;32m/home/alex/school/DSC180A/satelite-image/earthenginetest.ipynb Cell 36\u001b[0m in \u001b[0;36m<cell line: 23>\u001b[0;34m()\u001b[0m\n\u001b[1;32m     <a href='vscode-notebook-cell:/home/alex/school/DSC180A/satelite-image/earthenginetest.ipynb#X55sZmlsZQ%3D%3D?line=19'>20</a>\u001b[0m region \u001b[39m=\u001b[39m site\n\u001b[1;32m     <a href='vscode-notebook-cell:/home/alex/school/DSC180A/satelite-image/earthenginetest.ipynb#X55sZmlsZQ%3D%3D?line=21'>22</a>\u001b[0m \u001b[39m# ## Export\u001b[39;00m\n\u001b[0;32m---> <a href='vscode-notebook-cell:/home/alex/school/DSC180A/satelite-image/earthenginetest.ipynb#X55sZmlsZQ%3D%3D?line=22'>23</a>\u001b[0m tasks \u001b[39m=\u001b[39m ee\u001b[39m.\u001b[39;49mbatch\u001b[39m.\u001b[39;49mExport\u001b[39m.\u001b[39;49mimage\u001b[39m.\u001b[39;49mtoDrive(\n\u001b[1;32m     <a href='vscode-notebook-cell:/home/alex/school/DSC180A/satelite-image/earthenginetest.ipynb#X55sZmlsZQ%3D%3D?line=23'>24</a>\u001b[0m             collection\u001b[39m=\u001b[39;49mcollection,\n\u001b[1;32m     <a href='vscode-notebook-cell:/home/alex/school/DSC180A/satelite-image/earthenginetest.ipynb#X55sZmlsZQ%3D%3D?line=24'>25</a>\u001b[0m             folder\u001b[39m=\u001b[39;49mfolder,\n\u001b[1;32m     <a href='vscode-notebook-cell:/home/alex/school/DSC180A/satelite-image/earthenginetest.ipynb#X55sZmlsZQ%3D%3D?line=25'>26</a>\u001b[0m             region\u001b[39m=\u001b[39;49msite,\n\u001b[1;32m     <a href='vscode-notebook-cell:/home/alex/school/DSC180A/satelite-image/earthenginetest.ipynb#X55sZmlsZQ%3D%3D?line=26'>27</a>\u001b[0m             namePattern\u001b[39m=\u001b[39;49mname_pattern,\n\u001b[1;32m     <a href='vscode-notebook-cell:/home/alex/school/DSC180A/satelite-image/earthenginetest.ipynb#X55sZmlsZQ%3D%3D?line=27'>28</a>\u001b[0m             scale\u001b[39m=\u001b[39;49mscale,\n\u001b[1;32m     <a href='vscode-notebook-cell:/home/alex/school/DSC180A/satelite-image/earthenginetest.ipynb#X55sZmlsZQ%3D%3D?line=28'>29</a>\u001b[0m             dataType\u001b[39m=\u001b[39;49mdata_type,\n\u001b[1;32m     <a href='vscode-notebook-cell:/home/alex/school/DSC180A/satelite-image/earthenginetest.ipynb#X55sZmlsZQ%3D%3D?line=29'>30</a>\u001b[0m             datePattern\u001b[39m=\u001b[39;49mdate_pattern,\n\u001b[1;32m     <a href='vscode-notebook-cell:/home/alex/school/DSC180A/satelite-image/earthenginetest.ipynb#X55sZmlsZQ%3D%3D?line=30'>31</a>\u001b[0m             extra\u001b[39m=\u001b[39;49mextra,\n\u001b[1;32m     <a href='vscode-notebook-cell:/home/alex/school/DSC180A/satelite-image/earthenginetest.ipynb#X55sZmlsZQ%3D%3D?line=31'>32</a>\u001b[0m             verbose\u001b[39m=\u001b[39;49m\u001b[39mTrue\u001b[39;49;00m,\n\u001b[1;32m     <a href='vscode-notebook-cell:/home/alex/school/DSC180A/satelite-image/earthenginetest.ipynb#X55sZmlsZQ%3D%3D?line=32'>33</a>\u001b[0m             maxPixels\u001b[39m=\u001b[39;49m\u001b[39mint\u001b[39;49m(\u001b[39m1e13\u001b[39;49m)\n\u001b[1;32m     <a href='vscode-notebook-cell:/home/alex/school/DSC180A/satelite-image/earthenginetest.ipynb#X55sZmlsZQ%3D%3D?line=33'>34</a>\u001b[0m         )\n",
      "\u001b[0;31mTypeError\u001b[0m: toDrive() missing 1 required positional argument: 'image'"
     ]
    }
   ],
   "source": [
    "\n",
    "# ## Define an ImageCollection\n",
    "site = ee.Geometry.Point([-72, -42]).buffer(1000)\n",
    "collection = ee.ImageCollection(\"LANDSAT/LC08/C01/T1_SR\").filterBounds(site).limit(5)\n",
    "\n",
    "# Set parameters\n",
    "bands = ['B2', 'B3', 'B4']\n",
    "scale = 30\n",
    "name_pattern = '{sat}_{system_date}_{WRS_PATH:%d}-{WRS_ROW:%d}'\n",
    "## the keywords between curly brackets can be {system_date} for the date of the\n",
    "## image (formatted using `date_pattern` arg), {id} for the id of the image\n",
    "## and/or any image property. You can also pass extra keywords using the `extra`\n",
    "## argument. Also, numeric values can be formatted using a format string (as\n",
    "## shown in {WRS_PATH:%d} (%d means it will be converted to integer)\n",
    "date_pattern = 'ddMMMy' # dd: day, MMM: month (JAN), y: year\n",
    "folder = 'GEE_Images'\n",
    "data_type = 'uint32'\n",
    "extra = dict(sat='L8SR')\n",
    "region = site\n",
    "\n",
    "# ## Export\n",
    "tasks = ee.batch.Export.image.toDrive(\n",
    "            collection=collection,\n",
    "            folder=folder,\n",
    "            region=site,\n",
    "            namePattern=name_pattern,\n",
    "            scale=scale,\n",
    "            dataType=data_type,\n",
    "            datePattern=date_pattern,\n",
    "            extra=extra,\n",
    "            verbose=True,\n",
    "            maxPixels=int(1e13)\n",
    "        )"
   ]
  },
  {
   "cell_type": "code",
   "execution_count": null,
   "metadata": {},
   "outputs": [],
   "source": []
  }
 ],
 "metadata": {
  "kernelspec": {
   "display_name": "Python 3.8.10 64-bit",
   "language": "python",
   "name": "python3"
  },
  "language_info": {
   "codemirror_mode": {
    "name": "ipython",
    "version": 3
   },
   "file_extension": ".py",
   "mimetype": "text/x-python",
   "name": "python",
   "nbconvert_exporter": "python",
   "pygments_lexer": "ipython3",
   "version": "3.8.10"
  },
  "orig_nbformat": 4,
  "vscode": {
   "interpreter": {
    "hash": "916dbcbb3f70747c44a77c7bcd40155683ae19c65e1c03b4aa3499c5328201f1"
   }
  }
 },
 "nbformat": 4,
 "nbformat_minor": 2
}
